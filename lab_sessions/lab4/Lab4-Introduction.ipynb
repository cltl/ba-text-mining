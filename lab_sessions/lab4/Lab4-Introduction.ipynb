{
 "cells": [
  {
   "cell_type": "markdown",
   "metadata": {},
   "source": [
    "# Lab4-Introduction\n",
    "\n",
    "In this lab session we will cover Named Entity Recognition and Classification (NERC). Not all notebooks are required to be able to do the weekly assignment; some are provided as extra information. You may find them useful when working on your group projects, or you may want to work through them if you'd like some more advanced practice. \n",
    "\n",
    "## NERC\n",
    "\n",
    "For NERC, it is essential to work through:\n",
    "* Lab4a.1: Introduction to NERC\n",
    "* Lab4a.2-NERC-CRF.ipynb\n",
    "* Lab4a.4-NERC-with_transformers.ipynb\n",
    "\n",
    "Extra material can be found in notebook 4a.3:\n",
    "\n",
    "* Lab4a.3-NERC-CRF-Dutch.ipynb\n",
    "\n"
   ]
  }
 ],
 "metadata": {
  "kernelspec": {
   "display_name": "Python 3 (ipykernel)",
   "language": "python",
   "name": "python3"
  },
  "language_info": {
   "codemirror_mode": {
    "name": "ipython",
    "version": 3
   },
   "file_extension": ".py",
   "mimetype": "text/x-python",
   "name": "python",
   "nbconvert_exporter": "python",
   "pygments_lexer": "ipython3",
   "version": "3.12.3"
  }
 },
 "nbformat": 4,
 "nbformat_minor": 4
}
