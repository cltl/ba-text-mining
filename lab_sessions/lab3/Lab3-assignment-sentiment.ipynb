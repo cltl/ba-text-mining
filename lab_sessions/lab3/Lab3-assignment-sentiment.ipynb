{
 "cells": [
  {
   "cell_type": "markdown",
   "metadata": {},
   "source": [
    "# Lab3 - Assignment Sentiment"
   ]
  },
  {
   "cell_type": "markdown",
   "metadata": {},
   "source": [
    "Copyright: Vrije Universiteit Amsterdam, Faculty of Humanities, CLTL"
   ]
  },
  {
   "cell_type": "markdown",
   "metadata": {},
   "source": [
    "This notebook describes the LAB-2 assignment of the Text Mining course. It is about sentiment analysis.\n",
    "\n",
    "The aims of the assignment are:\n",
    "* Learn how to run a rule-based sentiment analysis module (VADER)\n",
    "* Learn how to run a machine learning sentiment analysis module (Scikit-Learn/ Naive Bayes)\n",
    "* Learn how to run scikit-learn metrics for the quantitative evaluation\n",
    "* Learn how to perform and interpret a quantitative evaluation of the outcomes of the tools (in terms of Precision, Recall, and F<sub>1</sub>)\n",
    "* Learn how to evaluate the results qualitatively (by examining the data) \n",
    "* Get insight into differences between the two applied methods\n",
    "* Get insight into the effects of using linguistic preprocessing\n",
    "* Be able to describe differences between the two methods in terms of their results\n",
    "* Get insight into issues when applying these methods across different  domains\n",
    "\n",
    "In this assignment, you are going to create your own gold standard set from 50 tweets. You will the VADER and scikit-learn classifiers to these tweets and evaluate the results by using evaluation metrics and inspecting the data.\n",
    "\n",
    "We recommend you go through the notebooks in the following order:\n",
    "* **Read the assignment (see below)**\n",
    "* **Lab3.2-Sentiment-analysis-with-VADER.ipynb**\n",
    "* **Lab3.3-Sentiment-analysis.with-scikit-learn.ipynb**\n",
    "* **Answer the questions of the assignment (see below) using the provided notebooks and submit**\n",
    "\n",
    "In this assignment you are asked to perform both quantitative evaluations and error analyses:\n",
    "* a quantitative evaluation concerns the scores (Precision, Recall, and F<sub>1</sub>) provided by scikit's classification_report. It includes the scores per category, as well as micro and macro averages. Discuss whether the scores are balanced or not between the different categories (positive, negative, neutral) and between precision and recall. Discuss the shortcomings (if any) of the classifier based on these scores\n",
    "* an error analysis regarding the misclassifications of the classifier. It involves going through the texts and trying to understand what has gone wrong. It servers to get insight in what could be done to improve the performance of the classifier. Do you observe patterns in misclassifications?  Discuss why these errors are made and propose ways to solve them."
   ]
  },
  {
   "cell_type": "markdown",
   "metadata": {},
   "source": [
    "## Credits\n",
    "The notebooks in this block have been originally created by [Marten Postma](https://martenpostma.github.io) and [Isa Maks](https://research.vu.nl/en/persons/e-maks). Adaptations were made by [Filip Ilievski](http://ilievski.nl)."
   ]
  },
  {
   "cell_type": "markdown",
   "metadata": {},
   "source": [
    "## Part I: VADER assignments\n",
    "\n",
    "\n",
    "### Preparation (nothing to submit):\n",
    "To be able to answer the VADER questions you need to know how the tool works. \n",
    "* Read more about the VADER tool in [this blog](http://t-redactyl.io/blog/2017/04/using-vader-to-handle-sentiment-analysis-with-social-media-text.html).  \n",
    "* VADER provides 4 scores (positive, negative, neutral, compound). Be sure to understand what they mean and how they are calculated.\n",
    "* VADER uses rules to handle linguistic phenomena such as negation and intensification. Be sure to understand which rules are used, how they work, and why they are important.\n",
    "* VADER makes use of a sentiment lexicon. Have a look at the lexicon. Be sure to understand which information can be found there (lemma?, wordform?, part-of-speech?, polarity value?, word meaning?) What do all scores mean? https://github.com/cjhutto/vaderSentiment/blob/master/vaderSentiment/vader_lexicon.txt) \n",
    "\n",
    "\n",
    "### [3.5 points] Question1:\n",
    "\n",
    "Regard the following sentences and their output as given by VADER. Regard sentences 1 to 7, and explain the outcome **for each sentence**. Take into account both the rules applied by VADER and the lexicon that is used. You will find that some of the results are reasonable, but others are not. Explain what is going wrong or not when correct and incorrect results are produced. \n",
    "\n",
    "```\n",
    "INPUT SENTENCE 1 I love apples\n",
    "VADER OUTPUT {'neg': 0.0, 'neu': 0.192, 'pos': 0.808, 'compound': 0.6369}\n",
    "\n",
    "INPUT SENTENCE 2 I don't love apples\n",
    "VADER OUTPUT {'neg': 0.627, 'neu': 0.373, 'pos': 0.0, 'compound': -0.5216}\n",
    "\n",
    "INPUT SENTENCE 3 I love apples :-)\n",
    "VADER OUTPUT {'neg': 0.0, 'neu': 0.133, 'pos': 0.867, 'compound': 0.7579}\n",
    "\n",
    "INPUT SENTENCE 4 These houses are ruins\n",
    "VADER OUTPUT {'neg': 0.492, 'neu': 0.508, 'pos': 0.0, 'compound': -0.4404}\n",
    "\n",
    "INPUT SENTENCE 5 These houses are certainly not considered ruins\n",
    "VADER OUTPUT {'neg': 0.0, 'neu': 0.51, 'pos': 0.49, 'compound': 0.5867}\n",
    "\n",
    "INPUT SENTENCE 6 He lies in the chair in the garden\n",
    "VADER OUTPUT {'neg': 0.286, 'neu': 0.714, 'pos': 0.0, 'compound': -0.4215}\n",
    "\n",
    "INPUT SENTENCE 7 This house is like any house\n",
    "VADER OUTPUT {'neg': 0.0, 'neu': 0.667, 'pos': 0.333, 'compound': 0.3612}\n",
    "```"
   ]
  },
  {
   "cell_type": "markdown",
   "metadata": {},
   "source": [
    "_**Answers:**_\n",
    "\n",
    "**Sentence 1:** The world love is a very positive word while apples is neutral so this makes the sentence really positive.\n",
    "\n",
    "**Sentence 2:** Love is a strong positive word but it is negated by the \"don't\" which makes this count as highly negative. This combined with the neurtrality of apples, the sentence becomes negative.\n",
    "\n",
    "**Sentence 3:** This is similar to the first sentence, but the smiley emoticon is positive which makes the compound more positive than the first sentence.\n",
    "\n",
    "**Sentence 4:** This sentence is generally a statement which is neutral but the \"ruins\" is negative which makes the compound, and hence sentence, negative.\n",
    "\n",
    "**Sentence 5:** Similar to sentence 4, the sentence is more of a statement but sinc the \"not\" negates the negativity of \"ruins\" making the description more positive. However, the \"considered\" is more factual, inclreasing the neutrality compared to sentence 4, which \"certainly\" is an added positive, which is why the compound is more than the compound of sentence 4.\n",
    "\n",
    "**Sentence 6:** The full statement is an observation which makes it neutral, however, the word \"lies\" is considered as he told a lie which is negative. Meaning the compound of this sentence is incorrect as it should only be neutral as there's nothing negative in the sentence.  \n",
    "\n",
    "**Sentence 7:** Overall the sentence is a statement which makes it mostly neutral, however the word \"like\" is considered as a positive word, even though the sentence would probably be considered as a negative by a human as it means the house is not special."
   ]
  },
  {
   "cell_type": "markdown",
   "metadata": {},
   "source": [
    "### [Points: 2.5] Exercise 2: Collecting 50 tweets for evaluation\n",
    "Collect 50 tweets. Try to find tweets that are interesting for sentiment analysis, e.g., very positive, neutral, and negative tweets. These could be your own tweets (typed in) or collected from the Twitter stream.\n",
    "\n",
    "We will store the tweets in the file **my_tweets.json** (use a text editor to edit).\n",
    "For each tweet, you should insert:\n",
    "* sentiment analysis label: negative | neutral | positive (this you determine yourself, this is not done by a computer)\n",
    "* the text of the tweet\n",
    "* the Tweet-URL\n",
    "\n",
    "from:\n",
    "```\n",
    "    \"1\": {\n",
    "        \"sentiment_label\": \"\",\n",
    "        \"text_of_tweet\": \"\",\n",
    "        \"tweet_url\": \"\",\n",
    "```\n",
    "to:\n",
    "```\n",
    "\"1\": {\n",
    "        \"sentiment_label\": \"positive\",\n",
    "        \"text_of_tweet\": \"All across America people chose to get involved, get engaged and stand up. Each of us can make a difference, and all of us ought to try. So go keep changing the world in 2018.\",\n",
    "        \"tweet_url\" : \"https://twitter.com/BarackObama/status/946775615893655552\",\n",
    "    },\n",
    "```"
   ]
  },
  {
   "cell_type": "markdown",
   "metadata": {},
   "source": [
    "You can load your tweets with human annotation in the following way."
   ]
  },
  {
   "cell_type": "code",
   "execution_count": 50,
   "metadata": {},
   "outputs": [],
   "source": [
    "import json"
   ]
  },
  {
   "cell_type": "code",
   "execution_count": 51,
   "metadata": {},
   "outputs": [],
   "source": [
    "my_tweets = json.load(open('my_tweets.json'))"
   ]
  },
  {
   "cell_type": "code",
   "execution_count": 52,
   "metadata": {},
   "outputs": [
    {
     "name": "stdout",
     "output_type": "stream",
     "text": [
      "1 {'sentiment_label': 'positive', 'text_of_tweet': 'Very happy to score my first goal with the blues. Come on!! Next round @ChelseaFC @EmiratesFACup', 'tweet_url': 'https://twitter.com/saulniguez/status/1499135951003697156'}\n"
     ]
    }
   ],
   "source": [
    "for id_, tweet_info in my_tweets.items():\n",
    "    print(id_, tweet_info)\n",
    "    break"
   ]
  },
  {
   "cell_type": "markdown",
   "metadata": {},
   "source": [
    "### [5 points] Question 3:\n",
    "\n",
    "Run VADER on your own tweets (see function **run_vader** from notebook **Lab2-Sentiment-analysis-using-VADER.ipynb**). You can use the code snippet below this explanation as a starting point. \n",
    "* [2.5 points] a. Perform a quantitative evaluation. Explain the different scores, and explain which scores are most relevant and why.\n",
    "* [2.5 points] b. Perform an error analysis: select 10 positive, 10 negative and 10 neutral tweets that are not correctly classified and try to understand why. Refer to the VADER-rules and the VADER-lexicon. Of course, if there are less than 10 errors for a category, you only have to check those. For example, if there are only 5 errors for positive tweets, you just describe those."
   ]
  },
  {
   "cell_type": "code",
   "execution_count": 53,
   "metadata": {},
   "outputs": [],
   "source": [
    "def vader_output_to_label(vader_output):\n",
    "    \"\"\"\n",
    "    map vader output e.g.,\n",
    "    {'neg': 0.0, 'neu': 0.0, 'pos': 1.0, 'compound': 0.4215}\n",
    "    to one of the following values:\n",
    "    a) positive float -> 'positive'\n",
    "    b) 0.0 -> 'neutral'\n",
    "    c) negative float -> 'negative'\n",
    "    \n",
    "    :param dict vader_output: output dict from vader\n",
    "    \n",
    "    :rtype: str\n",
    "    :return: 'negative' | 'neutral' | 'positive'\n",
    "    \"\"\"\n",
    "    compound = vader_output['compound']\n",
    "    \n",
    "    if compound < 0:\n",
    "        return 'negative'\n",
    "    elif compound == 0.0:\n",
    "        return 'neutral'\n",
    "    elif compound > 0.0:\n",
    "        return 'positive'\n",
    "    \n",
    "assert vader_output_to_label( {'neg': 0.0, 'neu': 0.0, 'pos': 1.0, 'compound': 0.0}) == 'neutral'\n",
    "assert vader_output_to_label( {'neg': 0.0, 'neu': 0.0, 'pos': 1.0, 'compound': 0.01}) == 'positive'\n",
    "assert vader_output_to_label( {'neg': 0.0, 'neu': 0.0, 'pos': 1.0, 'compound': -0.01}) == 'negative'"
   ]
  },
  {
   "cell_type": "code",
   "execution_count": 59,
   "metadata": {},
   "outputs": [
    {
     "name": "stdout",
     "output_type": "stream",
     "text": [
      "                                                 precision    recall  f1-score   support\n",
      "\n",
      "                                                      0.00      0.00      0.00         1\n",
      "                                       negative       0.77      0.50      0.61        20\n",
      "                                        neutral       0.40      0.40      0.40        10\n",
      "                                       positive       0.48      0.72      0.58        18\n",
      "she’s just a little guy who’s just here to vibe       0.00      0.00      0.00         1\n",
      "\n",
      "                                       accuracy                           0.54        50\n",
      "                                      macro avg       0.33      0.32      0.32        50\n",
      "                                   weighted avg       0.56      0.54      0.53        50\n",
      "\n"
     ]
    },
    {
     "name": "stderr",
     "output_type": "stream",
     "text": [
      "C:\\Users\\zahra_6hcxkfv\\anaconda3\\lib\\site-packages\\sklearn\\metrics\\_classification.py:1245: UndefinedMetricWarning: Precision and F-score are ill-defined and being set to 0.0 in labels with no predicted samples. Use `zero_division` parameter to control this behavior.\n",
      "  _warn_prf(average, modifier, msg_start, len(result))\n",
      "C:\\Users\\zahra_6hcxkfv\\anaconda3\\lib\\site-packages\\sklearn\\metrics\\_classification.py:1245: UndefinedMetricWarning: Precision and F-score are ill-defined and being set to 0.0 in labels with no predicted samples. Use `zero_division` parameter to control this behavior.\n",
      "  _warn_prf(average, modifier, msg_start, len(result))\n",
      "C:\\Users\\zahra_6hcxkfv\\anaconda3\\lib\\site-packages\\sklearn\\metrics\\_classification.py:1245: UndefinedMetricWarning: Precision and F-score are ill-defined and being set to 0.0 in labels with no predicted samples. Use `zero_division` parameter to control this behavior.\n",
      "  _warn_prf(average, modifier, msg_start, len(result))\n"
     ]
    }
   ],
   "source": [
    "import nltk\n",
    "from nltk.sentiment import vader\n",
    "from nltk.sentiment.vader import SentimentIntensityAnalyzer\n",
    "import spacy\n",
    "import pathlib\n",
    "import sklearn\n",
    "import numpy\n",
    "import nltk\n",
    "from nltk.corpus import stopwords\n",
    "from collections import Counter\n",
    "from sklearn.metrics import classification_report\n",
    "vader_model = SentimentIntensityAnalyzer()\n",
    "\n",
    "nlp = spacy.load('en_core_web_sm') # 'en_core_web_sm'\n",
    "cwd = pathlib.Path.cwd()\n",
    "tweets = cwd.joinpath('my_tweets.json')\n",
    "#print('path:', tweets)\n",
    "#print('this will print True if the folder exists:', tweets.exists())\n",
    "\n",
    "tweets = []\n",
    "all_vader_output = []\n",
    "gold = []\n",
    "\n",
    "\n",
    "# settings (to change for different experiments)\n",
    "to_lemmatize = True \n",
    "pos = set()\n",
    "\n",
    "for id_, tweet_info in my_tweets.items():\n",
    "    the_tweet = tweet_info['text_of_tweet']\n",
    "    vader_output = run_vader(the_tweet, lemmatize=True) # run vader\n",
    "    vader_label = vader_output_to_label(vader_output)# convert vader output to category\n",
    "    \n",
    "    tweets.append(the_tweet)\n",
    "    all_vader_output.append(vader_label)\n",
    "    gold.append(tweet_info['sentiment_label'])\n",
    "    \n",
    "# use scikit-learn's classification report\n",
    "report = classification_report(gold,all_vader_output)\n",
    "print(report)"
   ]
  },
  {
   "cell_type": "markdown",
   "metadata": {},
   "source": [
    "***Answers***\n",
    "\n",
    "a. The precision for the tweets analyzed using Vader seems to be overall not high. Indeed, the weighted average barely\n",
    "goes beyond 50% settling at 56%. Out of all the categories, negatives seem to perform better than neutral and positive.\n",
    "Whereas negative see a precision of 77%, neutral and positive do not reach the 50%, being 40% and 48% respectively.\n",
    "For what concerns recall, instead, the general weighted recall is also not high, reaching 54%. In the lead of \n",
    "highest recall is positive with 72%, followed by negative and neutral, 50% and 40% respectively. To sum up the\n",
    "two, we analyze the f1 score, which we can therefore consider as the most describing metric. Overall, the positive category\n",
    "seem to have a higher f1 score, namely 58%, neutral have 40% and negative 61%. The weighted average in this case is 53%. \n",
    "The results have a low f1, which is confirmed by the low accuracy of 54%. Considering the imbalance between the \n",
    "scores of the same categories across precision and recall, the most relevant metric to consider is the f1, which suggest that \n",
    "the category positives is the most relevant since it is the one with the highest score. Its high recall must mean that there\n",
    "are probably more positively categorized instances than actual positive instances. It might be due to the tweets set chosen."
   ]
  },
  {
   "cell_type": "code",
   "execution_count": 60,
   "metadata": {},
   "outputs": [
    {
     "name": "stdout",
     "output_type": "stream",
     "text": [
      "misclassified 1 NAH BRUH THIS ONE OF THE CRAZIEST THINGS IGE EVER SEEN BRON IS THE GOAT\n",
      "vader:  negative\n",
      "real class:  positive\n"
     ]
    }
   ],
   "source": [
    "errors = []\n",
    "scores = vader_model.polarity_scores(the_tweet)\n",
    "if tweet_info['sentiment_label'] != vader_output_to_label(scores):\n",
    "    errors.append((id_, vader_output_to_label(scores)))\n",
    "\n",
    "all_list = []\n",
    "index = 1\n",
    "for e in errors:\n",
    "    id_, sentiment_labeling = e\n",
    "    print(\"misclassified\", index, my_tweets[id_]['text_of_tweet'])\n",
    "    print(\"vader: \", sentiment_labeling)\n",
    "    print(\"real class: \", my_tweets[id_]['sentiment_label'])\n",
    "    index += 1"
   ]
  },
  {
   "cell_type": "markdown",
   "metadata": {},
   "source": [
    "***Answers***\n",
    "b.\n",
    "The only instance we got incorrectly classified was the following:\n",
    "\n",
    "misclassified 1 NAH BRUH THIS ONE OF THE CRAZIEST THINGS IGE EVER SEEN BRON IS THE GOAT\n",
    "vader:  negative\n",
    "real class:  positive\n",
    "\n",
    "The reason why it is misclassified is that the statement is sarcastic, therefore using words in a non-strict semantic manner. Indeed, literally \"nah\" is considered as negative in the lexicon, with a score of -0.4 and \"craziest\" is also considered as negative, scoring -0.2. Therefore, the statement is interpreted as overall negative."
   ]
  },
  {
   "cell_type": "markdown",
   "metadata": {},
   "source": [
    "### [4 points] Question 4:\n",
    "Run VADER on the set of airline tweets with the following settings:\n",
    "\n",
    "* Run VADER (as it is) on the set of airline tweets \n",
    "* Run VADER on the set of airline tweets after having lemmatized the text\n",
    "* Run VADER on the set of airline tweets with only adjectives\n",
    "* Run VADER on the set of airline tweets with only adjectives and after having lemmatized the text\n",
    "* Run VADER on the set of airline tweets with only nouns\n",
    "* Run VADER on the set of airline tweets with only nouns and after having lemmatized the text\n",
    "* Run VADER on the set of airline tweets with only verbs\n",
    "* Run VADER on the set of airline tweets with only verbs and after having lemmatized the text\n",
    "\n",
    "* [1 point] a. Generate for all separate experiments the classification report, i.e., Precision, Recall, and F<sub>1</sub> scores per category as well as micro and macro averages. **Use a different code cell (or multiple code cells) for each experiment.**\n",
    "* [3 points] b. Compare the scores and explain what they tell you.\n",
    "* - Does lemmatisation help? Explain why or why not.\n",
    "* - Are all parts of speech equally important for sentiment analysis? Explain why or why not."
   ]
  },
  {
   "cell_type": "code",
   "execution_count": 26,
   "metadata": {},
   "outputs": [],
   "source": [
    "#imports\n",
    "import nltk\n",
    "#nltk.download('vader_lexicon', quiet=False) #only need to run it once\n",
    "from nltk.sentiment import vader\n",
    "from nltk.sentiment.vader import SentimentIntensityAnalyzer\n",
    "import spacy\n",
    "import pathlib\n",
    "import sklearn\n",
    "import numpy\n",
    "import nltk\n",
    "from nltk.corpus import stopwords\n",
    "from collections import Counter\n",
    "from sklearn.metrics import classification_report"
   ]
  },
  {
   "cell_type": "code",
   "execution_count": 32,
   "metadata": {},
   "outputs": [
    {
     "name": "stdout",
     "output_type": "stream",
     "text": [
      "path: c:\\Users\\zahra_6hcxkfv\\ba-text-mining\\lab_sessions\\lab3\\airlinetweets\n",
      "this will print True if the folder exists: True\n"
     ]
    }
   ],
   "source": [
    "#Get the tweets\n",
    "cwd = pathlib.Path.cwd()\n",
    "airline_tweets_folder = cwd.joinpath('airlinetweets')\n",
    "print('path:', airline_tweets_folder)\n",
    "print('this will print True if the folder exists:', \n",
    "      airline_tweets_folder.exists())\n",
    "\n",
    "airline_tweets_train = load_files(\"C:/Users/zahra_6hcxkfv/ba-text-mining/lab_sessions/lab3/airlinetweets/airlinetweets\")"
   ]
  },
  {
   "cell_type": "code",
   "execution_count": 33,
   "metadata": {},
   "outputs": [],
   "source": [
    "#Vader\n",
    "nlp = spacy.load('en_core_web_sm') \n",
    "\n",
    "def run_vader(textual_unit, \n",
    "              lemmatize=False, \n",
    "              parts_of_speech_to_consider=None,\n",
    "              verbose=0):\n",
    "    \"\"\"\n",
    "    Run VADER on a sentence from spacy\n",
    "    \n",
    "    :param str textual unit: a textual unit, e.g., sentence, sentences (one string) (by looping over doc.sents)\n",
    "    :param bool lemmatize: If True, provide lemmas to VADER instead of words\n",
    "    :param set parts_of_speech_to_consider:\n",
    "        -None or empty set: all parts of speech are provided\n",
    "        -non-empty set: only these parts of speech are considered.\n",
    "    :param int verbose: if set to 1, information is printed about input and output\n",
    "    :rtype: dict\n",
    "    :return: vader output dict\n",
    "    \"\"\"\n",
    "    doc = nlp(textual_unit)\n",
    "        \n",
    "    input_to_vader = []\n",
    "\n",
    "    for sent in doc.sents:\n",
    "        for token in sent:\n",
    "            to_add = token.text\n",
    "            if lemmatize:\n",
    "                to_add = token.lemma_\n",
    "                if to_add == '-PRON-': \n",
    "                    to_add = token.text\n",
    "            if parts_of_speech_to_consider:\n",
    "                if token.pos_ in parts_of_speech_to_consider:\n",
    "                    input_to_vader.append(to_add) \n",
    "            else:\n",
    "                input_to_vader.append(to_add)\n",
    "\n",
    "    scores = vader_model.polarity_scores(' '.join(input_to_vader))\n",
    "    \n",
    "    if verbose >= 1:\n",
    "        print()\n",
    "        print('INPUT SENTENCE', sent)\n",
    "        print('INPUT TO VADER', input_to_vader)\n",
    "        print('VADER OUTPUT', scores)\n",
    "\n",
    "    return scores"
   ]
  },
  {
   "cell_type": "code",
   "execution_count": 34,
   "metadata": {},
   "outputs": [],
   "source": [
    "# output to label\n",
    "def vader_output_to_label(vader_output):\n",
    "    \"\"\"\n",
    "    map vader output e.g.,\n",
    "    {'neg': 0.0, 'neu': 0.0, 'pos': 1.0, 'compound': 0.4215}\n",
    "    to one of the following values:\n",
    "    a) positive float -> 'positive'\n",
    "    b) 0.0 -> 'neutral'\n",
    "    c) negative float -> 'negative'\n",
    "    \n",
    "    :param dict vader_output: output dict from vader\n",
    "    \n",
    "    :rtype: str\n",
    "    :return: 'negative' | 'neutral' | 'positive'\n",
    "    \"\"\"\n",
    "    compound = vader_output['compound']\n",
    "    \n",
    "    if compound < 0:\n",
    "        return 'negative'\n",
    "    elif compound == 0.0:\n",
    "        return 'neutral'\n",
    "    elif compound > 0.0:\n",
    "        return 'positive'\n",
    "    \n",
    "assert vader_output_to_label( {'neg': 0.0, 'neu': 0.0, 'pos': 1.0, 'compound': 0.0}) == 'neutral'\n",
    "assert vader_output_to_label( {'neg': 0.0, 'neu': 0.0, 'pos': 1.0, 'compound': 0.01}) == 'positive'\n",
    "assert vader_output_to_label( {'neg': 0.0, 'neu': 0.0, 'pos': 1.0, 'compound': -0.01}) == 'negative'"
   ]
  },
  {
   "cell_type": "code",
   "execution_count": 35,
   "metadata": {},
   "outputs": [],
   "source": [
    "# Run VADER (as it is) on the set of airline tweets \n",
    "vader_model = SentimentIntensityAnalyzer() #reset model\n",
    "\n",
    "tweets = []\n",
    "all_vader_output = []\n",
    "gold = []\n",
    "\n",
    "for i in range(len(airline_tweets_train.data)):\n",
    "    the_tweet = str(airline_tweets_train.data[i])\n",
    "    vader_output = run_vader(the_tweet)\n",
    "    vader_label = vader_output_to_label(vader_output) \n",
    "    \n",
    "    tweets.append(the_tweet)\n",
    "    all_vader_output.append(vader_label)\n",
    "    gold.append(airline_tweets_train.target_names[airline_tweets_train.target[i]])"
   ]
  },
  {
   "cell_type": "code",
   "execution_count": 36,
   "metadata": {},
   "outputs": [
    {
     "name": "stdout",
     "output_type": "stream",
     "text": [
      "              precision    recall  f1-score   support\n",
      "\n",
      "    negative       0.80      0.51      0.63      1750\n",
      "     neutral       0.60      0.51      0.55      1515\n",
      "    positive       0.56      0.88      0.68      1490\n",
      "\n",
      "    accuracy                           0.63      4755\n",
      "   macro avg       0.65      0.63      0.62      4755\n",
      "weighted avg       0.66      0.63      0.62      4755\n",
      "\n"
     ]
    }
   ],
   "source": [
    "# analyize\n",
    "report = classification_report(gold,all_vader_output)\n",
    "print(report)"
   ]
  },
  {
   "cell_type": "code",
   "execution_count": null,
   "metadata": {},
   "outputs": [],
   "source": [
    "# Run VADER on the set of airline tweets after having lemmatized the text\n",
    "vader_model = SentimentIntensityAnalyzer() #reset model\n",
    "\n",
    "tweets = []\n",
    "all_vader_output = []\n",
    "gold = []\n",
    "\n",
    "for i in range(len(airline_tweets_train.data)):\n",
    "    the_tweet = str(airline_tweets_train.data[i])\n",
    "    vader_output = run_vader(the_tweet,lemmatize=True)\n",
    "    vader_label = vader_output_to_label(vader_output) \n",
    "    \n",
    "    tweets.append(the_tweet)\n",
    "    all_vader_output.append(vader_label)\n",
    "    gold.append(airline_tweets_train.target_names[airline_tweets_train.target[i]])"
   ]
  },
  {
   "cell_type": "code",
   "execution_count": null,
   "metadata": {},
   "outputs": [],
   "source": [
    "# analyize\n",
    "report = classification_report(gold,all_vader_output)\n",
    "print(report)"
   ]
  },
  {
   "cell_type": "code",
   "execution_count": null,
   "metadata": {},
   "outputs": [],
   "source": [
    "# Run VADER on the set of airline tweets with only adjectives\n",
    "vader_model = SentimentIntensityAnalyzer() #reset model\n",
    "\n",
    "tweets = []\n",
    "all_vader_output = []\n",
    "gold = []\n",
    "\n",
    "for i in range(len(airline_tweets_train.data)):\n",
    "    the_tweet = str(airline_tweets_train.data[i])\n",
    "    vader_output = run_vader(the_tweet, parts_of_speech_to_consider={'ADJ'})\n",
    "    vader_label = vader_output_to_label(vader_output) \n",
    "    \n",
    "    tweets.append(the_tweet)\n",
    "    all_vader_output.append(vader_label)\n",
    "    gold.append(airline_tweets_train.target_names[airline_tweets_train.target[i]])"
   ]
  },
  {
   "cell_type": "code",
   "execution_count": null,
   "metadata": {},
   "outputs": [],
   "source": [
    "# analyize\n",
    "report = classification_report(gold,all_vader_output)\n",
    "print(report)"
   ]
  },
  {
   "cell_type": "code",
   "execution_count": null,
   "metadata": {},
   "outputs": [],
   "source": [
    "# Run VADER on the set of airline tweets with only adjectives and after having lemmatized the text\n",
    "vader_model = SentimentIntensityAnalyzer() #reset model\n",
    "\n",
    "tweets = []\n",
    "all_vader_output = []\n",
    "gold = []\n",
    "\n",
    "for i in range(len(airline_tweets_train.data)):\n",
    "    the_tweet = str(airline_tweets_train.data[i])\n",
    "    vader_output = run_vader(the_tweet, lemmatize=True, parts_of_speech_to_consider={'ADJ'})\n",
    "    vader_label = vader_output_to_label(vader_output) \n",
    "    \n",
    "    tweets.append(the_tweet)\n",
    "    all_vader_output.append(vader_label)\n",
    "    gold.append(airline_tweets_train.target_names[airline_tweets_train.target[i]])"
   ]
  },
  {
   "cell_type": "code",
   "execution_count": null,
   "metadata": {},
   "outputs": [],
   "source": [
    "# analyize\n",
    "report = classification_report(gold,all_vader_output)\n",
    "print(report)"
   ]
  },
  {
   "cell_type": "code",
   "execution_count": null,
   "metadata": {},
   "outputs": [],
   "source": [
    "# Run VADER on the set of airline tweets with only nouns\n",
    "vader_model = SentimentIntensityAnalyzer() #reset model\n",
    "\n",
    "tweets = []\n",
    "all_vader_output = []\n",
    "gold = []\n",
    "\n",
    "for i in range(len(airline_tweets_train.data)):\n",
    "    the_tweet = str(airline_tweets_train.data[i])\n",
    "    vader_output = run_vader(the_tweet, parts_of_speech_to_consider={'NOUN'})\n",
    "    vader_label = vader_output_to_label(vader_output) \n",
    "    \n",
    "    tweets.append(the_tweet)\n",
    "    all_vader_output.append(vader_label)\n",
    "    gold.append(airline_tweets_train.target_names[airline_tweets_train.target[i]])"
   ]
  },
  {
   "cell_type": "code",
   "execution_count": null,
   "metadata": {},
   "outputs": [],
   "source": [
    "# analyize\n",
    "report = classification_report(gold,all_vader_output)\n",
    "print(report)"
   ]
  },
  {
   "cell_type": "code",
   "execution_count": null,
   "metadata": {},
   "outputs": [],
   "source": [
    "# Run VADER on the set of airline tweets with only nouns and after having lemmatized the text\n",
    "vader_model = SentimentIntensityAnalyzer() #reset model\n",
    "\n",
    "tweets = []\n",
    "all_vader_output = []\n",
    "gold = []\n",
    "\n",
    "for i in range(len(airline_tweets_train.data)):\n",
    "    the_tweet = str(airline_tweets_train.data[i])\n",
    "    vader_output = run_vader(the_tweet, lemmatize=True, parts_of_speech_to_consider={'NOUN'})\n",
    "    vader_label = vader_output_to_label(vader_output) \n",
    "    \n",
    "    tweets.append(the_tweet)\n",
    "    all_vader_output.append(vader_label)\n",
    "    gold.append(airline_tweets_train.target_names[airline_tweets_train.target[i]])"
   ]
  },
  {
   "cell_type": "code",
   "execution_count": null,
   "metadata": {},
   "outputs": [],
   "source": [
    "# analyize\n",
    "report = classification_report(gold,all_vader_output)\n",
    "print(report)"
   ]
  },
  {
   "cell_type": "code",
   "execution_count": null,
   "metadata": {},
   "outputs": [],
   "source": [
    "# Run VADER on the set of airline tweets with only verbs\n",
    "vader_model = SentimentIntensityAnalyzer() #reset model\n",
    "\n",
    "tweets = []\n",
    "all_vader_output = []\n",
    "gold = []\n",
    "\n",
    "for i in range(len(airline_tweets_train.data)):\n",
    "    the_tweet = str(airline_tweets_train.data[i])\n",
    "    vader_output = run_vader(the_tweet, parts_of_speech_to_consider={'VERB'})\n",
    "    vader_label = vader_output_to_label(vader_output) \n",
    "    \n",
    "    tweets.append(the_tweet)\n",
    "    all_vader_output.append(vader_label)\n",
    "    gold.append(airline_tweets_train.target_names[airline_tweets_train.target[i]])"
   ]
  },
  {
   "cell_type": "code",
   "execution_count": null,
   "metadata": {},
   "outputs": [],
   "source": [
    "# analyize\n",
    "report = classification_report(gold,all_vader_output)\n",
    "print(report)"
   ]
  },
  {
   "cell_type": "code",
   "execution_count": null,
   "metadata": {},
   "outputs": [],
   "source": [
    "# Run VADER on the set of airline tweets with only verbs and after having lemmatized the text\n",
    "vader_model = SentimentIntensityAnalyzer() #reset model\n",
    "\n",
    "tweets = []\n",
    "all_vader_output = []\n",
    "gold = []\n",
    "\n",
    "for i in range(len(airline_tweets_train.data)):\n",
    "    the_tweet = str(airline_tweets_train.data[i])\n",
    "    vader_output = run_vader(the_tweet, lemmatize=True, parts_of_speech_to_consider={'VERB'})\n",
    "    vader_label = vader_output_to_label(vader_output) \n",
    "    \n",
    "    tweets.append(the_tweet)\n",
    "    all_vader_output.append(vader_label)\n",
    "    gold.append(airline_tweets_train.target_names[airline_tweets_train.target[i]])"
   ]
  },
  {
   "cell_type": "code",
   "execution_count": null,
   "metadata": {},
   "outputs": [],
   "source": [
    "# analyize\n",
    "report = classification_report(gold,all_vader_output)\n",
    "print(report)"
   ]
  },
  {
   "cell_type": "markdown",
   "metadata": {},
   "source": [
    "**Comparison:**\n",
    "Firstly, we will compare how well the models perform when with and without lemmatizing the text. Since the data is balanced considering the 3 classes have similar instances, namely 1750, 1515, and 1490 for negative, neutral, and positive respectively, we will focus on the macro average instead of the weighted average, however, the micro average, or the accuracy, will be used for an overall comparison of performance, regardless of class. \n",
    "\n",
    "For the basic model, the precision has a macro average of 0.65, while the recall is 0.63, leaving the f1_score at 0.62, and the accuracy, or micro average at 0.63. While, for the basic model with lemmatizing the text, the precision is 0.65, recall is 0.63, f1_score of 0.62, and accuracy of 0.62. This means the difference between the models is only evident in the accuracy score, however since the difference is only 0.01, we will consider that lemmatizing the text has no effect on the basic model.\n",
    "\n",
    "For the model concerning the adjectives, the model without lemmatizing the text has a precision of 0.65, recall of 0.52, and f1_score of 0.48, which the accuracy is 0.50. While the same model but with lemmatized text, the precision is 0.65, recall is 0.52, f1_score is 0.48, and accuracy is 0.50. Similar to the previous situation, the comparison between lemmatized and none-lemmatized shows that lemmatizing the text has no effect on the model.\n",
    "\n",
    "For the model concerning the nouns, the model without lemmatizing the text has a precision of 0.54, recall of 0.43, and f1_score of 0.38, which the accuracy is 0.42. While the same model but with lemmatized text, the precision is 0.53, recall is 0.43, f1_score is 0.39, and accuracy is 0.42. Similar to the previous situations, the comparison between lemmatized and none-lemmatized shows that lemmatizing the text has no effect on the model.\n",
    "\n",
    "Finally, For the model concerning the verbs, the model without lemmatizing the text has a precision of 0.58, recall of 0.48, and f1_score of 0.45, which the accuracy is 0.47. While the same model but with lemmatized text, the precision is 0.56, recall is 0.47, f1_score is 0.45, and accuracy is 0.47. Similar to the previous situations, the comparison between lemmatized and none-lemmatized shows that lemmatizing the text has no effect on the model.\n",
    "\n",
    "Therefore, we can conclude that lemmatizing the text only has no effect on the model's performance, especially in the accuracy as it's always the same in both models of lemmatizing and none-lemmatizing.\n",
    "\n",
    "Secondly, we compare the performances between the models, in which the comparison will be divided upon comparing the models with lemmatized text and models without. In the case of none-lemmatized text, the model with the most precision is the model that filters on the adjectives part-of-speech, and the basic model with the same 0.65 precision. However, the nouns and verbs models have significantly lower precision with a difference of 0.70 and 0.11 difference. The verbs model is the higher of the two with again a 0.02 difference between it and the nouns model. However, when considering the recall of the models, the basic model performs significantly better than the other three, with a 0.11 difference between the adjectives model, 0.20 with the nouns model, and 0.15 with the verbs model. However, when we check the f1_scores of the models, we can conclude that the basic model performs much better than the other models, which is supported by the accuracy comparison.\n",
    "\n",
    "Now looking at the models with lemmatized text, we can see the same pattern of the basic model performing better than the others overall, with the adjectives model being second, followed by the verbs model then the nouns model.\n",
    "\n",
    "A reason for this observation could be that since tweets are normally short, only focusing on parts of the sentence does not allow the model to perform well, and the reason for the nouns model performing the worst is because the nouns usually do not give a good indication of the label of a sentence or tweet, but rather give context. Similarly, verbs do not give a good indication of the nature of the tweet, unless it's an extreme verb like crashed would be negative or smiled would be positive but most verbs would be neutral like walked, said, etc. Similarly, with lemmatizing text, it doesn't have much of an effect on the label of the text as for example crash and crashed are both negative, and hence returning the word to its base/dictionary form doesn't have much of an effect on how positive, negative, or neutral it is."
   ]
  },
  {
   "cell_type": "markdown",
   "metadata": {},
   "source": [
    "## Part II: scikit-learn assignments\n",
    "### [4 points] Question 5\n",
    "Train the scikit-learn classifier (Naive Bayes) using the airline tweets.\n",
    "\n",
    "+ Train the model on the airline tweets with 80% training and 20% test set and default settings (TF-IDF representation, min_df=2)\n",
    "+ Train with different settings:\n",
    "    + with respect to vectorizing: TF-IDF ('airline_tfidf') vs. Bag of words representation ('airline_count') \n",
    "    + with respect to the frequency threshold (min_df). Carry out experiments with increasing values for document frequency (min_df = 2; min_df = 5; min_df =10) \n",
    "* [1 point] a. Generate a classification_report for all experiments\n",
    "* [3 points] b. Look at the results of the experiments with the different settings and try to explain why they differ: \n",
    "    + which category performs best, is this the case for any setting?\n",
    "    + does the frequency threshold affect the scores? Why or why not according to you?"
   ]
  },
  {
   "cell_type": "code",
   "execution_count": 28,
   "metadata": {},
   "outputs": [],
   "source": [
    "import pathlib\n",
    "import sklearn\n",
    "import numpy\n",
    "import nltk\n",
    "from nltk.corpus import stopwords\n",
    "from collections import Counter\n",
    "from sklearn.datasets import load_files\n",
    "from sklearn.feature_extraction.text import CountVectorizer\n",
    "from sklearn.feature_extraction.text import TfidfTransformer\n",
    "from sklearn.naive_bayes import MultinomialNB\n",
    "from sklearn.model_selection import train_test_split\n",
    "from sklearn.metrics import classification_report"
   ]
  },
  {
   "cell_type": "code",
   "execution_count": 30,
   "metadata": {},
   "outputs": [],
   "source": [
    "cwd = pathlib.Path.cwd()\n",
    "airline_tweets_folder = cwd.joinpath('airlinetweets')\n",
    "airline_tweets_train = load_files(\"C:/Users/zahra_6hcxkfv/ba-text-mining/lab_sessions/lab3/airlinetweets/airlinetweets\")\n"
   ]
  },
  {
   "cell_type": "code",
   "execution_count": 31,
   "metadata": {},
   "outputs": [
    {
     "name": "stderr",
     "output_type": "stream",
     "text": [
      "C:\\Users\\zahra_6hcxkfv\\anaconda3\\lib\\site-packages\\sklearn\\feature_extraction\\text.py:388: UserWarning: Your stop_words may be inconsistent with your preprocessing. Tokenizing the stop words generated tokens [\"'d\", \"'ll\", \"'re\", \"'s\", \"'ve\", 'could', 'might', 'must', \"n't\", 'need', 'sha', 'wo', 'would'] not in stop_words.\n",
      "  warnings.warn('Your stop_words may be inconsistent with '\n"
     ]
    }
   ],
   "source": [
    "# initialize airline object, and then turn airline tweets train data into a vector \n",
    "\n",
    "airline_vec = CountVectorizer(min_df=2, # If a token appears fewer times than this, across all documents, it will be ignored\n",
    "                             tokenizer=nltk.word_tokenize, # we use the nltk tokenizer\n",
    "                             stop_words=stopwords.words('english')) # stopwords are removed\n",
    "\n",
    "airline_counts = airline_vec.fit_transform(airline_tweets_train.data)\n",
    "# Convert raw frequency counts into TF-IDF values\n",
    "tfidf_transformer = TfidfTransformer()\n",
    "airline_tfidf = tfidf_transformer.fit_transform(airline_counts)"
   ]
  },
  {
   "cell_type": "code",
   "execution_count": 37,
   "metadata": {},
   "outputs": [],
   "source": [
    "# airline tweets 80/20 split, tf-idf, min_df=2\n",
    "docs_train, docs_test, y_train, y_test = train_test_split(\n",
    "    airline_tfidf, # the tf-idf model\n",
    "    airline_tweets_train.target, # the category values for each tweet \n",
    "    test_size = 0.20 # we use 80% for training and 20% for development\n",
    "    ) "
   ]
  },
  {
   "cell_type": "code",
   "execution_count": 38,
   "metadata": {},
   "outputs": [],
   "source": [
    "clf = MultinomialNB().fit(docs_train, y_train)\n",
    "y_pred = clf.predict(docs_test)"
   ]
  },
  {
   "cell_type": "code",
   "execution_count": 39,
   "metadata": {},
   "outputs": [
    {
     "name": "stdout",
     "output_type": "stream",
     "text": [
      "Results for airline tweets with 80/20 split, tf-idf, min_df=2\n",
      "              precision    recall  f1-score   support\n",
      "\n",
      "           0      0.810     0.905     0.854       357\n",
      "           1      0.809     0.699     0.750       296\n",
      "           2      0.845     0.839     0.842       298\n",
      "\n",
      "    accuracy                          0.820       951\n",
      "   macro avg      0.821     0.814     0.815       951\n",
      "weighted avg      0.820     0.820     0.818       951\n",
      "\n"
     ]
    }
   ],
   "source": [
    "report = classification_report(y_test,y_pred,digits = 3)\n",
    "\n",
    "print(\"Results for airline tweets with 80/20 split, tf-idf, min_df=2\")\n",
    "print(report)"
   ]
  },
  {
   "cell_type": "code",
   "execution_count": 40,
   "metadata": {},
   "outputs": [],
   "source": [
    "# airline tweets 80/20 split, bag-of-words\n",
    "docs_train1, docs_test1, y_train1, y_test1 = train_test_split(\n",
    "    airline_counts, # the bag-of-words model\n",
    "    airline_tweets_train.target, # the category values for each tweet \n",
    "    test_size = 0.20 # we use 80% for training and 20% for development\n",
    "    ) "
   ]
  },
  {
   "cell_type": "code",
   "execution_count": 41,
   "metadata": {},
   "outputs": [
    {
     "name": "stdout",
     "output_type": "stream",
     "text": [
      "Results for airline tweets with 80/20 split, bag-of-words\n",
      "              precision    recall  f1-score   support\n",
      "\n",
      "           0      0.863     0.919     0.890       357\n",
      "           1      0.870     0.754     0.808       285\n",
      "           2      0.852     0.893     0.872       309\n",
      "\n",
      "    accuracy                          0.861       951\n",
      "   macro avg      0.862     0.855     0.857       951\n",
      "weighted avg      0.862     0.861     0.860       951\n",
      "\n"
     ]
    }
   ],
   "source": [
    "clf1 = MultinomialNB().fit(docs_train1, y_train1)\n",
    "y_pred1 = clf1.predict(docs_test1)\n",
    "\n",
    "report1 = classification_report(y_test1,y_pred1,digits = 3)\n",
    "\n",
    "print(\"Results for airline tweets with 80/20 split, bag-of-words\")\n",
    "print(report1)"
   ]
  },
  {
   "cell_type": "code",
   "execution_count": 42,
   "metadata": {},
   "outputs": [
    {
     "name": "stderr",
     "output_type": "stream",
     "text": [
      "C:\\Users\\zahra_6hcxkfv\\anaconda3\\lib\\site-packages\\sklearn\\feature_extraction\\text.py:388: UserWarning: Your stop_words may be inconsistent with your preprocessing. Tokenizing the stop words generated tokens [\"'d\", \"'ll\", \"'re\", \"'s\", \"'ve\", 'could', 'might', 'must', \"n't\", 'need', 'sha', 'wo', 'would'] not in stop_words.\n",
      "  warnings.warn('Your stop_words may be inconsistent with '\n"
     ]
    }
   ],
   "source": [
    "# airline tweets 80/20 split, tf-idf, min_df=5\n",
    "airline_vec2 = CountVectorizer(min_df=5, # If a token appears fewer times than this, across all documents, it will be ignored\n",
    "                             tokenizer=nltk.word_tokenize, # we use the nltk tokenizer\n",
    "                             stop_words=stopwords.words('english')) # stopwords are removed\n",
    "airline_counts2 = airline_vec2.fit_transform(airline_tweets_train.data)\n",
    "tfidf_transformer = TfidfTransformer()\n",
    "airline_tfidf2 = tfidf_transformer.fit_transform(airline_counts2)\n",
    "\n",
    "docs_train2, docs_test2, y_train2, y_test2 = train_test_split(\n",
    "    airline_tfidf2, # the tf-idf model\n",
    "    airline_tweets_train.target, # the category values for each tweet \n",
    "    test_size = 0.20 # we use 80% for training and 20% for development\n",
    "    ) "
   ]
  },
  {
   "cell_type": "code",
   "execution_count": 44,
   "metadata": {},
   "outputs": [
    {
     "name": "stdout",
     "output_type": "stream",
     "text": [
      "Results for airline tweets with 80/20 split, tf-idf, min_df=5\n",
      "              precision    recall  f1-score   support\n",
      "\n",
      "           0      0.828     0.897     0.861       349\n",
      "           1      0.803     0.747     0.774       273\n",
      "           2      0.850     0.824     0.836       329\n",
      "\n",
      "    accuracy                          0.829       951\n",
      "   macro avg      0.827     0.823     0.824       951\n",
      "weighted avg      0.828     0.829     0.828       951\n",
      "\n"
     ]
    }
   ],
   "source": [
    "clf2 = MultinomialNB().fit(docs_train2, y_train2)\n",
    "y_pred2 = clf2.predict(docs_test2)\n",
    "\n",
    "report2 = classification_report(y_test2,y_pred2,digits = 3)\n",
    "\n",
    "print(\"Results for airline tweets with 80/20 split, tf-idf, min_df=5\")\n",
    "print(report2)"
   ]
  },
  {
   "cell_type": "code",
   "execution_count": 45,
   "metadata": {},
   "outputs": [
    {
     "name": "stderr",
     "output_type": "stream",
     "text": [
      "C:\\Users\\zahra_6hcxkfv\\anaconda3\\lib\\site-packages\\sklearn\\feature_extraction\\text.py:388: UserWarning: Your stop_words may be inconsistent with your preprocessing. Tokenizing the stop words generated tokens [\"'d\", \"'ll\", \"'re\", \"'s\", \"'ve\", 'could', 'might', 'must', \"n't\", 'need', 'sha', 'wo', 'would'] not in stop_words.\n",
      "  warnings.warn('Your stop_words may be inconsistent with '\n"
     ]
    }
   ],
   "source": [
    "# airline tweets 80/20 split, tf-idf, min_df=10\n",
    "airline_vec3 = CountVectorizer(min_df=10, # If a token appears fewer times than this, across all documents, it will be ignored\n",
    "                             tokenizer=nltk.word_tokenize, # we use the nltk tokenizer\n",
    "                             stop_words=stopwords.words('english')) # stopwords are removed\n",
    "airline_counts3 = airline_vec3.fit_transform(airline_tweets_train.data)\n",
    "tfidf_transformer = TfidfTransformer()\n",
    "airline_tfidf3 = tfidf_transformer.fit_transform(airline_counts3)\n",
    "\n",
    "docs_train3, docs_test3, y_train3, y_test3 = train_test_split(\n",
    "    airline_tfidf3, # the tf-idf model\n",
    "    airline_tweets_train.target, # the category values for each tweet \n",
    "    test_size = 0.20 # we use 80% for training and 20% for development\n",
    "    ) "
   ]
  },
  {
   "cell_type": "code",
   "execution_count": 46,
   "metadata": {},
   "outputs": [
    {
     "name": "stdout",
     "output_type": "stream",
     "text": [
      "Results for airline tweets with 80/20 split, tf-idf, min_df=10\n",
      "              precision    recall  f1-score   support\n",
      "\n",
      "           0      0.802     0.868     0.833       340\n",
      "           1      0.787     0.710     0.747       307\n",
      "           2      0.804     0.809     0.807       304\n",
      "\n",
      "    accuracy                          0.798       951\n",
      "   macro avg      0.798     0.796     0.795       951\n",
      "weighted avg      0.798     0.798     0.797       951\n",
      "\n"
     ]
    }
   ],
   "source": [
    "clf3 = MultinomialNB().fit(docs_train3, y_train3)\n",
    "y_pred3 = clf3.predict(docs_test3)\n",
    "\n",
    "report3 = classification_report(y_test3,y_pred3,digits = 3)\n",
    "\n",
    "print(\"Results for airline tweets with 80/20 split, tf-idf, min_df=10\")\n",
    "print(report3)"
   ]
  },
  {
   "cell_type": "markdown",
   "metadata": {},
   "source": [
    "**Q5a Classification reports gathered below**"
   ]
  },
  {
   "cell_type": "code",
   "execution_count": 47,
   "metadata": {},
   "outputs": [
    {
     "name": "stdout",
     "output_type": "stream",
     "text": [
      "Results for airline tweets with 80/20 split, tf-idf, min_df=2\n",
      "              precision    recall  f1-score   support\n",
      "\n",
      "           0      0.810     0.905     0.854       357\n",
      "           1      0.809     0.699     0.750       296\n",
      "           2      0.845     0.839     0.842       298\n",
      "\n",
      "    accuracy                          0.820       951\n",
      "   macro avg      0.821     0.814     0.815       951\n",
      "weighted avg      0.820     0.820     0.818       951\n",
      "\n",
      "Results for airline tweets with 80/20 split, bag-of-words\n",
      "              precision    recall  f1-score   support\n",
      "\n",
      "           0      0.863     0.919     0.890       357\n",
      "           1      0.870     0.754     0.808       285\n",
      "           2      0.852     0.893     0.872       309\n",
      "\n",
      "    accuracy                          0.861       951\n",
      "   macro avg      0.862     0.855     0.857       951\n",
      "weighted avg      0.862     0.861     0.860       951\n",
      "\n"
     ]
    }
   ],
   "source": [
    "print(\"Results for airline tweets with 80/20 split, tf-idf, min_df=2\")\n",
    "print(report)\n",
    "\n",
    "print(\"Results for airline tweets with 80/20 split, bag-of-words\")\n",
    "print(report1)\n"
   ]
  },
  {
   "cell_type": "code",
   "execution_count": 48,
   "metadata": {},
   "outputs": [
    {
     "name": "stdout",
     "output_type": "stream",
     "text": [
      "Results for airline tweets with 80/20 split, tf-idf, min_df=5\n",
      "              precision    recall  f1-score   support\n",
      "\n",
      "           0      0.828     0.897     0.861       349\n",
      "           1      0.803     0.747     0.774       273\n",
      "           2      0.850     0.824     0.836       329\n",
      "\n",
      "    accuracy                          0.829       951\n",
      "   macro avg      0.827     0.823     0.824       951\n",
      "weighted avg      0.828     0.829     0.828       951\n",
      "\n",
      "Results for airline tweets with 80/20 split, tf-idf, min_df=10\n",
      "              precision    recall  f1-score   support\n",
      "\n",
      "           0      0.802     0.868     0.833       340\n",
      "           1      0.787     0.710     0.747       307\n",
      "           2      0.804     0.809     0.807       304\n",
      "\n",
      "    accuracy                          0.798       951\n",
      "   macro avg      0.798     0.796     0.795       951\n",
      "weighted avg      0.798     0.798     0.797       951\n",
      "\n"
     ]
    }
   ],
   "source": [
    "print(\"Results for airline tweets with 80/20 split, tf-idf, min_df=5\")\n",
    "print(report2)\n",
    "\n",
    "print(\"Results for airline tweets with 80/20 split, tf-idf, min_df=10\")\n",
    "print(report3)"
   ]
  },
  {
   "cell_type": "markdown",
   "metadata": {},
   "source": [
    "**Q5b**\n",
    "The bag-of-words approach seems to get the best results, as indicated by the f1-score. It has higher f1-scores than all three of the tf-idf results for each category (so positive/neutral/negative). The accuracy score is also higher with the bag-of-words approach. \n",
    "\n",
    "The frequency threshold does have a slight influence on the categories separately, as indicated by the f1-scores. However, it doesn't seem to have too much of an influence on the bigger picture, as all three of the tf-idf strategies have nearly the same accuracy (0.816/0.817/0.816)."
   ]
  },
  {
   "cell_type": "markdown",
   "metadata": {},
   "source": [
    "### [4 points] Question 6: Inspecting the best scoring features \n",
    "\n",
    "+ Train the scikit-learn classifier (Naive Bayes) model with the following settings (airline tweets 80% training and 20% test;  Bag of words representation ('airline_count'), min_df=2)\n",
    "* [1 point] a. Generate the list of best scoring features per class (see function **important_features_per_class** below) [1 point]\n",
    "* [3 points] b. Look at the lists and consider the following issues: \n",
    "    + [1 point] Which features did you expect for each separate class and why?\n",
    "    + [1 point] Which features did you not expect and why ? \n",
    "    + [1 point] The list contains all kinds of words such as names of airlines, punctuation, numbers and content words (e.g., 'delay' and 'bad'). Which words would you remove or keep when trying to improve the model and why? "
   ]
  },
  {
   "cell_type": "code",
   "execution_count": 49,
   "metadata": {},
   "outputs": [
    {
     "name": "stdout",
     "output_type": "stream",
     "text": [
      "Important words in negative documents\n",
      "0 157.88531551543522 united\n",
      "0 113.873151027286 .\n",
      "0 98.12839667842987 ``\n",
      "0 96.98103486178553 @\n",
      "0 55.646084640149795 flight\n",
      "0 50.57437534912116 ?\n",
      "0 45.08738792587808 #\n",
      "0 40.9325096519484 !\n",
      "0 40.838513332793184 n't\n",
      "0 32.74447996440087 ''\n",
      "0 23.833706773832752 service\n",
      "0 23.210892142295194 's\n",
      "0 21.920904111130767 virginamerica\n",
      "0 21.64121036839044 delayed\n",
      "0 21.513437607220986 bag\n",
      "0 20.864141433090914 customer\n",
      "0 19.976657169737457 cancelled\n",
      "0 19.562853880284525 plane\n",
      "0 19.38648922748153 get\n",
      "0 18.807408968936883 'm\n",
      "0 17.8767887626248 hours\n",
      "0 17.339827966380682 gate\n",
      "0 17.136748919179777 time\n",
      "0 16.8898741166855 hour\n",
      "0 16.284697707068062 :\n",
      "0 16.091271557196947 ...\n",
      "0 15.031165703634063 still\n",
      "0 14.78565494443839 late\n",
      "0 14.38157785062803 waiting\n",
      "0 14.270728388434843 delay\n",
      "0 14.106676687003848 -\n",
      "0 14.048054804174056 would\n",
      "0 13.973175821464023 airline\n",
      "0 13.704077810861364 worst\n",
      "0 13.225436376160797 ;\n",
      "0 12.994879457538246 one\n",
      "0 12.8463767214656 help\n",
      "0 12.700666931191659 ca\n",
      "0 12.570260053250085 &\n",
      "0 12.493197591572123 like\n",
      "0 12.201763472981684 2\n",
      "0 12.159394339632682 never\n",
      "0 12.122287226866415 http\n",
      "0 12.066575620815499 flightled\n",
      "0 11.681112620185138 amp\n",
      "0 11.636176779563996 luggage\n",
      "0 11.529198400849474 flights\n",
      "0 10.434622254794563 3\n",
      "0 10.386831355109425 us\n",
      "0 10.36691559934203 've\n",
      "0 10.268781466544054 lost\n",
      "0 10.150832812637914 due\n",
      "0 10.09600063608324 really\n",
      "0 10.069743275064472 (\n",
      "0 9.896173639260597 yes\n",
      "0 9.78795312849608 $\n",
      "0 9.758816798417383 check\n",
      "0 9.684889771656284 day\n",
      "0 9.515670414292101 ever\n",
      "0 9.494152936113075 bags\n",
      "0 9.192768246817778 another\n",
      "0 9.180143001124854 wait\n",
      "0 8.928911596700171 staff\n",
      "0 8.885035668122713 trying\n",
      "0 8.795252528528078 last\n",
      "0 8.777868321587897 seat\n",
      "0 8.725595491460044 sitting\n",
      "0 8.590979072677047 people\n",
      "0 8.51335227641699 're\n",
      "0 8.491220761854903 4\n",
      "0 8.34006752094781 back\n",
      "0 8.317136184244964 u\n",
      "0 8.291400706088426 crew\n",
      "0 8.289674522692911 min\n",
      "0 8.255088421344547 fly\n",
      "0 7.905840040125858 days\n",
      "0 7.898436460768168 even\n",
      "0 7.824836969301282 )\n",
      "0 7.7570188109564375 told\n",
      "0 7.687649893772306 passengers\n",
      "-----------------------------------------\n",
      "Important words in neutral documents\n",
      "1 106.74416685021379 @\n",
      "1 85.55178935803296 ?\n",
      "1 64.33473342047513 jetblue\n",
      "1 58.236039158375924 southwestair\n",
      "1 57.22238628789153 .\n",
      "1 57.21567730661497 ``\n",
      "1 53.52651643286803 americanair\n",
      "1 52.795415385494366 :\n",
      "1 42.55674521095053 usairways\n",
      "1 39.62028005150853 flight\n",
      "1 38.28634781761471 #\n",
      "1 37.723268163692246 http\n",
      "1 37.16391306126767 united\n",
      "1 31.093361530510123 's\n",
      "1 24.110408462169747 !\n",
      "1 21.070703187030954 dm\n",
      "1 19.60821076052033 virginamerica\n",
      "1 18.6059731356974 please\n",
      "1 18.02489933908256 get\n",
      "1 17.227430920347608 flights\n",
      "1 15.91307124146993 hi\n",
      "1 15.911158402028057 help\n",
      "1 14.584689752367657 -\n",
      "1 14.333476375126558 tomorrow\n",
      "1 13.79903281086604 sent\n",
      "1 13.63270399375317 need\n",
      "1 13.35529792702796 fleek\n",
      "1 13.32094189356208 ...\n",
      "1 13.303526373974764 )\n",
      "1 13.217389847073207 fleet\n",
      "1 11.94839555768357 “\n",
      "1 11.472747456362454 n't\n",
      "1 11.382299644638712 ”\n",
      "1 11.36242903332639 (\n",
      "1 11.360915085705978 would\n",
      "1 11.219327353746957 know\n",
      "1 10.447016255415344 flying\n",
      "1 9.407954682678547 go\n",
      "1 9.331175617715033 change\n",
      "1 9.194737695754412 follow\n",
      "1 9.053605626019746 ''\n",
      "1 9.04224764652315 like\n",
      "1 9.005863628227607 ;\n",
      "1 8.80392036264528 way\n",
      "1 8.65017066137527 thanks\n",
      "1 8.632745627526369 cancelled\n",
      "1 8.572412857108285 number\n",
      "1 8.532252043453179 us\n",
      "1 8.512340402980653 'm\n",
      "1 8.409429443444152 fly\n",
      "1 8.311088601505958 one\n",
      "1 7.936366730329809 chance\n",
      "1 7.908331528538644 see\n",
      "1 7.774116522442779 next\n",
      "1 7.633574062154693 &\n",
      "1 7.401479846467683 check\n",
      "1 7.376487608304668 rt\n",
      "1 7.158026685264434 airport\n",
      "1 7.074543762370153 new\n",
      "1 6.986760074900994 guys\n",
      "1 6.725286099287157 yes\n",
      "1 6.717290578344065 destinationdragons\n",
      "1 6.685023021374769 could\n",
      "1 6.681067836437876 morning\n",
      "1 6.561948042444977 going\n",
      "1 6.555344416742465 time\n",
      "1 6.468203922253822 amp\n",
      "1 6.4301097851170015 done\n",
      "1 6.327480515292292 travel\n",
      "1 6.31487231718577 today\n",
      "1 6.237171062090071 use\n",
      "1 6.160307635051282 ticket\n",
      "1 6.0086109566745 make\n",
      "1 5.990107095930149 show\n",
      "1 5.7416340899952445 question\n",
      "1 5.717327512391316 tickets\n",
      "1 5.670165741711722 want\n",
      "1 5.645958813817033 back\n",
      "1 5.621089932775184 possible\n",
      "1 5.379225346500409 airways\n",
      "-----------------------------------------\n",
      "Important words in positive documents\n",
      "2 170.41065472376397 !\n",
      "2 105.34559865116026 @\n",
      "2 87.08671988934591 thank\n",
      "2 85.85639418312397 .\n",
      "2 80.29923663292738 thanks\n",
      "2 69.02270678380802 jetblue\n",
      "2 64.32300622754985 ``\n",
      "2 63.89281845623399 southwestair\n",
      "2 51.81047104693908 americanair\n",
      "2 50.812185156240766 #\n",
      "2 41.466098978285736 great\n",
      "2 38.22599819199688 usairways\n",
      "2 36.104636928252354 united\n",
      "2 33.229992907532285 :\n",
      "2 29.011687679036786 flight\n",
      "2 23.746560301355373 much\n",
      "2 22.98609714661519 love\n",
      "2 22.392827506348493 awesome\n",
      "2 22.090965886216374 )\n",
      "2 21.61502025886306 virginamerica\n",
      "2 21.12122168088914 service\n",
      "2 19.91472480469344 best\n",
      "2 18.512372845318037 guys\n",
      "2 16.524053081422093 http\n",
      "2 15.818610694850367 customer\n",
      "2 15.718435863988267 -\n",
      "2 15.3869937939704 good\n",
      "2 14.36787634677145 airline\n",
      "2 14.24820610047806 amazing\n",
      "2 13.762124215787367 got\n",
      "2 12.89794305028997 appreciate\n",
      "2 12.529538946719295 time\n",
      "2 12.184895442356465 ;\n",
      "2 11.951751969589301 response\n",
      "2 11.863837938595449 today\n",
      "2 10.954258437212932 help\n",
      "2 10.765085472475702 flying\n",
      "2 10.70227078638209 's\n",
      "2 10.146285503305545 us\n",
      "2 10.111658456076476 crew\n",
      "2 9.275996664552881 made\n",
      "2 9.217239759099176 always\n",
      "2 8.539939122437557 &\n",
      "2 8.352461861801059 n't\n",
      "2 8.34407612169727 gate\n",
      "2 8.185579605673533 ever\n",
      "2 7.995051029613868 yes\n",
      "2 7.920512369520521 fly\n",
      "2 7.795843265754015 southwest\n",
      "2 7.761913801299537 well\n",
      "2 7.516819755308916 get\n",
      "2 7.5153367139093294 're\n",
      "2 7.46557435250544 new\n",
      "2 7.39648935580001 helpful\n",
      "2 7.385909758120159 ...\n",
      "2 7.170159451775658 job\n",
      "2 7.128486845789566 home\n",
      "2 7.081562565475099 quick\n",
      "2 7.0755647905993175 amp\n",
      "2 7.0513998814028565 happy\n",
      "2 7.050383563626415 day\n",
      "2 6.999809130559078 work\n",
      "2 6.923738921044472 nice\n",
      "2 6.90887633533235 back\n",
      "2 6.839891804096854 'll\n",
      "2 6.724980417603007 see\n",
      "2 6.631172901062412 thx\n",
      "2 6.606746034631406 team\n",
      "2 6.545656748801527 like\n",
      "2 6.5046345692923975 ''\n",
      "2 6.464945926645512 tonight\n",
      "2 6.399491336766902 finally\n",
      "2 6.359483518210278 everything\n",
      "2 6.336300555961514 first\n",
      "2 6.306434295311223 rock\n",
      "2 6.292176905728015 excellent\n",
      "2 6.037730057769342 really\n",
      "2 6.013271564042919 follow\n",
      "2 5.997316437954213 done\n",
      "2 5.861557241404781 class\n"
     ]
    }
   ],
   "source": [
    "def important_features_per_class(vectorizer,classifier,n=80):\n",
    "    class_labels = classifier.classes_\n",
    "    feature_names =vectorizer.get_feature_names()\n",
    "    topn_class1 = sorted(zip(classifier.feature_count_[0], feature_names),reverse=True)[:n]\n",
    "    topn_class2 = sorted(zip(classifier.feature_count_[1], feature_names),reverse=True)[:n]\n",
    "    topn_class3 = sorted(zip(classifier.feature_count_[2], feature_names),reverse=True)[:n]\n",
    "    print(\"Important words in negative documents\")\n",
    "    for coef, feat in topn_class1:\n",
    "        print(class_labels[0], coef, feat)\n",
    "    print(\"-----------------------------------------\")\n",
    "    print(\"Important words in neutral documents\")\n",
    "    for coef, feat in topn_class2:\n",
    "        print(class_labels[1], coef, feat) \n",
    "    print(\"-----------------------------------------\")\n",
    "    print(\"Important words in positive documents\")\n",
    "    for coef, feat in topn_class3:\n",
    "        print(class_labels[2], coef, feat) \n",
    "\n",
    "# example of how to call from notebook:\n",
    "important_features_per_class(airline_vec, clf)"
   ]
  },
  {
   "cell_type": "markdown",
   "metadata": {},
   "source": [
    "*Answers:*\n",
    "\n",
    "1. For the negative documents, I expected words in their negated form, showed by the output \"n't\" and more punctuation. For the neutral documents, I expected words that would be used more frequently, so the name of the airlines was a good fit to this. Lastly, for the positive documents, I expected words of appreciation or just positive words in general, and the output contained words related to \"thank you\" and also punctuation. Punctuations in both positive and negative were to be expected as they are normally used when conveying emotions, as we don't need them in a neutral setting, they also don't appear as much.\n",
    "\n",
    "2. There are no words that I didn't expect, given that all of the outputs relate to their categories. Perhaps, I didn't expect punctuation, such as question marks, to have such a high scoring in neutral documents. However, this can be liked to just asking a direct question to the airline.\n",
    "\n",
    "3. Even though punctuation can be very expressive, it is easier to understand in context. For example, exclamation marks have a high scoring in both postive and negative settings, so it is hard to analyze why they are there with just this information. Therefore, I would remove punctuation in order to improve the readability and understandability of the model. I would also consider removing \"@\" symbols as they are just used to tag the airline in a tweet and the name of the airlines themselves as they will always appear, don't matter the context."
   ]
  },
  {
   "cell_type": "markdown",
   "metadata": {},
   "source": [
    "### [Optional! (will not  be graded)] Question 7\n",
    "Train the model on airline tweets and test it on your own set of tweets\n",
    "+ Train the model with the following settings (airline tweets 80% training and 20% test;  Bag of words representation ('airline_count'), min_df=2)\n",
    "+ Apply the model on your own set of tweets and generate the classification report\n",
    "* [1 point] a. Carry out a quantitative analysis.\n",
    "* [1 point] b. Carry out an error analysis on 10 correctly and 10 incorrectly classified tweets and discuss them\n",
    "* [2 points] c. Compare the results (cf. classification report) with the results obtained by VADER on the same tweets and discuss the differences."
   ]
  },
  {
   "cell_type": "markdown",
   "metadata": {},
   "source": [
    "### [Optional! (will not be graded)] Question 8: trying to improve the model\n",
    "* [2 points] a. Think of some ways to improve the scikit-learn Naive Bayes model by playing with the settings or applying linguistic preprocessing (e.g., by filtering on part-of-speech, or removing punctuation). Do not change the classifier but continue using the Naive Bayes classifier. Explain what the effects might be of these other settings \n",
    "+ [1 point] b. Apply the model with at least one new setting (train on the airline tweets using 80% training, 20% test) and generate the scores\n",
    "* [1 point] c. Discuss whether the model achieved what you expected."
   ]
  },
  {
   "cell_type": "markdown",
   "metadata": {},
   "source": [
    "## End of this notebook"
   ]
  },
  {
   "cell_type": "code",
   "execution_count": null,
   "metadata": {},
   "outputs": [],
   "source": []
  }
 ],
 "metadata": {
  "kernelspec": {
   "display_name": "Python 3",
   "language": "python",
   "name": "python3"
  },
  "language_info": {
   "codemirror_mode": {
    "name": "ipython",
    "version": 3
   },
   "file_extension": ".py",
   "mimetype": "text/x-python",
   "name": "python",
   "nbconvert_exporter": "python",
   "pygments_lexer": "ipython3",
   "version": "3.8.8"
  }
 },
 "nbformat": 4,
 "nbformat_minor": 4
}
