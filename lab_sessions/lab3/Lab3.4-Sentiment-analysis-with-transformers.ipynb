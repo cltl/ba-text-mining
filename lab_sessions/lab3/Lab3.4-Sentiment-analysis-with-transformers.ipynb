{
 "cells": [
  {
   "cell_type": "markdown",
   "metadata": {},
   "source": [
    "# Lab3.4 Sentiment Classification using transformer models"
   ]
  },
  {
   "cell_type": "markdown",
   "metadata": {},
   "source": [
    "Copyright: Vrije Universiteit Amsterdam, Faculty of Humanities, CLTL"
   ]
  },
  {
   "cell_type": "markdown",
   "metadata": {},
   "source": [
    "This notebook explains how you can use a transformer model that is fine-tuned for sentiment analysis. Fine-tuned transformer models are published regularly on the huggingface platform: https://huggingface.co/models\n",
    "\n",
    "These models are very big (Gigabytes) and require a computer with sufficient memory to load. Furthermore, loading these models takes some time as well. It is also possible to copy such a model to your disk and to load the local copy. Still a substantial memory is needed to load it."
   ]
  },
  {
   "cell_type": "markdown",
   "metadata": {},
   "source": [
    "This notebook requires installing some deep learning packages: transformers, pytorch and simpletransformers. If you are not experienced with installing these packages, make sure you first define a virtual environment for python, activate this environment and install the packages in this enviroment.\n",
    "\n",
    "Please consult the Python documentation for installing such an enviroment:\n",
    "\n",
    "https://docs.python.org/3/library/venv.html\n",
    "\n",
    "After activating your enviroment you can install pytorch, transformers and simpletransformers from the command line. If you start this notebook within the same virtual environment you can also execute the next installation commands from your notebook. Once installed, you can comment out the next cell."
   ]
  },
  {
   "cell_type": "code",
   "execution_count": null,
   "metadata": {},
   "outputs": [],
   "source": [
    "#!conda install pytorch cpuonly -c pytorch\n",
    "#!pip install transformers\n",
    "#!pip install simpletransformers"
   ]
  },
  {
   "cell_type": "markdown",
   "metadata": {},
   "source": [
    "Huggingface transfomers provides an option to create a **pipeline** to perform a NLP task with a pretrained model: \n",
    "\n",
    "\"The pipelines are a great and easy way to use models for inference. These pipelines are objects that abstract most of the complex code from the library, offering a simple API dedicated to several tasks, including Named Entity Recognition, Masked Language Modeling, Sentiment Analysis, Feature Extraction and Question Answering.\"\n",
    "\n",
    "More information can be found here: https://huggingface.co/transformers/v3.0.2/main_classes/pipelines.html\n",
    "\n",
    "We will use the pipeline module to load a fine-tuned model to perform senteiment analysis"
   ]
  },
  {
   "cell_type": "code",
   "execution_count": 2,
   "metadata": {},
   "outputs": [],
   "source": [
    "from transformers import pipeline"
   ]
  },
  {
   "cell_type": "markdown",
   "metadata": {},
   "source": [
    "We load a transformer model 'distilbert-base-uncased-finetuned-sst-2-english' that is fine-tuned for binary classification from the Hugging face repository:\n",
    "\n",
    "https://huggingface.co/models\n",
    "\n",
    "We need to load the model for the sequence classifcation and the tokenizer to convert the sentences into tokens according to the vocabulary of the model.\n",
    "\n",
    "Loading the model takes some time."
   ]
  },
  {
   "cell_type": "code",
   "execution_count": 4,
   "metadata": {},
   "outputs": [],
   "source": [
    "sentimentenglish = pipeline(\"sentiment-analysis\", \n",
    "                            model=\"distilbert-base-uncased-finetuned-sst-2-english\", \n",
    "                            tokenizer=\"distilbert-base-uncased-finetuned-sst-2-english\")"
   ]
  },
  {
   "cell_type": "markdown",
   "metadata": {},
   "source": [
    "We now created an instantiation of a pipeline that can tokenize any sentence, obtain a sententence embedding from the transformer language model and perform the **sentiment-analysis** task. Let's try it out on an example sentence."
   ]
  },
  {
   "cell_type": "code",
   "execution_count": 6,
   "metadata": {},
   "outputs": [],
   "source": [
    "sentence_pos_en = \"Nice hotel and the service is great\""
   ]
  },
  {
   "cell_type": "code",
   "execution_count": 8,
   "metadata": {},
   "outputs": [
    {
     "data": {
      "text/plain": [
       "[{'label': 'POSITIVE', 'score': 0.999881386756897}]"
      ]
     },
     "execution_count": 8,
     "metadata": {},
     "output_type": "execute_result"
    }
   ],
   "source": [
    "sentimentenglish(sentence_pos_en)"
   ]
  },
  {
   "cell_type": "code",
   "execution_count": 10,
   "metadata": {},
   "outputs": [],
   "source": [
    "sentence_neg_en = \"The rooms are dirty and the wifi does not work\""
   ]
  },
  {
   "cell_type": "code",
   "execution_count": 12,
   "metadata": {},
   "outputs": [
    {
     "data": {
      "text/plain": [
       "[{'label': 'NEGATIVE', 'score': 0.9997870326042175}]"
      ]
     },
     "execution_count": 12,
     "metadata": {},
     "output_type": "execute_result"
    }
   ],
   "source": [
    "sentimentenglish(sentence_neg_en)"
   ]
  },
  {
   "cell_type": "markdown",
   "metadata": {},
   "source": [
    "This is easy and seems to work very well. "
   ]
  },
  {
   "cell_type": "markdown",
   "metadata": {},
   "source": [
    "## Using a Dutch fine-tuned transformer model"
   ]
  },
  {
   "cell_type": "markdown",
   "metadata": {},
   "source": [
    "We can use a fine-tuned Dutch model for Dutch sentiment analysis by creating another pipeline. Again loading this model takes some time. Also note that after loading, both moodels are loaded in memory. So if you have issues loading, you may want to start over and try again just with the Dutch pipeline."
   ]
  },
  {
   "cell_type": "code",
   "execution_count": 17,
   "metadata": {},
   "outputs": [],
   "source": [
    "sentimentdutch = pipeline(\"sentiment-analysis\", \n",
    "                          model=\"wietsedv/bert-base-dutch-cased-finetuned-sentiment\", \n",
    "                          tokenizer=\"wietsedv/bert-base-dutch-cased-finetuned-sentiment\")"
   ]
  },
  {
   "cell_type": "markdown",
   "metadata": {},
   "source": [
    "We test it on two similar Dutch sentences:"
   ]
  },
  {
   "cell_type": "code",
   "execution_count": 19,
   "metadata": {},
   "outputs": [],
   "source": [
    "sentence_pos_nl=\"Mooi hotel en de service is geweldig\"\n",
    "sentence_neg_nl=\"De kamers zijn smerig en de wifi doet het niet\""
   ]
  },
  {
   "cell_type": "code",
   "execution_count": 22,
   "metadata": {},
   "outputs": [
    {
     "data": {
      "text/plain": [
       "[{'label': 'pos', 'score': 0.9999955892562866}]"
      ]
     },
     "execution_count": 22,
     "metadata": {},
     "output_type": "execute_result"
    }
   ],
   "source": [
    "sentimentdutch(sentence_pos_nl)"
   ]
  },
  {
   "cell_type": "code",
   "execution_count": 23,
   "metadata": {},
   "outputs": [
    {
     "data": {
      "text/plain": [
       "[{'label': 'neg', 'score': 0.6675355434417725}]"
      ]
     },
     "execution_count": 23,
     "metadata": {},
     "output_type": "execute_result"
    }
   ],
   "source": [
    "sentimentdutch(sentence_neg_nl)"
   ]
  },
  {
   "cell_type": "markdown",
   "metadata": {},
   "source": [
    "This seems to work fine too although the score for negative in the second example is much lower."
   ]
  },
  {
   "cell_type": "markdown",
   "metadata": {},
   "source": [
    "## Inspecting sentence representations using Simpletransformers"
   ]
  },
  {
   "cell_type": "markdown",
   "metadata": {},
   "source": [
    "The Simpletransformers package is built on top of the transformer package. It simplifies the use of transformers even more and provides excellent documentation: https://simpletransformers.ai\n",
    "\n",
    "The site explains also how you can fine-tune models yourself or even how to build models from scratch, assuming you have the computing power and the data.\n",
    "\n",
    "Here we are going to use it to inspect the sentence representations a bit more. Unfortunately, we need to load the English model again as an instantiation of a RepresentationModel. So if you have memory issues, please stop the kernel and start again from here.\n",
    "\n",
    "Loading the model may gave a lot of warnings. You can ignore these. If you do not have a graphical card (GPU) and or cuda installed to use the GPU you need to set use_cuda to False, as shown below."
   ]
  },
  {
   "cell_type": "code",
   "execution_count": 29,
   "metadata": {},
   "outputs": [
    {
     "name": "stderr",
     "output_type": "stream",
     "text": [
      "You are using a model of type distilbert to instantiate a model of type bert. This is not supported for all configurations of models and can yield errors.\n",
      "Some weights of BertForTextRepresentation were not initialized from the model checkpoint at distilbert-base-uncased-finetuned-sst-2-english and are newly initialized: ['embeddings.LayerNorm.bias', 'embeddings.LayerNorm.weight', 'embeddings.position_embeddings.weight', 'embeddings.token_type_embeddings.weight', 'embeddings.word_embeddings.weight', 'encoder.layer.0.attention.output.LayerNorm.bias', 'encoder.layer.0.attention.output.LayerNorm.weight', 'encoder.layer.0.attention.output.dense.bias', 'encoder.layer.0.attention.output.dense.weight', 'encoder.layer.0.attention.self.key.bias', 'encoder.layer.0.attention.self.key.weight', 'encoder.layer.0.attention.self.query.bias', 'encoder.layer.0.attention.self.query.weight', 'encoder.layer.0.attention.self.value.bias', 'encoder.layer.0.attention.self.value.weight', 'encoder.layer.0.intermediate.dense.bias', 'encoder.layer.0.intermediate.dense.weight', 'encoder.layer.0.output.LayerNorm.bias', 'encoder.layer.0.output.LayerNorm.weight', 'encoder.layer.0.output.dense.bias', 'encoder.layer.0.output.dense.weight', 'encoder.layer.1.attention.output.LayerNorm.bias', 'encoder.layer.1.attention.output.LayerNorm.weight', 'encoder.layer.1.attention.output.dense.bias', 'encoder.layer.1.attention.output.dense.weight', 'encoder.layer.1.attention.self.key.bias', 'encoder.layer.1.attention.self.key.weight', 'encoder.layer.1.attention.self.query.bias', 'encoder.layer.1.attention.self.query.weight', 'encoder.layer.1.attention.self.value.bias', 'encoder.layer.1.attention.self.value.weight', 'encoder.layer.1.intermediate.dense.bias', 'encoder.layer.1.intermediate.dense.weight', 'encoder.layer.1.output.LayerNorm.bias', 'encoder.layer.1.output.LayerNorm.weight', 'encoder.layer.1.output.dense.bias', 'encoder.layer.1.output.dense.weight', 'encoder.layer.10.attention.output.LayerNorm.bias', 'encoder.layer.10.attention.output.LayerNorm.weight', 'encoder.layer.10.attention.output.dense.bias', 'encoder.layer.10.attention.output.dense.weight', 'encoder.layer.10.attention.self.key.bias', 'encoder.layer.10.attention.self.key.weight', 'encoder.layer.10.attention.self.query.bias', 'encoder.layer.10.attention.self.query.weight', 'encoder.layer.10.attention.self.value.bias', 'encoder.layer.10.attention.self.value.weight', 'encoder.layer.10.intermediate.dense.bias', 'encoder.layer.10.intermediate.dense.weight', 'encoder.layer.10.output.LayerNorm.bias', 'encoder.layer.10.output.LayerNorm.weight', 'encoder.layer.10.output.dense.bias', 'encoder.layer.10.output.dense.weight', 'encoder.layer.11.attention.output.LayerNorm.bias', 'encoder.layer.11.attention.output.LayerNorm.weight', 'encoder.layer.11.attention.output.dense.bias', 'encoder.layer.11.attention.output.dense.weight', 'encoder.layer.11.attention.self.key.bias', 'encoder.layer.11.attention.self.key.weight', 'encoder.layer.11.attention.self.query.bias', 'encoder.layer.11.attention.self.query.weight', 'encoder.layer.11.attention.self.value.bias', 'encoder.layer.11.attention.self.value.weight', 'encoder.layer.11.intermediate.dense.bias', 'encoder.layer.11.intermediate.dense.weight', 'encoder.layer.11.output.LayerNorm.bias', 'encoder.layer.11.output.LayerNorm.weight', 'encoder.layer.11.output.dense.bias', 'encoder.layer.11.output.dense.weight', 'encoder.layer.2.attention.output.LayerNorm.bias', 'encoder.layer.2.attention.output.LayerNorm.weight', 'encoder.layer.2.attention.output.dense.bias', 'encoder.layer.2.attention.output.dense.weight', 'encoder.layer.2.attention.self.key.bias', 'encoder.layer.2.attention.self.key.weight', 'encoder.layer.2.attention.self.query.bias', 'encoder.layer.2.attention.self.query.weight', 'encoder.layer.2.attention.self.value.bias', 'encoder.layer.2.attention.self.value.weight', 'encoder.layer.2.intermediate.dense.bias', 'encoder.layer.2.intermediate.dense.weight', 'encoder.layer.2.output.LayerNorm.bias', 'encoder.layer.2.output.LayerNorm.weight', 'encoder.layer.2.output.dense.bias', 'encoder.layer.2.output.dense.weight', 'encoder.layer.3.attention.output.LayerNorm.bias', 'encoder.layer.3.attention.output.LayerNorm.weight', 'encoder.layer.3.attention.output.dense.bias', 'encoder.layer.3.attention.output.dense.weight', 'encoder.layer.3.attention.self.key.bias', 'encoder.layer.3.attention.self.key.weight', 'encoder.layer.3.attention.self.query.bias', 'encoder.layer.3.attention.self.query.weight', 'encoder.layer.3.attention.self.value.bias', 'encoder.layer.3.attention.self.value.weight', 'encoder.layer.3.intermediate.dense.bias', 'encoder.layer.3.intermediate.dense.weight', 'encoder.layer.3.output.LayerNorm.bias', 'encoder.layer.3.output.LayerNorm.weight', 'encoder.layer.3.output.dense.bias', 'encoder.layer.3.output.dense.weight', 'encoder.layer.4.attention.output.LayerNorm.bias', 'encoder.layer.4.attention.output.LayerNorm.weight', 'encoder.layer.4.attention.output.dense.bias', 'encoder.layer.4.attention.output.dense.weight', 'encoder.layer.4.attention.self.key.bias', 'encoder.layer.4.attention.self.key.weight', 'encoder.layer.4.attention.self.query.bias', 'encoder.layer.4.attention.self.query.weight', 'encoder.layer.4.attention.self.value.bias', 'encoder.layer.4.attention.self.value.weight', 'encoder.layer.4.intermediate.dense.bias', 'encoder.layer.4.intermediate.dense.weight', 'encoder.layer.4.output.LayerNorm.bias', 'encoder.layer.4.output.LayerNorm.weight', 'encoder.layer.4.output.dense.bias', 'encoder.layer.4.output.dense.weight', 'encoder.layer.5.attention.output.LayerNorm.bias', 'encoder.layer.5.attention.output.LayerNorm.weight', 'encoder.layer.5.attention.output.dense.bias', 'encoder.layer.5.attention.output.dense.weight', 'encoder.layer.5.attention.self.key.bias', 'encoder.layer.5.attention.self.key.weight', 'encoder.layer.5.attention.self.query.bias', 'encoder.layer.5.attention.self.query.weight', 'encoder.layer.5.attention.self.value.bias', 'encoder.layer.5.attention.self.value.weight', 'encoder.layer.5.intermediate.dense.bias', 'encoder.layer.5.intermediate.dense.weight', 'encoder.layer.5.output.LayerNorm.bias', 'encoder.layer.5.output.LayerNorm.weight', 'encoder.layer.5.output.dense.bias', 'encoder.layer.5.output.dense.weight', 'encoder.layer.6.attention.output.LayerNorm.bias', 'encoder.layer.6.attention.output.LayerNorm.weight', 'encoder.layer.6.attention.output.dense.bias', 'encoder.layer.6.attention.output.dense.weight', 'encoder.layer.6.attention.self.key.bias', 'encoder.layer.6.attention.self.key.weight', 'encoder.layer.6.attention.self.query.bias', 'encoder.layer.6.attention.self.query.weight', 'encoder.layer.6.attention.self.value.bias', 'encoder.layer.6.attention.self.value.weight', 'encoder.layer.6.intermediate.dense.bias', 'encoder.layer.6.intermediate.dense.weight', 'encoder.layer.6.output.LayerNorm.bias', 'encoder.layer.6.output.LayerNorm.weight', 'encoder.layer.6.output.dense.bias', 'encoder.layer.6.output.dense.weight', 'encoder.layer.7.attention.output.LayerNorm.bias', 'encoder.layer.7.attention.output.LayerNorm.weight', 'encoder.layer.7.attention.output.dense.bias', 'encoder.layer.7.attention.output.dense.weight', 'encoder.layer.7.attention.self.key.bias', 'encoder.layer.7.attention.self.key.weight', 'encoder.layer.7.attention.self.query.bias', 'encoder.layer.7.attention.self.query.weight', 'encoder.layer.7.attention.self.value.bias', 'encoder.layer.7.attention.self.value.weight', 'encoder.layer.7.intermediate.dense.bias', 'encoder.layer.7.intermediate.dense.weight', 'encoder.layer.7.output.LayerNorm.bias', 'encoder.layer.7.output.LayerNorm.weight', 'encoder.layer.7.output.dense.bias', 'encoder.layer.7.output.dense.weight', 'encoder.layer.8.attention.output.LayerNorm.bias', 'encoder.layer.8.attention.output.LayerNorm.weight', 'encoder.layer.8.attention.output.dense.bias', 'encoder.layer.8.attention.output.dense.weight', 'encoder.layer.8.attention.self.key.bias', 'encoder.layer.8.attention.self.key.weight', 'encoder.layer.8.attention.self.query.bias', 'encoder.layer.8.attention.self.query.weight', 'encoder.layer.8.attention.self.value.bias', 'encoder.layer.8.attention.self.value.weight', 'encoder.layer.8.intermediate.dense.bias', 'encoder.layer.8.intermediate.dense.weight', 'encoder.layer.8.output.LayerNorm.bias', 'encoder.layer.8.output.LayerNorm.weight', 'encoder.layer.8.output.dense.bias', 'encoder.layer.8.output.dense.weight', 'encoder.layer.9.attention.output.LayerNorm.bias', 'encoder.layer.9.attention.output.LayerNorm.weight', 'encoder.layer.9.attention.output.dense.bias', 'encoder.layer.9.attention.output.dense.weight', 'encoder.layer.9.attention.self.key.bias', 'encoder.layer.9.attention.self.key.weight', 'encoder.layer.9.attention.self.query.bias', 'encoder.layer.9.attention.self.query.weight', 'encoder.layer.9.attention.self.value.bias', 'encoder.layer.9.attention.self.value.weight', 'encoder.layer.9.intermediate.dense.bias', 'encoder.layer.9.intermediate.dense.weight', 'encoder.layer.9.output.LayerNorm.bias', 'encoder.layer.9.output.LayerNorm.weight', 'encoder.layer.9.output.dense.bias', 'encoder.layer.9.output.dense.weight', 'pooler.dense.bias', 'pooler.dense.weight']\n",
      "You should probably TRAIN this model on a down-stream task to be able to use it for predictions and inference.\n",
      "The tokenizer class you load from this checkpoint is not the same type as the class this function is called from. It may result in unexpected tokenization. \n",
      "The tokenizer class you load from this checkpoint is 'DistilBertTokenizer'. \n",
      "The class this function is called from is 'BertTokenizer'.\n"
     ]
    }
   ],
   "source": [
    "from simpletransformers.language_representation import RepresentationModel\n",
    "        \n",
    "#sentences = [\"Example sentence 1\", \"Example sentence 2\"]\n",
    "model = RepresentationModel(\n",
    "        model_type=\"bert\",\n",
    "        model_name=\"distilbert-base-uncased-finetuned-sst-2-english\",\n",
    "        use_cuda=False ## If you cannot use a GPU set this to false\n",
    "    )"
   ]
  },
  {
   "cell_type": "markdown",
   "metadata": {},
   "source": [
    "The Representationmodel allows you to obtain a sentence encoding. We do that next for the positive English example which consists of 7 words:"
   ]
  },
  {
   "cell_type": "code",
   "execution_count": 31,
   "metadata": {},
   "outputs": [
    {
     "data": {
      "text/plain": [
       "'Nice hotel and the service is great'"
      ]
     },
     "execution_count": 31,
     "metadata": {},
     "output_type": "execute_result"
    }
   ],
   "source": [
    "sentence_pos_en"
   ]
  },
  {
   "cell_type": "markdown",
   "metadata": {},
   "source": [
    "According to the simpletransformers API the input must be a list even when it is a single sentence. If you pass a string as input, it will turn it into a list of charcaters, each character as a separate sentence."
   ]
  },
  {
   "cell_type": "code",
   "execution_count": 33,
   "metadata": {},
   "outputs": [],
   "source": [
    "word_vectors = model.encode_sentences([sentence_pos_en], combine_strategy=None)"
   ]
  },
  {
   "cell_type": "markdown",
   "metadata": {},
   "source": [
    "The result is a numpy array with the shape (1, 9, 768) "
   ]
  },
  {
   "cell_type": "code",
   "execution_count": 35,
   "metadata": {},
   "outputs": [
    {
     "name": "stdout",
     "output_type": "stream",
     "text": [
      "<class 'numpy.ndarray'>\n",
      "(1, 9, 768)\n"
     ]
    }
   ],
   "source": [
    "print(type(word_vectors))\n",
    "print(word_vectors.shape)"
   ]
  },
  {
   "cell_type": "markdown",
   "metadata": {},
   "source": [
    "The first number indicates the number of sentences, which is **1** in our case. The next digit **9** indicates the number of tokens and the final digit is the number of dimension for each token according to the transformer model, which **768** in case of BERT models.\n",
    "\n",
    "We can ask for the full embedding representation for the first token:"
   ]
  },
  {
   "cell_type": "code",
   "execution_count": 41,
   "metadata": {},
   "outputs": [
    {
     "name": "stdout",
     "output_type": "stream",
     "text": [
      "Nr of dimensions for the mebdding of the first token: 768\n",
      "[ 1.50504902e-01  5.04857838e-01  1.23984349e+00  9.84541714e-01\n",
      "  1.07051384e+00  2.33473754e+00 -1.46284962e+00  1.58823907e-01\n",
      " -3.15832198e-01 -2.55542469e+00  2.57676959e+00  7.68954396e-01\n",
      " -1.85393524e+00  1.58278751e+00 -1.43222308e+00  8.90686691e-01\n",
      "  1.16721499e+00 -9.21513677e-01 -4.73082900e-01 -3.11090064e+00\n",
      " -7.16636360e-01 -7.61676848e-01  6.65067136e-01  1.21800590e+00\n",
      " -5.67736447e-01 -6.25071645e-01  3.37389767e-01 -1.25538945e+00\n",
      "  1.10876113e-01 -3.30151290e-01 -1.82446420e+00 -1.00599015e+00\n",
      " -1.26506841e+00 -4.20429617e-01  9.87495124e-01 -1.95071375e+00\n",
      "  1.40485299e+00 -2.45388657e-01 -1.86665046e+00  2.79362977e-01\n",
      " -6.81612670e-01 -8.25623930e-01  2.17553735e+00 -8.43062937e-01\n",
      "  2.55609840e-01 -1.82060516e+00 -6.64420068e-01 -8.13224494e-01\n",
      " -4.36206996e-01  7.46972978e-01 -9.72244795e-03 -1.09924996e+00\n",
      "  3.18629146e-01  1.20724034e+00  4.39654261e-01  1.03978682e+00\n",
      " -2.59285539e-01  2.37741089e+00 -1.63418496e+00  1.15610194e+00\n",
      " -2.76849598e-01 -5.52837491e-01 -1.37239993e+00 -1.16754937e+00\n",
      " -1.74603951e+00 -1.88552892e+00 -1.76633584e+00 -2.32913122e-02\n",
      "  7.06448972e-01  6.52786911e-01 -1.19268286e+00  5.24445832e-01\n",
      " -6.46176338e-01 -1.28630650e+00  2.50997066e-01 -8.49822521e-01\n",
      "  1.15646888e-02  9.30128098e-01  1.98337391e-01 -1.59945977e+00\n",
      " -1.86044335e-01 -1.86366105e+00 -3.88117760e-01 -1.80355340e-01\n",
      "  8.01067501e-02 -4.66390103e-02 -8.73794913e-01  4.78425920e-01\n",
      "  1.15579379e+00 -3.51279140e-01  3.98528159e-01  1.86129749e-01\n",
      " -1.65224719e+00 -1.89351475e+00  9.69271719e-01  7.84884334e-01\n",
      "  4.63371128e-01  1.76448905e+00 -1.65301633e+00 -1.25029102e-01\n",
      "  1.85433909e-01 -5.95455885e-01 -2.84221351e-01  2.43670177e+00\n",
      "  1.01762033e+00  2.46974215e-01  9.99671519e-01 -1.56400457e-01\n",
      "  3.81472148e-02 -9.56102967e-01  4.17743444e-01  9.86547351e-01\n",
      " -2.80773729e-01 -3.58357169e-02 -2.40748382e+00  9.19892728e-01\n",
      "  1.73876750e+00 -1.00302696e+00 -3.22602540e-01 -4.13197726e-01\n",
      " -1.06283450e+00 -1.25932717e+00 -5.33875585e-01 -2.59518147e-01\n",
      " -8.08961868e-01  9.62646484e-01  2.51111656e-01 -1.13863838e+00\n",
      "  1.20622694e+00  3.79130840e-02  1.69816628e-01  2.99517065e-01\n",
      "  5.68324387e-01  1.41039327e-01  5.07870913e-01 -2.08578634e+00\n",
      "  2.30514303e-01 -7.20422029e-01  9.69580770e-01 -3.27727795e-01\n",
      "  1.66458219e-01  1.75354886e+00  5.16048551e-01 -1.79371104e-01\n",
      "  3.18670213e-01 -7.91724503e-01  2.02578977e-01 -9.52232659e-01\n",
      " -1.03534743e-01  1.61096907e+00  7.09133327e-01  1.60436964e+00\n",
      "  5.15081704e-01 -4.96564746e-01 -1.43175817e+00  1.68353069e+00\n",
      "  3.23334515e-01  1.19348502e+00 -9.22016501e-01  1.27804315e+00\n",
      "  3.69875669e-01  1.61343530e-01 -2.01839581e-01  1.89339685e+00\n",
      " -7.37503827e-01 -2.88004637e-01  3.18035901e-01 -4.68012571e-01\n",
      "  6.47685468e-01 -2.85993181e-02  2.08029985e+00  4.91513163e-02\n",
      " -6.36547983e-01  3.83452207e-01 -6.60202742e-01 -6.87400043e-01\n",
      " -1.21701755e-01 -4.31569487e-01  1.18219745e+00 -2.64516997e+00\n",
      "  1.47032106e+00 -1.07526219e+00 -3.71596888e-02 -1.16615200e+00\n",
      "  1.85203910e+00  4.27014470e-01 -1.09693253e+00  7.11014867e-02\n",
      " -1.45556509e+00 -1.85264325e+00 -8.29177976e-01 -1.06599331e+00\n",
      "  3.55254188e-02  9.14919257e-01  8.70080113e-01 -6.70931578e-01\n",
      "  1.63444233e+00  3.36108118e-01  1.45021677e-01  2.99223095e-01\n",
      "  7.29988575e-01 -9.73087490e-01  1.66172135e+00 -6.58103466e-01\n",
      "  2.73013800e-01  2.77078295e+00  7.13991761e-01  4.98858005e-01\n",
      "  3.74830008e-01 -1.12649453e+00  2.81140715e-01  4.05042708e-01\n",
      " -1.14204752e+00 -7.09839165e-01  9.36694562e-01  6.49136543e-01\n",
      "  4.88871802e-03  4.91227098e-02 -1.89090359e+00  1.43651438e+00\n",
      "  2.94994265e-01 -3.62144560e-01 -2.94001043e-01 -3.78608346e-01\n",
      "  5.60002565e-01  9.42890465e-01 -4.78134066e-01 -8.99194598e-01\n",
      "  5.39936900e-01 -1.61504555e+00 -7.29124188e-01  1.07743537e+00\n",
      " -7.85787702e-02 -2.08482862e+00 -8.31548452e-01 -1.45386207e+00\n",
      "  1.07136011e+00 -3.19991112e-01  2.94218302e-01  1.00851214e+00\n",
      "  6.24134123e-01  1.08614254e+00 -1.31444645e+00  6.43244207e-01\n",
      " -3.36987585e-01  1.65235507e+00  1.80638766e+00 -1.48778224e+00\n",
      " -1.23170227e-01 -1.01897275e+00  1.06768712e-01 -2.42112912e-02\n",
      "  3.36805135e-01 -8.01246047e-01  4.30839300e-01  1.14265323e+00\n",
      "  3.78791392e-01  7.55801618e-01  1.39658999e+00  7.08135068e-01\n",
      " -3.55053574e-01  2.70582587e-01 -1.34570658e+00  6.55959308e-01\n",
      " -1.34281039e+00  3.55159156e-02  1.70724845e+00 -7.69103825e-01\n",
      "  9.18648720e-01 -3.36126298e-01 -8.68025720e-01  1.44347465e+00\n",
      " -7.32843950e-02  8.41967106e-01 -9.47586715e-01  6.13321602e-01\n",
      "  1.04072046e+00  1.70238686e+00  7.68390954e-01  1.06629682e+00\n",
      " -1.94170237e-01 -5.88177800e-01  5.84197223e-01  3.57556534e+00\n",
      " -3.43172133e-01  6.83452070e-01 -2.16121674e-01  1.79547407e-02\n",
      " -1.88360715e+00  2.31471416e-02 -9.32787359e-02  3.29499573e-01\n",
      " -8.24683830e-02  2.29990911e+00 -1.66127652e-01 -3.56458724e-02\n",
      "  5.55648744e-01  1.03376019e+00  1.33217610e-02  1.24107075e+00\n",
      "  1.33271575e+00  4.04956341e-01  8.15842748e-01 -1.55055273e+00\n",
      "  1.37961388e+00  1.22405805e-01  1.23087275e+00 -1.63912565e-01\n",
      " -8.46181035e-01 -4.65735570e-02 -9.50868785e-01  1.17667042e-01\n",
      " -8.33573341e-02 -1.81834292e+00 -6.47679120e-02 -3.84089321e-01\n",
      "  1.05172956e+00 -3.40844095e-01 -2.17399448e-01  4.28819895e-01\n",
      " -2.68716425e-01  1.04141223e+00 -2.78150737e-01 -2.21713066e+00\n",
      "  1.02697527e+00  9.20813903e-02 -1.89960396e+00  4.01349247e-01\n",
      "  2.09528899e+00 -5.35284758e-01 -4.05598462e-01  4.10684764e-01\n",
      " -2.38632774e+00  1.06404507e+00 -1.24217665e+00 -8.09357941e-01\n",
      " -9.07389998e-01  3.27989489e-01  1.00872266e+00 -1.66116789e-01\n",
      "  1.89691210e+00  8.61904174e-02  3.66295606e-01  7.84069002e-02\n",
      " -6.59703255e-01  1.49777234e-01  1.29821038e+00  1.14382863e+00\n",
      " -7.91627586e-01 -8.42559636e-01 -6.53675139e-01 -7.43232444e-02\n",
      " -3.18760514e-01  2.77621560e-02 -5.13587117e-01  2.65687406e-01\n",
      " -1.72000325e+00  1.56400502e-02 -7.70871997e-01 -3.02701712e-01\n",
      " -2.89075702e-01 -9.36760530e-02  1.11285162e+00  1.55538821e+00\n",
      "  1.94399863e-01  7.78399289e-01 -8.09800446e-01 -2.34226179e+00\n",
      "  1.36186751e-02 -6.60800755e-01 -7.55650818e-01 -5.08427262e-01\n",
      "  2.77702481e-01  3.04948449e-01  3.76311600e-01  4.28852797e-01\n",
      "  1.36348128e+00  3.53222311e-01  1.46242714e+00 -6.55534387e-01\n",
      "  4.70767558e-01  6.90579593e-01 -1.23559594e+00  1.20914900e+00\n",
      "  6.65630698e-01 -5.23672104e-01 -5.42669237e-01  2.48751506e-01\n",
      " -2.45224744e-01  1.00838649e+00 -5.28386772e-01  4.76114452e-01\n",
      " -1.27469718e+00 -2.70233750e-01 -6.86166435e-02  4.86338884e-01\n",
      "  3.09657365e-01  9.60092247e-01  3.86332393e-01  1.29136397e-02\n",
      " -1.87959707e+00 -1.60272229e+00  9.02957916e-01 -3.30146223e-01\n",
      " -3.25905293e-01  1.24850667e+00 -6.90469146e-01 -3.71442646e-01\n",
      " -5.85104108e-01  5.78706115e-02 -1.28194022e+00 -1.71624517e+00\n",
      " -2.18565464e+00  3.86576623e-01  3.89254779e-01 -1.02245784e+00\n",
      " -1.56028897e-01 -7.68897310e-02  1.13699412e+00 -2.74954699e-02\n",
      "  1.00491214e+00  2.40223810e-01 -2.52311301e+00 -1.12841308e+00\n",
      "  8.32547128e-01  1.64456725e-01  2.01595336e-01 -1.45316809e-01\n",
      " -1.99375176e+00  2.65208702e-03  1.00331342e+00  2.24534839e-01\n",
      "  1.91026390e+00 -6.67899430e-01  6.88084841e-01  3.89647037e-01\n",
      "  6.23722970e-02 -9.84018624e-01  2.40134820e-01 -8.35592210e-01\n",
      " -1.22151518e+00 -1.40143442e+00 -5.31192601e-01  1.52242649e+00\n",
      "  2.14537168e+00 -6.96664393e-01 -2.07294965e+00  4.92542922e-01\n",
      "  5.20690739e-01  2.24492049e+00 -3.85804772e-02  7.21633494e-01\n",
      "  6.72607183e-01  4.64918256e-01 -1.20953429e+00 -1.34572148e+00\n",
      "  6.38585925e-01  1.04403996e+00  4.30058837e-01  8.30707312e-01\n",
      " -4.75145757e-01 -7.44711339e-01  2.83124775e-01  9.05784905e-01\n",
      " -4.79002535e-01 -8.46801877e-01  1.81686017e-03  1.09159803e+00\n",
      "  1.34156597e+00 -6.47896171e-01 -5.81635058e-01  9.91280302e-02\n",
      " -1.75735688e+00 -4.98285830e-01 -6.56379014e-02  8.69986057e-01\n",
      "  3.82089972e-01  1.80545533e+00  4.28472281e-01 -5.58596969e-01\n",
      " -1.51389372e+00 -1.87573874e+00 -1.45799565e+00  2.00761104e+00\n",
      " -1.11444056e+00  4.35949087e-01  9.32323039e-02 -3.06074381e-01\n",
      " -9.57159325e-02  2.91702604e+00  4.28670645e-01 -5.15340209e-01\n",
      " -2.39956811e-01  4.66562748e-01 -1.41242385e+00 -3.85731846e-01\n",
      " -1.87544858e+00 -9.04819787e-01 -1.22132611e+00  1.02133536e+00\n",
      "  1.11453462e+00 -4.05487984e-01  8.68495286e-01  3.16434540e-02\n",
      "  2.60024858e+00  2.09344193e-01  4.41361696e-01 -4.12291408e-01\n",
      " -1.64192468e-01 -2.33673143e+00  5.13749182e-01 -1.39230955e+00\n",
      "  2.88166292e-02  9.36797798e-01 -1.66656688e-01 -2.23321654e-02\n",
      " -8.96175444e-01  8.03694129e-01 -4.33586776e-01 -1.91946570e-02\n",
      " -1.14274502e-01 -8.31960976e-01  5.31777978e-01  5.70585914e-02\n",
      "  6.99988157e-02 -8.81574750e-01  3.77048433e-01  2.09771681e+00\n",
      "  3.14734906e-01 -9.29453254e-01  6.78183453e-04 -7.71032751e-01\n",
      " -2.98119128e-01 -7.56088376e-01  1.50756729e+00 -1.70012319e+00\n",
      " -4.45433944e-01 -1.51819468e-01 -7.38096058e-01  2.01803803e-01\n",
      "  1.78759977e-01 -1.30165207e+00  1.46891117e+00  6.64340556e-01\n",
      " -6.11399472e-01  3.67023379e-01  6.39040172e-01 -6.52026534e-01\n",
      " -7.65202522e-01  1.74359962e-01  1.05207360e+00 -3.40784520e-01\n",
      "  2.07336760e+00  4.92612541e-01 -2.35385239e-01 -3.06432605e-01\n",
      "  2.14025766e-01 -2.13291317e-01  1.06207883e+00  5.36071181e-01\n",
      " -1.39749825e+00  1.32204831e-01 -3.39716792e-01  7.50559151e-01\n",
      "  1.11786652e+00  1.81703520e+00 -4.83424842e-01  5.70758760e-01\n",
      "  2.46184111e-01 -7.65193343e-01 -4.75135237e-01 -1.54099822e+00\n",
      "  1.03349900e+00  7.73337483e-01  1.31597295e-01 -2.70237207e-01\n",
      " -1.26198339e+00 -6.04110479e-01 -1.88444591e+00  7.48250782e-01\n",
      "  1.01611011e-01  1.16741896e+00 -1.27373123e+00  9.22656059e-01\n",
      " -1.42694013e-02 -4.98702705e-01  3.66806723e-02  7.95005620e-01\n",
      " -9.50211048e-01 -6.60417303e-02  3.39786828e-01 -1.40349162e+00\n",
      "  7.63876855e-01 -1.94132149e+00  1.19421256e+00 -7.27428019e-01\n",
      "  2.28905678e-01  2.22124204e-01 -2.83697635e-01 -9.54165101e-01\n",
      " -7.13662058e-03 -4.56880808e-01 -3.06174159e-01 -6.06191456e-02\n",
      " -1.90385833e-01 -5.08287773e-02 -1.14153415e-01  7.07952797e-01\n",
      "  7.19973564e-01 -1.27880290e-01  1.80842710e+00 -8.68162394e-01\n",
      " -2.06437349e-01  4.33589518e-01 -1.21396041e+00  1.95528555e+00\n",
      "  2.90011987e-02  7.50094593e-01  1.36371642e-01 -5.48726320e-02\n",
      "  1.50348973e+00  1.53388083e-01  2.05463552e+00  4.39608812e-01\n",
      "  6.17114186e-01  4.49368894e-01  6.51866794e-02  1.02966166e+00\n",
      "  9.67250943e-01 -7.49214947e-01 -4.17952061e-01  7.43243694e-02\n",
      " -1.74692392e+00  1.11998880e+00 -2.28013977e-01  4.14459139e-01\n",
      "  1.52539596e-01  1.03780262e-01  1.29776192e-03 -1.11150157e+00\n",
      " -1.55548441e+00 -1.02249968e+00 -7.45839953e-01 -5.27268529e-01\n",
      "  1.10526109e+00 -2.14655781e+00  4.96660918e-01 -4.91063863e-01\n",
      "  5.25192209e-02  1.30288824e-01  1.54808891e+00 -1.01378596e+00\n",
      "  7.43988633e-01 -9.70647156e-01  4.99496274e-02  1.78313639e-03\n",
      " -1.52117029e-01 -1.27127481e+00 -3.30216169e-01 -6.91889703e-01\n",
      " -1.57416806e-01  5.38321435e-01 -1.02829039e+00 -5.34794867e-01\n",
      "  6.53969228e-01  6.73020959e-01 -4.19407815e-01 -1.55367658e-01\n",
      "  1.76731563e+00  4.44750786e-02  1.38616478e+00  8.55504215e-01\n",
      "  7.39723265e-01  4.87954803e-02 -6.83599830e-01  9.91736770e-01\n",
      "  2.85364300e-01  3.18393111e+00 -3.88938934e-01  6.49591327e-01\n",
      "  3.00494730e-01  2.71527141e-01  1.13791597e+00  8.21301162e-01\n",
      " -7.43532002e-01 -2.15323970e-01 -8.40894997e-01 -1.57468095e-01\n",
      "  5.47583103e-01  1.72421083e-01  4.93041217e-01  5.84540963e-01\n",
      " -4.69776690e-01 -3.87335449e-01 -4.75644797e-01 -1.75832891e+00\n",
      " -1.81250334e-01  1.15663517e+00  7.23045394e-02 -1.37852252e+00\n",
      "  7.07022250e-01  2.39930463e+00 -1.55071163e+00  1.98467031e-01\n",
      " -5.13426781e-01  3.13948601e-01  8.52705240e-02 -1.00215542e+00\n",
      " -4.38592061e-02  5.87873399e-01  4.87569809e-01  1.05697505e-01\n",
      " -6.27502322e-01  1.65781617e+00  3.15894932e-01 -5.56546934e-02\n",
      " -2.08387923e+00 -5.68095267e-01  1.60951287e-01  8.80072594e-01\n",
      "  7.91204751e-01 -5.56227684e-01  2.41475239e-01  8.41368914e-01\n",
      " -3.04932547e+00 -4.12088156e-01 -1.86565474e-01  1.09185314e+00\n",
      "  1.57834254e-02  8.71015251e-01 -1.14895058e+00  1.81964493e+00\n",
      "  6.44691646e-01 -2.21566272e+00 -3.24013382e-01 -1.36403787e+00\n",
      "  2.86760598e-01  8.74511898e-01 -1.44320484e-02 -7.02106237e-01\n",
      " -9.88367200e-01 -1.14101255e+00  7.06604064e-01 -1.30665541e+00\n",
      " -6.81930721e-01  2.47260600e-01  5.61431468e-01 -2.29310274e+00\n",
      "  1.34806979e+00  3.04273099e-01 -2.16339856e-01 -7.80487537e-01\n",
      " -6.38040304e-02 -4.96766448e-01 -4.57599849e-01  5.82616389e-01\n",
      " -1.58056155e-01  2.04449630e+00 -4.08001617e-02 -7.07635641e-01\n",
      "  9.78860140e-01  1.15644336e+00  7.51597404e-01  4.81608957e-01\n",
      "  9.25525248e-01 -1.13339138e+00 -4.66701567e-01  1.60388744e+00]\n"
     ]
    }
   ],
   "source": [
    "print('Nr of dimensions for the mebdding of the first token:', len(word_vectors[0][0]))\n",
    "print(word_vectors[0][0])"
   ]
  },
  {
   "cell_type": "markdown",
   "metadata": {},
   "source": [
    "**WAIT** Our sentence has 7 words so why do we get 9 tokens here?"
   ]
  },
  {
   "cell_type": "markdown",
   "metadata": {},
   "source": [
    "We can  use the tokenizer of the model to get the token representation of the transformer and check it out."
   ]
  },
  {
   "cell_type": "code",
   "execution_count": 45,
   "metadata": {},
   "outputs": [
    {
     "data": {
      "text/plain": [
       "{'input_ids': [101, 100, 3309, 1998, 1996, 2326, 2003, 2307, 102], 'token_type_ids': [0, 0, 0, 0, 0, 0, 0, 0, 0], 'attention_mask': [1, 1, 1, 1, 1, 1, 1, 1, 1]}"
      ]
     },
     "execution_count": 45,
     "metadata": {},
     "output_type": "execute_result"
    }
   ],
   "source": [
    "tokenized_sentence = model.tokenizer(sentence_pos_en)\n",
    "tokenized_sentence"
   ]
  },
  {
   "cell_type": "markdown",
   "metadata": {},
   "source": [
    "Although our sentence has 7 words, we get 9 identifiers. We can use the **decode** function to convert them back to words:"
   ]
  },
  {
   "cell_type": "code",
   "execution_count": 48,
   "metadata": {},
   "outputs": [
    {
     "data": {
      "text/plain": [
       "'[CLS]'"
      ]
     },
     "execution_count": 48,
     "metadata": {},
     "output_type": "execute_result"
    }
   ],
   "source": [
    "model.tokenizer.decode(101)"
   ]
  },
  {
   "cell_type": "markdown",
   "metadata": {},
   "source": [
    "The first token is the special token **CLS** which is an abstract sentence representation. Let's check another one:"
   ]
  },
  {
   "cell_type": "code",
   "execution_count": 51,
   "metadata": {},
   "outputs": [
    {
     "data": {
      "text/plain": [
       "'hotel'"
      ]
     },
     "execution_count": 51,
     "metadata": {},
     "output_type": "execute_result"
    }
   ],
   "source": [
    "model.tokenizer.decode(3309)"
   ]
  },
  {
   "cell_type": "markdown",
   "metadata": {},
   "source": [
    "Allright, this a word from our sentence. Let's decode them all:"
   ]
  },
  {
   "cell_type": "code",
   "execution_count": 54,
   "metadata": {},
   "outputs": [
    {
     "name": "stdout",
     "output_type": "stream",
     "text": [
      "101 [CLS]\n",
      "100 [UNK]\n",
      "3309 hotel\n",
      "1998 and\n",
      "1996 the\n",
      "2326 service\n",
      "2003 is\n",
      "2307 great\n",
      "102 [SEP]\n"
     ]
    }
   ],
   "source": [
    "tokenid_list = tokenized_sentence['input_ids']\n",
    "for token_id in tokenid_list:\n",
    "    print(token_id, model.tokenizer.decode(token_id))"
   ]
  },
  {
   "cell_type": "markdown",
   "metadata": {},
   "source": [
    "The transformer model added the special tokens **CLS** and **SEP** but also represented our \"Nice\" with the **UNK** token. Any idea why? Check the name of the model we used....."
   ]
  },
  {
   "cell_type": "markdown",
   "metadata": {},
   "source": [
    "We used the uncased model, which means that for training all inoput was downcased."
   ]
  },
  {
   "cell_type": "markdown",
   "metadata": {},
   "source": [
    "# End of this notebook"
   ]
  }
 ],
 "metadata": {
  "kernelspec": {
   "display_name": "Python 3 (ipykernel)",
   "language": "python",
   "name": "python3"
  },
  "language_info": {
   "codemirror_mode": {
    "name": "ipython",
    "version": 3
   },
   "file_extension": ".py",
   "mimetype": "text/x-python",
   "name": "python",
   "nbconvert_exporter": "python",
   "pygments_lexer": "ipython3",
   "version": "3.12.3"
  }
 },
 "nbformat": 4,
 "nbformat_minor": 4
}
