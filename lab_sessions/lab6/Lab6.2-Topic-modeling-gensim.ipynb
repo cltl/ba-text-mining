{
 "cells": [
  {
   "cell_type": "markdown",
   "metadata": {},
   "source": [
    "# Lab6.2: Topic modeling using gensim"
   ]
  },
  {
   "cell_type": "markdown",
   "metadata": {},
   "source": [
    "In this notebook, we demonstrate how LDA models can be built and applied using the *gensim* package.\n",
    "\n",
    "Credits:\n",
    "\n",
    "This notebook is an adaptation of a blog from Susan Li's:\n",
    "\n",
    "https://towardsdatascience.com/topic-modeling-and-latent-dirichlet-allocation-in-python-9bf156893c24\n",
    "\n"
   ]
  },
  {
   "cell_type": "markdown",
   "metadata": {},
   "source": [
    "The data set we’ll use is a list of over one million news headlines published over a period of 15 years and can be downloaded from:\n",
    "\n",
    "https://www.kaggle.com/therohk/million-headlines/data\n",
    "\n",
    "You can also find this file in the lab6 folder.\n",
    "\n",
    "We read the CSV file using the pandas framework."
   ]
  },
  {
   "cell_type": "code",
   "execution_count": 2,
   "metadata": {},
   "outputs": [],
   "source": [
    "import pandas as pd\n",
    "\n",
    "#### Adapt the path below to point to your local copy of the data set\n",
    "data = pd.read_csv('abcnews-date-text.csv', on_bad_lines=\"warn\");\n",
    "data_text = data[['headline_text']]\n",
    "data_text['index'] = data_text.index\n",
    "documents = data_text"
   ]
  },
  {
   "cell_type": "markdown",
   "metadata": {},
   "source": [
    "Let's have a look at the data:"
   ]
  },
  {
   "cell_type": "code",
   "execution_count": 6,
   "metadata": {},
   "outputs": [
    {
     "name": "stdout",
     "output_type": "stream",
     "text": [
      "1244184\n",
      "                                       headline_text  index\n",
      "0  aba decides against community broadcasting lic...      0\n",
      "1     act fire witnesses must be aware of defamation      1\n",
      "2     a g calls for infrastructure protection summit      2\n",
      "3           air nz staff in aust strike for pay rise      3\n",
      "4      air nz strike to affect australian travellers      4\n"
     ]
    }
   ],
   "source": [
    "print(len(documents))\n",
    "print(documents[:5])"
   ]
  },
  {
   "cell_type": "markdown",
   "metadata": {},
   "source": [
    "We are going to use the *gensim* package to build our LDA models from the data.\n",
    "Before building the model, we are going to preprocess the texts."
   ]
  },
  {
   "cell_type": "markdown",
   "metadata": {},
   "source": [
    "## Data Pre-processing\n",
    "We will perform the following steps:\n",
    "\n",
    "* Tokenization: Split the text into sentences and the sentences into words. Lowercase the words and remove punctuation.\n",
    "* Words that have fewer than 3 characters are removed.\n",
    "* All stopwords are removed.\n",
    "* Words are lemmatized — words in third person are changed to first person and verbs in past and future tenses are changed into present.\n",
    "* Words are stemmed — words are reduced to their root form.\n",
    "\n",
    "In order to apply these processing steps, we first load the gensim and nltk libraries"
   ]
  },
  {
   "cell_type": "code",
   "execution_count": 10,
   "metadata": {},
   "outputs": [
    {
     "name": "stderr",
     "output_type": "stream",
     "text": [
      "C:\\Users\\szcze\\anaconda3\\Lib\\site-packages\\paramiko\\pkey.py:82: CryptographyDeprecationWarning: TripleDES has been moved to cryptography.hazmat.decrepit.ciphers.algorithms.TripleDES and will be removed from this module in 48.0.0.\n",
      "  \"cipher\": algorithms.TripleDES,\n",
      "C:\\Users\\szcze\\anaconda3\\Lib\\site-packages\\paramiko\\transport.py:219: CryptographyDeprecationWarning: Blowfish has been moved to cryptography.hazmat.decrepit.ciphers.algorithms.Blowfish and will be removed from this module in 45.0.0.\n",
      "  \"class\": algorithms.Blowfish,\n",
      "C:\\Users\\szcze\\anaconda3\\Lib\\site-packages\\paramiko\\transport.py:243: CryptographyDeprecationWarning: TripleDES has been moved to cryptography.hazmat.decrepit.ciphers.algorithms.TripleDES and will be removed from this module in 48.0.0.\n",
      "  \"class\": algorithms.TripleDES,\n",
      "[nltk_data] Downloading package wordnet to\n",
      "[nltk_data]     C:\\Users\\szcze\\AppData\\Roaming\\nltk_data...\n",
      "[nltk_data]   Package wordnet is already up-to-date!\n"
     ]
    }
   ],
   "source": [
    "import gensim\n",
    "from gensim.utils import simple_preprocess\n",
    "from gensim.parsing.preprocessing import STOPWORDS\n",
    "from nltk.stem import WordNetLemmatizer, SnowballStemmer\n",
    "from nltk.stem.porter import *\n",
    "import numpy as np\n",
    "np.random.seed(2018)\n",
    "import nltk\n",
    "nltk.download('wordnet')\n",
    "\n",
    "lemmatizer = WordNetLemmatizer()"
   ]
  },
  {
   "cell_type": "code",
   "execution_count": 12,
   "metadata": {},
   "outputs": [],
   "source": [
    "def lemmatize_stemming(text):\n",
    "    return lemmatizer.lemmatize(text)\n",
    "def preprocess(text):\n",
    "    result = []\n",
    "    for token in gensim.utils.simple_preprocess(text):\n",
    "        if token not in gensim.parsing.preprocessing.STOPWORDS and len(token) > 3:\n",
    "           # result.append(token)\n",
    "            result.append(lemmatize_stemming(token))\n",
    "    return result"
   ]
  },
  {
   "cell_type": "code",
   "execution_count": 14,
   "metadata": {},
   "outputs": [
    {
     "name": "stdout",
     "output_type": "stream",
     "text": [
      "original document: \n",
      "['ratepayers', 'group', 'wants', 'compulsory', 'local', 'govt', 'voting']\n",
      "\n",
      "\n",
      " tokenized and lemmatized document: \n",
      "['ratepayer', 'group', 'want', 'compulsory', 'local', 'govt', 'voting']\n"
     ]
    }
   ],
   "source": [
    "doc_sample = documents[documents['index'] == 4310].values[0][0]\n",
    "print('original document: ')\n",
    "words = []\n",
    "for word in doc_sample.split(' '):\n",
    "    words.append(word)\n",
    "print(words)\n",
    "print('\\n\\n tokenized and lemmatized document: ')\n",
    "print(preprocess(doc_sample))"
   ]
  },
  {
   "cell_type": "markdown",
   "metadata": {},
   "source": [
    "We now apply the preprocessing to all the headlines and print the first 10 results"
   ]
  },
  {
   "cell_type": "code",
   "execution_count": 16,
   "metadata": {},
   "outputs": [
    {
     "data": {
      "text/plain": [
       "0          [decides, community, broadcasting, licence]\n",
       "1                         [witness, aware, defamation]\n",
       "2           [call, infrastructure, protection, summit]\n",
       "3                          [staff, aust, strike, rise]\n",
       "4              [strike, affect, australian, traveller]\n",
       "5               [ambitious, olsson, win, triple, jump]\n",
       "6          [antic, delighted, record, breaking, barca]\n",
       "7    [aussie, qualifier, stosur, waste, memphis, ma...\n",
       "8             [aust, address, security, council, iraq]\n",
       "9                       [australia, locked, timetable]\n",
       "Name: headline_text, dtype: object"
      ]
     },
     "execution_count": 16,
     "metadata": {},
     "output_type": "execute_result"
    }
   ],
   "source": [
    "processed_docs = documents['headline_text'].map(preprocess)\n",
    "### print the first 10 results\n",
    "processed_docs[:10]"
   ]
  },
  {
   "cell_type": "markdown",
   "metadata": {},
   "source": [
    "## Bag of Words on the Data set\n",
    "Create a dictionary from ‘processed_docs’ containing the number of times a word appears in the training set.\n",
    "We are going to use the *Dictionary* function to derive a dictionary with counts from the headlines."
   ]
  },
  {
   "cell_type": "code",
   "execution_count": 19,
   "metadata": {},
   "outputs": [
    {
     "name": "stdout",
     "output_type": "stream",
     "text": [
      "0 broadcasting\n",
      "1 community\n",
      "2 decides\n",
      "3 licence\n",
      "4 aware\n",
      "5 defamation\n",
      "6 witness\n",
      "7 call\n",
      "8 infrastructure\n",
      "9 protection\n",
      "10 summit\n"
     ]
    }
   ],
   "source": [
    "dictionary = gensim.corpora.Dictionary(processed_docs)\n",
    "count = 0\n",
    "for k, v in dictionary.iteritems():\n",
    "    print(k, v)\n",
    "    count += 1\n",
    "    if count > 10:\n",
    "        break"
   ]
  },
  {
   "cell_type": "markdown",
   "metadata": {},
   "source": [
    "## Gensim filter_extremes\n",
    "Filter out tokens that appear in\n",
    "less than 15 documents (absolute number) or\n",
    "more than 0.5 documents (fraction of total corpus size, not absolute number).\n",
    "after the above two steps, keep only the first 100000 most frequent tokens."
   ]
  },
  {
   "cell_type": "code",
   "execution_count": 21,
   "metadata": {},
   "outputs": [],
   "source": [
    "dictionary.filter_extremes(no_below=15, no_above=0.5, keep_n=100000)"
   ]
  },
  {
   "cell_type": "markdown",
   "metadata": {},
   "source": [
    "## Gensim doc2bow\n",
    "For each document we create a dictionary reporting how many words and how many times those words appear. \n",
    "Gensim provides the *doc2bow* function to create a BoW vector representation for a document.\n",
    "Save this to ‘bow_corpus’, then check our selected document earlier."
   ]
  },
  {
   "cell_type": "code",
   "execution_count": 23,
   "metadata": {},
   "outputs": [
    {
     "data": {
      "text/plain": [
       "[(164, 1), (241, 1), (615, 1), (891, 1), (4175, 1), (4176, 1), (4177, 1)]"
      ]
     },
     "execution_count": 23,
     "metadata": {},
     "output_type": "execute_result"
    }
   ],
   "source": [
    "bow_corpus = [dictionary.doc2bow(doc) for doc in processed_docs]\n",
    "bow_corpus[4310]"
   ]
  },
  {
   "cell_type": "markdown",
   "metadata": {},
   "source": [
    "Preview Bag Of Words for our sample preprocessed document."
   ]
  },
  {
   "cell_type": "code",
   "execution_count": 25,
   "metadata": {},
   "outputs": [
    {
     "name": "stdout",
     "output_type": "stream",
     "text": [
      "Word 164 (\"govt\") appears 1 time.\n",
      "Word 241 (\"group\") appears 1 time.\n",
      "Word 615 (\"local\") appears 1 time.\n",
      "Word 891 (\"want\") appears 1 time.\n",
      "Word 4175 (\"compulsory\") appears 1 time.\n",
      "Word 4176 (\"ratepayer\") appears 1 time.\n",
      "Word 4177 (\"voting\") appears 1 time.\n"
     ]
    }
   ],
   "source": [
    "bow_doc_4310 = bow_corpus[4310]\n",
    "for i in range(len(bow_doc_4310)):\n",
    "    print(\"Word {} (\\\"{}\\\") appears {} time.\".format(bow_doc_4310[i][0], \n",
    "                                               dictionary[bow_doc_4310[i][0]], \n",
    "bow_doc_4310[i][1]))"
   ]
  },
  {
   "cell_type": "markdown",
   "metadata": {},
   "source": [
    "## TF-IDF\n",
    "Create tf-idf model object using models.TfidfModel on ‘bow_corpus’ and save it to ‘tfidf’, then apply transformation to the entire corpus and call it ‘corpus_tfidf’. Finally we preview TF-IDF scores for our first document.\n"
   ]
  },
  {
   "cell_type": "code",
   "execution_count": 31,
   "metadata": {},
   "outputs": [
    {
     "name": "stdout",
     "output_type": "stream",
     "text": [
      "[(0, 0.6161125947380649),\n",
      " (1, 0.3308772069039591),\n",
      " (2, 0.5681053683635203),\n",
      " (3, 0.43379930266554434)]\n"
     ]
    }
   ],
   "source": [
    "from gensim import corpora, models\n",
    "tfidf = models.TfidfModel(bow_corpus)\n",
    "corpus_tfidf = tfidf[bow_corpus]\n",
    "from pprint import pprint\n",
    "for doc in corpus_tfidf:\n",
    "    pprint(doc)\n",
    "    break"
   ]
  },
  {
   "cell_type": "markdown",
   "metadata": {},
   "source": [
    "## Running LDA using Bag of Words\n",
    "Train our lda model using gensim.models.LdaMulticore and save it to ‘lda_model’. This takes a while.\n",
    "Look at the documentation of *gensim* for further details:\n",
    "\n",
    "https://radimrehurek.com/gensim/models/ldamulticore.html\n",
    "\n",
    "As parameters, we pass the corpus data as BoW (a list of lists of tuples), the prefixed number of topics, the actual words and the number of passes and workers used for modeling."
   ]
  },
  {
   "cell_type": "code",
   "execution_count": 34,
   "metadata": {},
   "outputs": [],
   "source": [
    "lda_model = gensim.models.LdaMulticore(bow_corpus, num_topics=10, id2word=dictionary, passes=2, workers=2)"
   ]
  },
  {
   "cell_type": "markdown",
   "metadata": {},
   "source": [
    "For each topic, we will explore the words occuring in that topic and its relative weight."
   ]
  },
  {
   "cell_type": "code",
   "execution_count": 36,
   "metadata": {},
   "outputs": [
    {
     "name": "stdout",
     "output_type": "stream",
     "text": [
      "Topic: 0 \n",
      "Words: 0.036*\"case\" + 0.025*\"court\" + 0.022*\"police\" + 0.021*\"woman\" + 0.020*\"child\" + 0.020*\"vaccine\" + 0.018*\"murder\" + 0.014*\"death\" + 0.014*\"charged\" + 0.014*\"face\"\n",
      "Topic: 1 \n",
      "Words: 0.039*\"police\" + 0.023*\"school\" + 0.016*\"house\" + 0.014*\"missing\" + 0.012*\"guilty\" + 0.011*\"drum\" + 0.011*\"family\" + 0.011*\"crash\" + 0.010*\"melbourne\" + 0.010*\"search\"\n",
      "Topic: 2 \n",
      "Words: 0.016*\"life\" + 0.015*\"premier\" + 0.013*\"time\" + 0.013*\"claim\" + 0.012*\"speaks\" + 0.012*\"pandemic\" + 0.012*\"hotel\" + 0.011*\"road\" + 0.011*\"say\" + 0.011*\"young\"\n",
      "Topic: 3 \n",
      "Words: 0.022*\"government\" + 0.020*\"coast\" + 0.017*\"national\" + 0.015*\"plan\" + 0.015*\"live\" + 0.015*\"federal\" + 0.012*\"gold\" + 0.012*\"care\" + 0.012*\"farmer\" + 0.010*\"aged\"\n",
      "Topic: 4 \n",
      "Words: 0.040*\"coronavirus\" + 0.024*\"covid\" + 0.020*\"open\" + 0.017*\"lockdown\" + 0.016*\"hospital\" + 0.016*\"australian\" + 0.015*\"dy\" + 0.015*\"final\" + 0.014*\"sydney\" + 0.012*\"tasmanian\"\n",
      "Topic: 5 \n",
      "Words: 0.027*\"election\" + 0.022*\"health\" + 0.019*\"say\" + 0.017*\"people\" + 0.016*\"minister\" + 0.015*\"change\" + 0.014*\"business\" + 0.014*\"morrison\" + 0.012*\"labor\" + 0.011*\"andrew\"\n",
      "Topic: 6 \n",
      "Words: 0.040*\"covid\" + 0.036*\"trump\" + 0.035*\"queensland\" + 0.029*\"victoria\" + 0.024*\"coronavirus\" + 0.023*\"australia\" + 0.020*\"record\" + 0.019*\"news\" + 0.015*\"market\" + 0.014*\"south\"\n",
      "Topic: 7 \n",
      "Words: 0.029*\"home\" + 0.021*\"tasmania\" + 0.019*\"test\" + 0.015*\"royal\" + 0.014*\"return\" + 0.012*\"commission\" + 0.012*\"power\" + 0.012*\"fight\" + 0.011*\"perth\" + 0.010*\"town\"\n",
      "Topic: 8 \n",
      "Words: 0.054*\"australia\" + 0.024*\"donald\" + 0.018*\"restriction\" + 0.013*\"world\" + 0.012*\"australian\" + 0.011*\"climate\" + 0.011*\"win\" + 0.010*\"attack\" + 0.010*\"coronavirus\" + 0.009*\"high\"\n",
      "Topic: 9 \n",
      "Words: 0.020*\"border\" + 0.017*\"north\" + 0.015*\"china\" + 0.014*\"protest\" + 0.013*\"west\" + 0.012*\"amid\" + 0.011*\"say\" + 0.011*\"president\" + 0.010*\"biden\" + 0.009*\"student\"\n"
     ]
    }
   ],
   "source": [
    "for idx, topic in lda_model.print_topics(-1):\n",
    "    print('Topic: {} \\nWords: {}'.format(idx, topic))"
   ]
  },
  {
   "cell_type": "markdown",
   "metadata": {},
   "source": [
    "Can you distinguish different topics using the words in each topic and their corresponding weights?"
   ]
  },
  {
   "cell_type": "markdown",
   "metadata": {},
   "source": [
    "## Running LDA using TF-IDF"
   ]
  },
  {
   "cell_type": "code",
   "execution_count": 39,
   "metadata": {},
   "outputs": [
    {
     "name": "stdout",
     "output_type": "stream",
     "text": [
      "Topic: 0 Word: 0.012*\"government\" + 0.009*\"country\" + 0.009*\"coronavirus\" + 0.008*\"health\" + 0.008*\"federal\" + 0.007*\"hour\" + 0.006*\"election\" + 0.006*\"andrew\" + 0.006*\"funding\" + 0.005*\"covid\"\n",
      "Topic: 1 Word: 0.014*\"royal\" + 0.011*\"commission\" + 0.010*\"story\" + 0.010*\"christmas\" + 0.009*\"young\" + 0.008*\"daniel\" + 0.007*\"testing\" + 0.006*\"mount\" + 0.005*\"win\" + 0.005*\"allegedly\"\n",
      "Topic: 2 Word: 0.008*\"peter\" + 0.006*\"grandstand\" + 0.006*\"june\" + 0.006*\"social\" + 0.006*\"prime\" + 0.006*\"know\" + 0.006*\"territory\" + 0.005*\"america\" + 0.005*\"hong\" + 0.005*\"minister\"\n",
      "Topic: 3 Word: 0.016*\"coronavirus\" + 0.016*\"covid\" + 0.011*\"case\" + 0.010*\"record\" + 0.010*\"market\" + 0.009*\"price\" + 0.008*\"rise\" + 0.008*\"rate\" + 0.007*\"australian\" + 0.007*\"share\"\n",
      "Topic: 4 Word: 0.018*\"donald\" + 0.013*\"drum\" + 0.008*\"tuesday\" + 0.008*\"wednesday\" + 0.008*\"michael\" + 0.008*\"hill\" + 0.007*\"sport\" + 0.007*\"friday\" + 0.007*\"league\" + 0.006*\"outback\"\n",
      "Topic: 5 Word: 0.024*\"news\" + 0.016*\"interview\" + 0.013*\"scott\" + 0.012*\"rural\" + 0.011*\"speaks\" + 0.009*\"coronavirus\" + 0.008*\"pandemic\" + 0.007*\"biden\" + 0.007*\"extended\" + 0.007*\"covid\"\n",
      "Topic: 6 Word: 0.013*\"australia\" + 0.013*\"live\" + 0.011*\"morrison\" + 0.009*\"climate\" + 0.008*\"coronavirus\" + 0.008*\"update\" + 0.007*\"covid\" + 0.006*\"cricket\" + 0.006*\"zealand\" + 0.006*\"final\"\n",
      "Topic: 7 Word: 0.024*\"trump\" + 0.015*\"police\" + 0.014*\"crash\" + 0.011*\"woman\" + 0.011*\"murder\" + 0.010*\"charged\" + 0.009*\"death\" + 0.009*\"missing\" + 0.007*\"search\" + 0.007*\"court\"\n",
      "Topic: 8 Word: 0.009*\"weather\" + 0.008*\"north\" + 0.008*\"queensland\" + 0.008*\"monday\" + 0.007*\"south\" + 0.007*\"thursday\" + 0.007*\"david\" + 0.006*\"korea\" + 0.006*\"australia\" + 0.006*\"violence\"\n",
      "Topic: 9 Word: 0.014*\"vaccine\" + 0.011*\"lockdown\" + 0.008*\"police\" + 0.006*\"sexual\" + 0.006*\"turnbull\" + 0.006*\"abuse\" + 0.006*\"mother\" + 0.005*\"november\" + 0.005*\"september\" + 0.005*\"court\"\n"
     ]
    }
   ],
   "source": [
    "lda_model_tfidf = gensim.models.LdaMulticore(corpus_tfidf, num_topics=10, id2word=dictionary, passes=2, workers=4)\n",
    "for idx, topic in lda_model_tfidf.print_topics(-1):\n",
    "    print('Topic: {} Word: {}'.format(idx, topic))"
   ]
  },
  {
   "cell_type": "markdown",
   "metadata": {},
   "source": [
    "Again, can you distinguish different topics using the words in each topic and their corresponding weights? Do you observe any differences with the BoW version? Do these differences make sense given the information value weighing by the *tfidf* method?"
   ]
  },
  {
   "cell_type": "markdown",
   "metadata": {},
   "source": [
    "## Performance evaluation by classifying sample document using LDA Bag of Words model\n",
    "We will check where our test document would be classified."
   ]
  },
  {
   "cell_type": "code",
   "execution_count": 42,
   "metadata": {},
   "outputs": [
    {
     "data": {
      "text/plain": [
       "['ratepayer', 'group', 'want', 'compulsory', 'local', 'govt', 'voting']"
      ]
     },
     "execution_count": 42,
     "metadata": {},
     "output_type": "execute_result"
    }
   ],
   "source": [
    "processed_docs[4310]"
   ]
  },
  {
   "cell_type": "markdown",
   "metadata": {},
   "source": [
    "Document 4310 is already represented in the correct way. We can directly pass it to our *lda_model* to get the similarity scores for each topic. We represent each topic by printing "
   ]
  },
  {
   "cell_type": "code",
   "execution_count": 44,
   "metadata": {},
   "outputs": [
    {
     "name": "stdout",
     "output_type": "stream",
     "text": [
      "\n",
      "Score: 0.3982229232788086\t \n",
      "Topic: 0.022*\"government\" + 0.020*\"coast\" + 0.017*\"national\" + 0.015*\"plan\" + 0.015*\"live\" + 0.015*\"federal\" + 0.012*\"gold\" + 0.012*\"care\" + 0.012*\"farmer\" + 0.010*\"aged\"\n",
      "\n",
      "Score: 0.2394091933965683\t \n",
      "Topic: 0.027*\"election\" + 0.022*\"health\" + 0.019*\"say\" + 0.017*\"people\" + 0.016*\"minister\" + 0.015*\"change\" + 0.014*\"business\" + 0.014*\"morrison\" + 0.012*\"labor\" + 0.011*\"andrew\"\n",
      "\n",
      "Score: 0.150007426738739\t \n",
      "Topic: 0.040*\"covid\" + 0.036*\"trump\" + 0.035*\"queensland\" + 0.029*\"victoria\" + 0.024*\"coronavirus\" + 0.023*\"australia\" + 0.020*\"record\" + 0.019*\"news\" + 0.015*\"market\" + 0.014*\"south\"\n",
      "\n",
      "Score: 0.13729117810726166\t \n",
      "Topic: 0.039*\"police\" + 0.023*\"school\" + 0.016*\"house\" + 0.014*\"missing\" + 0.012*\"guilty\" + 0.011*\"drum\" + 0.011*\"family\" + 0.011*\"crash\" + 0.010*\"melbourne\" + 0.010*\"search\"\n",
      "\n",
      "Score: 0.012511841021478176\t \n",
      "Topic: 0.020*\"border\" + 0.017*\"north\" + 0.015*\"china\" + 0.014*\"protest\" + 0.013*\"west\" + 0.012*\"amid\" + 0.011*\"say\" + 0.011*\"president\" + 0.010*\"biden\" + 0.009*\"student\"\n",
      "\n",
      "Score: 0.012511784210801125\t \n",
      "Topic: 0.016*\"life\" + 0.015*\"premier\" + 0.013*\"time\" + 0.013*\"claim\" + 0.012*\"speaks\" + 0.012*\"pandemic\" + 0.012*\"hotel\" + 0.011*\"road\" + 0.011*\"say\" + 0.011*\"young\"\n",
      "\n",
      "Score: 0.01251178327947855\t \n",
      "Topic: 0.029*\"home\" + 0.021*\"tasmania\" + 0.019*\"test\" + 0.015*\"royal\" + 0.014*\"return\" + 0.012*\"commission\" + 0.012*\"power\" + 0.012*\"fight\" + 0.011*\"perth\" + 0.010*\"town\"\n",
      "\n",
      "Score: 0.012511280365288258\t \n",
      "Topic: 0.036*\"case\" + 0.025*\"court\" + 0.022*\"police\" + 0.021*\"woman\" + 0.020*\"child\" + 0.020*\"vaccine\" + 0.018*\"murder\" + 0.014*\"death\" + 0.014*\"charged\" + 0.014*\"face\"\n",
      "\n",
      "Score: 0.012511280365288258\t \n",
      "Topic: 0.040*\"coronavirus\" + 0.024*\"covid\" + 0.020*\"open\" + 0.017*\"lockdown\" + 0.016*\"hospital\" + 0.016*\"australian\" + 0.015*\"dy\" + 0.015*\"final\" + 0.014*\"sydney\" + 0.012*\"tasmanian\"\n",
      "\n",
      "Score: 0.012511280365288258\t \n",
      "Topic: 0.054*\"australia\" + 0.024*\"donald\" + 0.018*\"restriction\" + 0.013*\"world\" + 0.012*\"australian\" + 0.011*\"climate\" + 0.011*\"win\" + 0.010*\"attack\" + 0.010*\"coronavirus\" + 0.009*\"high\"\n"
     ]
    }
   ],
   "source": [
    "for index, score in sorted(lda_model[bow_corpus[4310]], key=lambda tup: -1*tup[1]):\n",
    "    print(\"\\nScore: {}\\t \\nTopic: {}\".format(score, lda_model.print_topic(index, 10)))"
   ]
  },
  {
   "cell_type": "markdown",
   "metadata": {},
   "source": [
    "Our test document has the highest probability to be part of the topic that our model assigned, which is the accurate classification."
   ]
  },
  {
   "cell_type": "markdown",
   "metadata": {},
   "source": [
    "### Analyzing our LDA model\n",
    "\n",
    "Now that we have a trained model let’s visualize the topics for interpretability. \n",
    "To do so, we’ll use a popular visualization package, *pyLDAvis* which is designed to help interactively with:\n",
    "\n",
    "1. Better understanding and interpreting individual topics, and\n",
    "2. Better understanding the relationships between the topics.\n",
    "\n",
    "For (1), you can manually select each topic to view its top most frequent and/or “relevant” terms, using different values of the λ parameter. This can help when you’re trying to assign a human interpretable name or “meaning” to each topic.\n",
    "For (2), exploring the Intertopic Distance Plot can help you learn about how topics relate to each other, including potential higher-level structure between groups of topics.\n",
    "\n",
    "You need to install *pyldavis* through the command line, following the instructions:\n",
    "\n",
    "https://anaconda.org/conda-forge/pyldavis\n",
    "\n",
    "WARNING: running the next cell takes a long time and you need some memory to run it. However, the result is spectacular."
   ]
  },
  {
   "cell_type": "code",
   "execution_count": 47,
   "metadata": {},
   "outputs": [
    {
     "data": {
      "text/html": [
       "\n",
       "<link rel=\"stylesheet\" type=\"text/css\" href=\"https://cdn.jsdelivr.net/gh/bmabey/pyLDAvis@3.4.0/pyLDAvis/js/ldavis.v1.0.0.css\">\n",
       "\n",
       "\n",
       "<div id=\"ldavis_el3718826979894082088761538624\" style=\"background-color:white;\"></div>\n",
       "<script type=\"text/javascript\">\n",
       "\n",
       "var ldavis_el3718826979894082088761538624_data = {\"mdsDat\": {\"x\": [0.2774653509653717, 0.29755310556227305, -0.15862538322203373, -0.11097557191141255, -0.13194204313569496, -0.20534754861139137, 0.04725864310628476, -0.10901628446303219, -0.0007050360187063998, 0.09433476772834157], \"y\": [-0.01975648145115077, -0.0298569513925327, 0.22449891433490557, -0.2899820470927934, -0.1317835179019449, -0.10456619675328088, -0.05953467126680887, 0.25174262959554716, 0.06132445867564017, 0.09791386325241891], \"topics\": [1, 2, 3, 4, 5, 6, 7, 8, 9, 10], \"cluster\": [1, 1, 1, 1, 1, 1, 1, 1, 1, 1], \"Freq\": [12.208805513835602, 11.268088394996834, 10.680638683669475, 10.039286921286255, 9.656691363602956, 9.582068341410533, 9.557120792295985, 9.0728169416803, 8.975670119619767, 8.958812927602294]}, \"tinfo\": {\"Term\": [\"australia\", \"covid\", \"police\", \"case\", \"trump\", \"queensland\", \"coronavirus\", \"victoria\", \"election\", \"home\", \"court\", \"government\", \"donald\", \"health\", \"school\", \"coast\", \"child\", \"vaccine\", \"tasmania\", \"woman\", \"record\", \"border\", \"open\", \"news\", \"national\", \"murder\", \"people\", \"test\", \"minister\", \"restriction\", \"coast\", \"national\", \"live\", \"federal\", \"plan\", \"gold\", \"care\", \"aged\", \"industry\", \"rural\", \"fear\", \"park\", \"farm\", \"week\", \"port\", \"green\", \"food\", \"social\", \"tourism\", \"land\", \"housing\", \"extended\", \"prince\", \"closure\", \"tree\", \"territory\", \"impact\", \"mask\", \"data\", \"cattle\", \"project\", \"farmer\", \"government\", \"concern\", \"council\", \"regional\", \"drought\", \"local\", \"future\", \"water\", \"health\", \"people\", \"minister\", \"business\", \"morrison\", \"labor\", \"andrew\", \"country\", \"service\", \"budget\", \"show\", \"rate\", \"rule\", \"assault\", \"parliament\", \"medium\", \"mental\", \"aboriginal\", \"push\", \"sport\", \"briefing\", \"told\", \"russia\", \"hour\", \"parent\", \"refugee\", \"election\", \"remote\", \"defends\", \"decision\", \"change\", \"indigenous\", \"rise\", \"say\", \"community\", \"need\", \"government\", \"worker\", \"call\", \"case\", \"court\", \"child\", \"vaccine\", \"murder\", \"charged\", \"trial\", \"face\", \"scott\", \"charge\", \"quarantine\", \"accused\", \"drug\", \"alleged\", \"abuse\", \"party\", \"arrested\", \"zealand\", \"look\", \"investigation\", \"jailed\", \"protester\", \"appeal\", \"shot\", \"coal\", \"kid\", \"prime\", \"rape\", \"allegation\", \"march\", \"sexual\", \"woman\", \"police\", \"death\", \"year\", \"inquiry\", \"trump\", \"queensland\", \"victoria\", \"record\", \"news\", \"market\", \"street\", \"interview\", \"india\", \"warning\", \"travel\", \"wall\", \"video\", \"christmas\", \"michael\", \"close\", \"east\", \"share\", \"free\", \"company\", \"alan\", \"cyclone\", \"break\", \"tuesday\", \"sale\", \"george\", \"thursday\", \"outback\", \"central\", \"month\", \"fall\", \"covid\", \"south\", \"trade\", \"victorian\", \"coronavirus\", \"australia\", \"brisbane\", \"australian\", \"price\", \"china\", \"year\", \"donald\", \"restriction\", \"climate\", \"win\", \"violence\", \"baby\", \"near\", \"cricket\", \"hit\", \"take\", \"hong\", \"kill\", \"dollar\", \"johnson\", \"footage\", \"domestic\", \"kong\", \"shark\", \"airport\", \"best\", \"survivor\", \"billion\", \"politics\", \"whale\", \"response\", \"aussie\", \"music\", \"artist\", \"breach\", \"boris\", \"tour\", \"australia\", \"world\", \"million\", \"centre\", \"high\", \"attack\", \"chinese\", \"killed\", \"city\", \"australian\", \"coronavirus\", \"china\", \"sydney\", \"death\", \"lockdown\", \"hospital\", \"dy\", \"final\", \"tasmanian\", \"update\", \"weather\", \"mark\", \"doctor\", \"prison\", \"friday\", \"outbreak\", \"lead\", \"race\", \"grand\", \"patient\", \"truck\", \"cut\", \"smith\", \"indonesia\", \"online\", \"injured\", \"open\", \"global\", \"mount\", \"latest\", \"tourist\", \"wild\", \"king\", \"medical\", \"beat\", \"super\", \"coronavirus\", \"covid\", \"crash\", \"australian\", \"sydney\", \"melbourne\", \"player\", \"year\", \"border\", \"north\", \"protest\", \"west\", \"amid\", \"president\", \"biden\", \"liberal\", \"program\", \"john\", \"season\", \"story\", \"talk\", \"hobart\", \"crisis\", \"david\", \"international\", \"peter\", \"jail\", \"sentenced\", \"korea\", \"chief\", \"meet\", \"monday\", \"warns\", \"thousand\", \"wednesday\", \"rollout\", \"killing\", \"staff\", \"launch\", \"china\", \"student\", \"say\", \"south\", \"australian\", \"game\", \"school\", \"missing\", \"guilty\", \"drum\", \"search\", \"announces\", \"northern\", \"emergency\", \"finance\", \"daniel\", \"white\", \"fatal\", \"teen\", \"rescue\", \"facebook\", \"cancer\", \"great\", \"continues\", \"leaf\", \"money\", \"like\", \"france\", \"human\", \"united\", \"come\", \"pleads\", \"drone\", \"boat\", \"flooding\", \"lost\", \"house\", \"police\", \"dead\", \"help\", \"crash\", \"family\", \"shooting\", \"melbourne\", \"officer\", \"woman\", \"home\", \"tasmania\", \"royal\", \"return\", \"commission\", \"power\", \"fight\", \"town\", \"rain\", \"station\", \"number\", \"testing\", \"hill\", \"arrest\", \"release\", \"site\", \"festival\", \"rugby\", \"james\", \"building\", \"womens\", \"save\", \"ship\", \"know\", \"england\", \"film\", \"animal\", \"good\", \"track\", \"making\", \"test\", \"perth\", \"resident\", \"adelaide\", \"second\", \"world\", \"sydney\", \"premier\", \"claim\", \"speaks\", \"pandemic\", \"hotel\", \"road\", \"young\", \"black\", \"body\", \"question\", \"find\", \"history\", \"club\", \"expert\", \"turnbull\", \"result\", \"economy\", \"loss\", \"kohler\", \"paul\", \"day\", \"coach\", \"inside\", \"berejiklian\", \"football\", \"female\", \"hunt\", \"vaccination\", \"line\", \"grant\", \"reveals\", \"life\", \"time\", \"safety\", \"long\", \"say\", \"bushfires\", \"team\", \"report\", \"bushfire\", \"state\"], \"Freq\": [41978.0, 36877.0, 32859.0, 21431.0, 20153.0, 19517.0, 46080.0, 16641.0, 17362.0, 14658.0, 15059.0, 21923.0, 13199.0, 13945.0, 11969.0, 13608.0, 12058.0, 11749.0, 10773.0, 18556.0, 11036.0, 10703.0, 10692.0, 10748.0, 11689.0, 10686.0, 10831.0, 9716.0, 10346.0, 9582.0, 13607.3192234654, 11688.42079068588, 10511.602278063769, 10152.218844043691, 10554.02517576086, 8443.263253699637, 8065.250358837139, 6892.864690729448, 6606.821485829257, 6512.085905581184, 6262.271769599856, 5841.607618383463, 5457.864648317476, 5315.356692930163, 5110.70799733793, 5064.0492704381695, 4654.308274972208, 4549.079070732929, 4271.691426517713, 4142.166012582732, 4105.523403407221, 3869.1920230788432, 3611.102604343828, 3446.4566524486413, 3327.1059919434765, 3323.9467106943107, 3188.11968525373, 3134.4864244199184, 3114.337770832658, 2996.594256336509, 3560.7015460109346, 7998.26323386115, 15215.108730545007, 5633.475014039745, 5731.625099918116, 5387.5800755100545, 4089.538617261031, 4207.637462944447, 3903.3294034605988, 4046.819237106157, 13944.415220289335, 10830.26250871628, 10346.069445030575, 9062.710578138638, 8815.598239064562, 7501.4608770934565, 7087.5133199293105, 6745.322623631348, 6113.194536382455, 5877.505320438905, 5478.079162811766, 5432.243209701481, 5362.749838115488, 5101.529950830804, 5041.5321352131505, 4941.20979167437, 4678.984499526836, 4465.7146903165385, 3914.290858765847, 3768.442803018383, 3572.7221202030655, 3510.774598443567, 3338.6080188655537, 3322.0338931346946, 3290.9752661662583, 3251.9634321456283, 17358.274221383832, 2952.3294632910693, 2829.0020632104925, 2847.64013221823, 9266.442324539654, 6830.286714202064, 5469.280246736653, 11910.921010472848, 5276.305092585272, 3880.1950589747844, 6707.413015611271, 4734.429064994911, 4950.211500803147, 21431.144748000483, 15059.018277815008, 12057.972039971428, 11748.925994013907, 10685.70682417162, 8591.038893442828, 8262.586675431594, 8403.483016681354, 8085.960235689096, 6447.992912989774, 6069.628797173327, 5892.7415864692375, 5552.752211987764, 5433.479155559585, 4897.17401454678, 4701.9035702391675, 4404.4738633507395, 4019.554099862524, 3975.9242080977106, 3795.821568326444, 3756.247056730415, 3609.317449123577, 3594.412374129006, 3445.3188152164294, 3167.4877808340498, 3157.266230652869, 3039.942521101737, 2948.464515450916, 2912.5822072981928, 2711.5227595621172, 4006.1336286471424, 12450.872178316416, 13089.87295308318, 8662.81134406901, 6686.107578611396, 3239.803037968264, 20152.21775309042, 19516.663992932245, 16640.878643124845, 11035.679883224568, 10748.054955769097, 8739.828871093894, 5230.926681031068, 4966.873023077416, 4216.386640702497, 4088.347881378736, 4038.664539096397, 3935.603025294322, 3923.872619679996, 3908.1691351782497, 3677.8836233149555, 3475.1103743425033, 3216.8531457711742, 3167.4977593617828, 3098.2220123745938, 2996.050213663281, 2988.991667012094, 2852.774524543954, 2824.990323904413, 2741.680590315613, 2734.9507885250387, 2690.7677422545826, 2636.3112875920365, 2628.7009755667973, 2590.5928713245753, 2515.3218700633647, 3880.903562430811, 22682.720008833323, 8003.882742405929, 3273.230259407364, 5398.959488113414, 13749.2504209948, 12840.015775388902, 4499.95064864379, 5308.09440864007, 3217.5132654512845, 3352.37939804025, 3330.0668268607465, 13198.88164607356, 9581.874456561749, 5881.946713150542, 5792.624926439688, 4576.661879489296, 4481.342099182188, 4277.410822855849, 3986.9371759149053, 3849.659267481488, 3613.5566356251416, 3397.7735668068367, 3358.9735555955695, 3306.079397812319, 3255.0031051485403, 3238.8586111241048, 3210.6576693221955, 3190.9381586169384, 3601.457941330141, 2954.3480474834946, 2544.1083060571355, 2461.9618500238084, 2418.772248560234, 2389.9396327806844, 2383.947963513401, 2334.334867600392, 2292.3853405614836, 2285.281854261069, 2205.5409199952155, 2159.2061032477, 2157.4221365315134, 2752.3269714796074, 29137.426174321703, 7145.418119332339, 4646.763271537297, 3732.6488096153894, 4771.630822744015, 5315.771533906347, 3640.0851718739154, 4023.7984008367716, 3619.663660652859, 6456.81809770325, 5209.426171444065, 3437.437987301883, 3357.7127373718777, 3287.5136976845615, 9300.003519269929, 8616.569089978588, 8033.387347082292, 7845.805901669703, 6227.594443318715, 5050.131431037789, 4524.571939340158, 4500.903927364676, 4305.049923379799, 3772.074849531951, 3747.7913407237447, 3679.386097093054, 3648.1704673498944, 3230.7965928811473, 3191.2597070185748, 3145.035192029806, 3056.85974833984, 2983.7519281739733, 2957.415591838028, 2951.092943296979, 2939.392479036403, 2829.3817078634993, 10688.889693591553, 2666.630991118554, 2646.522167393967, 3626.1044540638272, 2378.9733251646767, 2309.6405689740695, 2154.8466297999585, 2071.399366510151, 4553.799002236319, 3121.925695736547, 21628.15908081343, 13083.376199734686, 5805.679899108065, 8546.874365422243, 7374.8991148693, 5638.9525507056915, 2985.516837729798, 3051.080554383965, 10702.508845504826, 9170.427848264302, 7514.4077916153055, 7023.101536895573, 6304.855667414072, 5838.584384648772, 5264.604187202866, 4952.86653524864, 4924.6173807437435, 4884.657165093774, 4787.158124568633, 4368.219297629417, 4220.977790277199, 4118.424135987352, 4094.8074802931137, 4086.2417513946098, 3954.091479561497, 3932.018322498167, 3770.32075497585, 3750.25226839714, 3712.540578489942, 3615.8654883288436, 3574.860500612891, 3555.4026536385263, 3483.9608243070725, 3322.7770052341675, 3229.9530255257273, 3023.884566703688, 2971.681014468366, 2891.094863320966, 3571.3909460261707, 7909.96255170507, 4996.268264634291, 6088.151964740879, 4357.93231113359, 4219.007920491637, 3614.3622984213052, 11968.340768466687, 6901.5379181129865, 6261.591949188656, 5617.9943017227215, 5175.4362464473215, 5147.793391650221, 4776.534336131871, 4663.55952112124, 4531.084210300637, 4452.792260397072, 4034.808642190831, 3779.869476129515, 3724.8977386359024, 3561.016186007801, 3522.6150926330415, 3354.611259828842, 3338.34199089814, 3027.0202331501005, 3024.1657252560194, 2985.689050406629, 2922.812631519066, 2795.7613610524036, 2783.0180392165134, 2722.7185207941984, 2692.1151538964587, 2572.349652371108, 2403.199262857412, 2377.2422552287303, 2357.284943084668, 2294.189147778601, 7920.069116687819, 19721.30970255957, 5068.116256733608, 5020.163376244167, 5451.044806721864, 5520.657246277716, 3656.2866347801146, 5252.617766635554, 3102.7818673966813, 3495.1300557578115, 14657.961845056981, 10773.0001763721, 7608.977376135618, 7164.677266767875, 6253.920496545743, 6215.519569424944, 6166.421986884105, 4954.883975564519, 4665.3035143314155, 4332.989571401551, 4216.118288613396, 4140.129993409724, 3942.531316455641, 3863.973491435074, 3332.6460782762133, 3288.4448984538058, 3239.174728533244, 3223.2665926170766, 3212.9649600825032, 3190.271835843099, 3108.8486841068757, 3095.6749060092184, 3038.088328686225, 2753.3257358598007, 2605.148654265709, 2586.4229235658795, 2575.3789771923657, 2549.1275902590487, 2466.583561085313, 2452.941868974513, 9684.982999746031, 5328.478280291033, 4018.8325732429776, 4814.132148553858, 3396.0138625545515, 3608.0400450023094, 2935.119735272481, 7376.350112357706, 6346.251588469102, 6209.0155172954965, 6034.307262119093, 5974.007147350919, 5662.618569449037, 5320.202424261232, 4798.00541116146, 4238.665720317829, 4180.858024687792, 3932.963237602272, 3706.3751137818062, 3628.4400775015115, 3393.9435687754153, 3230.813797420101, 3226.3504426960817, 3132.2250084248744, 3043.6936704414848, 2976.3265382451027, 2684.2488107692243, 2609.6104799158043, 2594.987114183398, 2462.611495020227, 2431.7090180733467, 2349.4209318708145, 2335.355192115076, 2218.5632945330176, 2199.124068093025, 2191.627331320002, 2195.533998831624, 2715.805606412632, 7836.538929099159, 6503.025691022168, 2781.415371894667, 2820.7153299320994, 5444.899421073975, 2686.087615284036, 2715.0761865744657, 3221.0609754140364, 2756.4036407450776, 2739.698799933939], \"Total\": [41978.0, 36877.0, 32859.0, 21431.0, 20153.0, 19517.0, 46080.0, 16641.0, 17362.0, 14658.0, 15059.0, 21923.0, 13199.0, 13945.0, 11969.0, 13608.0, 12058.0, 11749.0, 10773.0, 18556.0, 11036.0, 10703.0, 10692.0, 10748.0, 11689.0, 10686.0, 10831.0, 9716.0, 10346.0, 9582.0, 13608.13649655651, 11689.238032946887, 10512.419567626574, 10153.03611606976, 10554.89289521678, 8444.080482060304, 8066.06761791078, 6893.681965170362, 6607.638716391403, 6512.903095816125, 6263.089147998758, 5842.424862735113, 5458.681878497233, 5316.173952148997, 5111.525241251226, 5064.866497511964, 4655.126828471139, 4549.89636051981, 4272.508679479604, 4142.983250116321, 4106.340635603464, 3870.0092654323444, 3611.9198924004254, 3447.273955055629, 3327.923243890272, 3324.7639891557515, 3188.9369450449285, 3135.3039706429927, 3115.155043499078, 2997.4114635889687, 3592.3081858163987, 9274.135708033535, 21923.365440144982, 7073.13079182576, 7748.2309737654305, 7112.307881520716, 4970.2166607080535, 5594.904169698551, 4905.432609415724, 8697.748753654523, 13945.243825424603, 10831.091156901397, 10346.898064417777, 9063.539969912534, 8816.426926849632, 7502.289592715713, 7088.341992986913, 6746.151426698907, 6114.023149703091, 5878.333915971564, 5478.907817108745, 5433.071801975695, 5363.578482155484, 5102.358586912629, 5042.3607488607595, 4942.038515425442, 4679.815949544493, 4466.543302367846, 3915.1194592958796, 3769.271437691469, 3573.5508683006383, 3511.6032494420356, 3339.436650955079, 3322.8625191918472, 3291.803895390458, 3252.792041776675, 17362.914739761552, 2953.1581341610254, 2829.83065341308, 2848.4746525680766, 12246.654763085464, 9087.336861787111, 7141.88923723594, 31490.938112613876, 8848.368586918468, 4952.718480109092, 21923.365440144982, 8922.244207474467, 10749.940275930425, 21431.9811276569, 15059.891198685284, 12058.808296865105, 11749.762604632991, 10686.543044524635, 8591.87511363006, 8263.422926109843, 8404.340093915687, 8086.796607884361, 6448.829147453972, 6070.465655898956, 5893.581061764144, 5553.588447686784, 5434.3153892753735, 4898.010257368613, 4702.746194335006, 4405.310097120847, 4020.3904117495135, 3976.7605144942377, 3796.657876140087, 3757.0832830675163, 3610.153755343845, 3595.248615624328, 3446.1550758267035, 3168.3240687101666, 3158.1025261726163, 3040.7788485343826, 2949.3007496345917, 2913.418478950672, 2712.3629672083803, 4204.681500718058, 18556.83633552101, 32859.202336652015, 17060.133685833116, 18949.44831375108, 4985.376599151818, 20153.067433851495, 19517.51362567948, 16641.728342765375, 11036.529462125603, 10748.90453157142, 8740.67840858637, 5231.7762539213645, 4967.722548893791, 4217.236245186148, 4089.19746870966, 4039.514175139516, 3936.4525559332465, 3924.722242987911, 3909.0187505753897, 3678.7331964247387, 3475.9642834833876, 3217.7027124739457, 3168.3472893415637, 3099.071599712571, 2996.899799893586, 2989.8413093186023, 2853.624087424182, 2825.8399669685623, 2742.530120206698, 2735.800489310937, 2691.6173792001373, 2637.1608200271758, 2629.550564000318, 2591.4424482391746, 2516.171473228994, 3892.326726164406, 36877.8620011554, 12362.574474415816, 3593.2413637781565, 7917.719280700139, 46080.71235147178, 41978.20356942904, 9226.133428047193, 29396.65005639551, 6017.850254029239, 14700.450819702908, 18949.44831375108, 13199.717571559904, 9582.710637213824, 5882.782571614043, 5793.4607457314605, 4577.497665574577, 4482.1779251197095, 4278.246646189254, 3987.772976887779, 3850.4950848361755, 3614.421556691547, 3398.6093725418477, 3359.809391033245, 3306.9151777345523, 3255.8389211234344, 3239.6944745116243, 3211.4934478940927, 3191.7739660027887, 3602.464005696062, 2955.1838556046237, 2544.944113925393, 2462.797685547032, 2419.6080640273813, 2390.775454682016, 2384.7837830419935, 2335.1707227731686, 2293.2216056704447, 2286.117672609246, 2206.3767327021797, 2160.041968418155, 2158.2579906208753, 2759.3534485362143, 41978.20356942904, 12538.314572897145, 6719.598200999401, 4817.472620581163, 7238.636224633443, 9417.2914765704, 4911.2877687670225, 6018.580133546797, 5230.961329770962, 29396.65005639551, 46080.71235147178, 14700.450819702908, 21997.58804923697, 17060.133685833116, 9300.83678166234, 8617.402038057331, 8034.220272122722, 7846.641449871636, 6228.427385686034, 5050.964444657573, 4525.404884899287, 4501.736888233101, 4305.882871064594, 3772.907802480797, 3748.6242636034285, 3680.2190833988984, 3649.003399806131, 3231.6295231500026, 3192.0926158574143, 3145.868139418841, 3057.692679850964, 2984.5848683868608, 2958.2485506192893, 2951.9258868349348, 2940.2254447721816, 2830.214630366854, 10692.041437703958, 2667.464793833871, 2647.3551216536293, 3627.3308516310854, 2379.806271896492, 2310.47349821744, 2155.679571370451, 2072.232322278877, 4695.818876125479, 3254.0812513240476, 46080.71235147178, 36877.8620011554, 11257.460804612156, 29396.65005639551, 21997.58804923697, 16657.856692892026, 4109.905060263654, 18949.44831375108, 10703.342112818413, 9171.26091750591, 7515.240959090152, 7023.935763634318, 6305.68882731673, 5839.417468089848, 5265.4376068575675, 4953.699629938589, 4925.450475911509, 4885.49024443667, 4787.991529973242, 4369.052376020171, 4221.81086072233, 4119.257221837876, 4095.6405775974117, 4087.074838988375, 3954.9245794187023, 3932.8513995698986, 3771.153817756654, 3751.0853590393253, 3713.373607876536, 3616.698574129346, 3575.6935777079107, 3556.2357230455764, 3484.793913811627, 3323.6100942727976, 3230.786089628103, 3024.718093611052, 2972.5141113361806, 2891.927960496771, 3574.0813948279347, 14700.450819702908, 7130.536667868389, 31490.938112613876, 12362.574474415816, 29396.65005639551, 5328.581368934177, 11969.167765624963, 6902.364885614948, 6262.418918235619, 5618.821262529631, 5176.263207813698, 5148.620441143166, 4777.361455713853, 4664.386517268356, 4531.9112395316715, 4453.619358020321, 4035.635629988516, 3780.6964363285365, 3725.7247240596957, 3561.843182570852, 3523.4421166816974, 3355.4383343793093, 3339.168964713667, 3027.8472249057168, 3024.998439866258, 2986.5160496446506, 2923.639645201782, 2796.58838593904, 2783.8450219211754, 2723.5455302326245, 2692.9421631056916, 2573.17660004523, 2404.0262589182216, 2378.069218686544, 2358.111956978263, 2295.0161515285317, 9495.780675618022, 32859.202336652015, 7277.436366366413, 9026.56680737987, 11257.460804612156, 12259.821758783472, 5184.926213021649, 16657.856692892026, 5145.180965212569, 18556.83633552101, 14658.788419326354, 10773.826735492823, 7609.803906576637, 7165.503820339382, 6254.747020844291, 6216.346160829582, 6167.24853156605, 4955.71053093215, 4666.130055972962, 4333.816288232449, 4216.9448629598255, 4140.956617927928, 3943.3578433987136, 3864.8000715427893, 3333.4726400550867, 3289.271886880078, 3240.0013788076662, 3224.093126960393, 3213.7915057343516, 3191.098376078933, 3109.6752319334305, 3096.501452932825, 3038.91488749716, 2754.152298698041, 2605.975220703094, 2587.2494728571824, 2576.205514425798, 2549.9543406122784, 2467.4101056753875, 2453.7684318146717, 9716.435291852722, 9186.530255722975, 6406.450198423672, 10829.172435048351, 4923.4510486332965, 12538.314572897145, 21997.58804923697, 7377.1775032598625, 6347.078947432138, 6209.842874779029, 6035.136809375737, 5974.834615218497, 5663.445911815966, 5321.030139366676, 4798.832782717782, 4239.493071648209, 4181.685379601461, 3933.790592443412, 3707.202475131803, 3629.267426757931, 3394.770929179136, 3231.641123897252, 3227.1778148689114, 3133.052392944805, 3044.5210258581096, 2977.154012922715, 2685.0761834054033, 2610.437858837736, 2595.8144595694716, 2463.4388753925873, 2432.536452774878, 2350.2482959566396, 2336.182556649308, 2219.3906641164363, 2199.951605600119, 2192.4546861944523, 2196.364391126155, 2734.4085829166797, 9948.532433844372, 8157.401431043403, 3178.702394070122, 3837.9861672202724, 31490.938112613876, 3555.6547779612283, 3707.714318435501, 9794.700311715202, 8343.829132165969, 11235.295748905002], \"Category\": [\"Default\", \"Default\", \"Default\", \"Default\", \"Default\", \"Default\", \"Default\", \"Default\", \"Default\", \"Default\", \"Default\", \"Default\", \"Default\", \"Default\", \"Default\", \"Default\", \"Default\", \"Default\", \"Default\", \"Default\", \"Default\", \"Default\", \"Default\", \"Default\", \"Default\", \"Default\", \"Default\", \"Default\", \"Default\", \"Default\", \"Topic1\", \"Topic1\", \"Topic1\", \"Topic1\", \"Topic1\", \"Topic1\", \"Topic1\", \"Topic1\", \"Topic1\", \"Topic1\", \"Topic1\", \"Topic1\", \"Topic1\", \"Topic1\", \"Topic1\", \"Topic1\", \"Topic1\", \"Topic1\", \"Topic1\", \"Topic1\", \"Topic1\", \"Topic1\", \"Topic1\", \"Topic1\", \"Topic1\", \"Topic1\", \"Topic1\", \"Topic1\", \"Topic1\", \"Topic1\", \"Topic1\", \"Topic1\", \"Topic1\", \"Topic1\", \"Topic1\", \"Topic1\", \"Topic1\", \"Topic1\", \"Topic1\", \"Topic1\", \"Topic2\", \"Topic2\", \"Topic2\", \"Topic2\", \"Topic2\", \"Topic2\", \"Topic2\", \"Topic2\", \"Topic2\", \"Topic2\", \"Topic2\", \"Topic2\", \"Topic2\", \"Topic2\", \"Topic2\", \"Topic2\", \"Topic2\", \"Topic2\", \"Topic2\", \"Topic2\", \"Topic2\", \"Topic2\", \"Topic2\", \"Topic2\", \"Topic2\", \"Topic2\", \"Topic2\", \"Topic2\", \"Topic2\", \"Topic2\", \"Topic2\", \"Topic2\", \"Topic2\", \"Topic2\", \"Topic2\", \"Topic2\", \"Topic2\", \"Topic2\", \"Topic2\", \"Topic3\", \"Topic3\", \"Topic3\", \"Topic3\", \"Topic3\", \"Topic3\", \"Topic3\", \"Topic3\", \"Topic3\", \"Topic3\", \"Topic3\", \"Topic3\", \"Topic3\", \"Topic3\", \"Topic3\", \"Topic3\", \"Topic3\", \"Topic3\", \"Topic3\", \"Topic3\", \"Topic3\", \"Topic3\", \"Topic3\", \"Topic3\", \"Topic3\", \"Topic3\", \"Topic3\", \"Topic3\", \"Topic3\", \"Topic3\", \"Topic3\", \"Topic3\", \"Topic3\", \"Topic3\", \"Topic3\", \"Topic3\", \"Topic4\", \"Topic4\", \"Topic4\", \"Topic4\", \"Topic4\", \"Topic4\", \"Topic4\", \"Topic4\", \"Topic4\", \"Topic4\", \"Topic4\", \"Topic4\", \"Topic4\", \"Topic4\", \"Topic4\", \"Topic4\", \"Topic4\", \"Topic4\", \"Topic4\", \"Topic4\", \"Topic4\", \"Topic4\", \"Topic4\", \"Topic4\", \"Topic4\", \"Topic4\", \"Topic4\", \"Topic4\", \"Topic4\", \"Topic4\", \"Topic4\", \"Topic4\", \"Topic4\", \"Topic4\", \"Topic4\", \"Topic4\", \"Topic4\", \"Topic4\", \"Topic4\", \"Topic4\", \"Topic4\", \"Topic4\", \"Topic5\", \"Topic5\", \"Topic5\", \"Topic5\", \"Topic5\", \"Topic5\", \"Topic5\", \"Topic5\", \"Topic5\", \"Topic5\", \"Topic5\", \"Topic5\", \"Topic5\", \"Topic5\", \"Topic5\", \"Topic5\", \"Topic5\", \"Topic5\", \"Topic5\", \"Topic5\", \"Topic5\", \"Topic5\", \"Topic5\", \"Topic5\", \"Topic5\", \"Topic5\", \"Topic5\", \"Topic5\", \"Topic5\", \"Topic5\", \"Topic5\", \"Topic5\", \"Topic5\", \"Topic5\", \"Topic5\", \"Topic5\", \"Topic5\", \"Topic5\", \"Topic5\", \"Topic5\", \"Topic5\", \"Topic5\", \"Topic5\", \"Topic5\", \"Topic5\", \"Topic6\", \"Topic6\", \"Topic6\", \"Topic6\", \"Topic6\", \"Topic6\", \"Topic6\", \"Topic6\", \"Topic6\", \"Topic6\", \"Topic6\", \"Topic6\", \"Topic6\", \"Topic6\", \"Topic6\", \"Topic6\", \"Topic6\", \"Topic6\", \"Topic6\", \"Topic6\", \"Topic6\", \"Topic6\", \"Topic6\", \"Topic6\", \"Topic6\", \"Topic6\", \"Topic6\", \"Topic6\", \"Topic6\", \"Topic6\", \"Topic6\", \"Topic6\", \"Topic6\", \"Topic6\", \"Topic6\", \"Topic6\", \"Topic6\", \"Topic6\", \"Topic6\", \"Topic6\", \"Topic7\", \"Topic7\", \"Topic7\", \"Topic7\", \"Topic7\", \"Topic7\", \"Topic7\", \"Topic7\", \"Topic7\", \"Topic7\", \"Topic7\", \"Topic7\", \"Topic7\", \"Topic7\", \"Topic7\", \"Topic7\", \"Topic7\", \"Topic7\", \"Topic7\", \"Topic7\", \"Topic7\", \"Topic7\", \"Topic7\", \"Topic7\", \"Topic7\", \"Topic7\", \"Topic7\", \"Topic7\", \"Topic7\", \"Topic7\", \"Topic7\", \"Topic7\", \"Topic7\", \"Topic7\", \"Topic7\", \"Topic7\", \"Topic7\", \"Topic8\", \"Topic8\", \"Topic8\", \"Topic8\", \"Topic8\", \"Topic8\", \"Topic8\", \"Topic8\", \"Topic8\", \"Topic8\", \"Topic8\", \"Topic8\", \"Topic8\", \"Topic8\", \"Topic8\", \"Topic8\", \"Topic8\", \"Topic8\", \"Topic8\", \"Topic8\", \"Topic8\", \"Topic8\", \"Topic8\", \"Topic8\", \"Topic8\", \"Topic8\", \"Topic8\", \"Topic8\", \"Topic8\", \"Topic8\", \"Topic8\", \"Topic8\", \"Topic8\", \"Topic8\", \"Topic8\", \"Topic8\", \"Topic8\", \"Topic8\", \"Topic8\", \"Topic8\", \"Topic9\", \"Topic9\", \"Topic9\", \"Topic9\", \"Topic9\", \"Topic9\", \"Topic9\", \"Topic9\", \"Topic9\", \"Topic9\", \"Topic9\", \"Topic9\", \"Topic9\", \"Topic9\", \"Topic9\", \"Topic9\", \"Topic9\", \"Topic9\", \"Topic9\", \"Topic9\", \"Topic9\", \"Topic9\", \"Topic9\", \"Topic9\", \"Topic9\", \"Topic9\", \"Topic9\", \"Topic9\", \"Topic9\", \"Topic9\", \"Topic9\", \"Topic9\", \"Topic9\", \"Topic9\", \"Topic9\", \"Topic9\", \"Topic9\", \"Topic10\", \"Topic10\", \"Topic10\", \"Topic10\", \"Topic10\", \"Topic10\", \"Topic10\", \"Topic10\", \"Topic10\", \"Topic10\", \"Topic10\", \"Topic10\", \"Topic10\", \"Topic10\", \"Topic10\", \"Topic10\", \"Topic10\", \"Topic10\", \"Topic10\", \"Topic10\", \"Topic10\", \"Topic10\", \"Topic10\", \"Topic10\", \"Topic10\", \"Topic10\", \"Topic10\", \"Topic10\", \"Topic10\", \"Topic10\", \"Topic10\", \"Topic10\", \"Topic10\", \"Topic10\", \"Topic10\", \"Topic10\", \"Topic10\", \"Topic10\", \"Topic10\", \"Topic10\", \"Topic10\"], \"logprob\": [30.0, 29.0, 28.0, 27.0, 26.0, 25.0, 24.0, 23.0, 22.0, 21.0, 20.0, 19.0, 18.0, 17.0, 16.0, 15.0, 14.0, 13.0, 12.0, 11.0, 10.0, 9.0, 8.0, 7.0, 6.0, 5.0, 4.0, 3.0, 2.0, 1.0, -3.9215, -4.0735, -4.1796, -4.2144, -4.1756, -4.3987, -4.4445, -4.6016, -4.644, -4.6584, -4.6975, -4.7671, -4.835, -4.8615, -4.9007, -4.9099, -4.9943, -5.0172, -5.0801, -5.1109, -5.1198, -5.179, -5.2481, -5.2947, -5.33, -5.3309, -5.3727, -5.3896, -5.3961, -5.4346, -5.2621, -4.4529, -3.8098, -4.8034, -4.7861, -4.848, -5.1237, -5.0952, -5.1703, -5.1342, -3.8168, -4.0696, -4.1153, -4.2477, -4.2754, -4.4368, -4.4936, -4.5431, -4.6415, -4.6808, -4.7511, -4.7596, -4.7724, -4.8224, -4.8342, -4.8543, -4.9088, -4.9555, -5.0873, -5.1252, -5.1786, -5.1961, -5.2463, -5.2513, -5.2607, -5.2726, -3.5978, -5.3693, -5.412, -5.4054, -4.2255, -4.5305, -4.7528, -3.9744, -4.7887, -5.096, -4.5487, -4.897, -4.8525, -3.3335, -3.6864, -3.9086, -3.9346, -4.0295, -4.2476, -4.2866, -4.2697, -4.3082, -4.5346, -4.5951, -4.6246, -4.6841, -4.7058, -4.8097, -4.8504, -4.9157, -5.0072, -5.0181, -5.0645, -5.0749, -5.1148, -5.119, -5.1613, -5.2454, -5.2487, -5.2865, -5.3171, -5.3293, -5.4009, -5.0105, -3.8766, -3.8265, -4.2393, -4.4983, -5.2228, -3.3331, -3.3652, -3.5246, -3.9353, -3.9617, -4.1685, -4.6818, -4.7336, -4.8975, -4.9283, -4.9405, -4.9664, -4.9694, -4.9734, -5.0341, -5.0908, -5.168, -5.1835, -5.2056, -5.2391, -5.2415, -5.2881, -5.2979, -5.3279, -5.3303, -5.3466, -5.3671, -5.3699, -5.3845, -5.414, -4.9804, -3.2148, -4.2565, -5.1507, -4.6502, -3.7155, -3.7839, -4.8324, -4.6672, -5.1678, -5.1268, -5.1334, -3.7174, -4.0377, -4.5257, -4.541, -4.7766, -4.7977, -4.8442, -4.9146, -4.9496, -5.0129, -5.0745, -5.0859, -5.1018, -5.1174, -5.1224, -5.1311, -5.1373, -5.0162, -5.2143, -5.3638, -5.3966, -5.4143, -5.4263, -5.4288, -5.4499, -5.468, -5.4711, -5.5066, -5.5278, -5.5287, -5.2851, -2.9256, -4.3311, -4.7614, -4.9805, -4.7349, -4.6269, -5.0056, -4.9054, -5.0112, -4.4324, -4.6471, -5.0629, -5.0863, -5.1074, -4.0598, -4.1361, -4.2062, -4.2298, -4.4608, -4.6704, -4.7803, -4.7855, -4.83, -4.9622, -4.9687, -4.9871, -4.9956, -5.1171, -5.1294, -5.144, -5.1724, -5.1966, -5.2055, -5.2076, -5.2116, -5.2498, -3.9206, -5.309, -5.3166, -5.0017, -5.4232, -5.4527, -5.5221, -5.5616, -4.7739, -5.1514, -3.2158, -3.7185, -4.531, -4.1443, -4.2917, -4.5601, -5.196, -5.1743, -3.9167, -4.0712, -4.2704, -4.338, -4.4459, -4.5227, -4.6262, -4.6872, -4.693, -4.7011, -4.7213, -4.8129, -4.8471, -4.8717, -4.8775, -4.8796, -4.9125, -4.9181, -4.9601, -4.9654, -4.9755, -5.0019, -5.0133, -5.0187, -5.039, -5.0864, -5.1147, -5.1807, -5.1981, -5.2256, -5.0143, -4.2191, -4.6785, -4.4809, -4.8152, -4.8476, -5.0023, -3.7529, -4.3035, -4.4008, -4.5092, -4.5913, -4.5966, -4.6715, -4.6954, -4.7243, -4.7417, -4.8403, -4.9055, -4.9202, -4.9652, -4.976, -5.0249, -5.0297, -5.1276, -5.1286, -5.1414, -5.1627, -5.2071, -5.2117, -5.2336, -5.2449, -5.2904, -5.3584, -5.3693, -5.3777, -5.4048, -4.1658, -3.2535, -4.6122, -4.6217, -4.5394, -4.5267, -4.9388, -4.5765, -5.1029, -4.9838, -3.5395, -3.8474, -4.1951, -4.2553, -4.3912, -4.3974, -4.4053, -4.6241, -4.6843, -4.7582, -4.7855, -4.8037, -4.8526, -4.8728, -5.0207, -5.034, -5.0491, -5.0541, -5.0573, -5.0643, -5.0902, -5.0944, -5.1132, -5.2116, -5.267, -5.2742, -5.2784, -5.2887, -5.3216, -5.3272, -3.9539, -4.5514, -4.8335, -4.6529, -5.0018, -4.9413, -5.1477, -4.2243, -4.3747, -4.3966, -4.4251, -4.4351, -4.4887, -4.5511, -4.6544, -4.7783, -4.7921, -4.8532, -4.9125, -4.9338, -5.0006, -5.0498, -5.0512, -5.0808, -5.1095, -5.1319, -5.2352, -5.2634, -5.269, -5.3213, -5.334, -5.3684, -5.3744, -5.4257, -5.4345, -5.4379, -5.4361, -5.2235, -4.1638, -4.3503, -5.1996, -5.1856, -4.5279, -5.2345, -5.2237, -5.0529, -5.2086, -5.2147], \"loglift\": [30.0, 29.0, 28.0, 27.0, 26.0, 25.0, 24.0, 23.0, 22.0, 21.0, 20.0, 19.0, 18.0, 17.0, 16.0, 15.0, 14.0, 13.0, 12.0, 11.0, 10.0, 9.0, 8.0, 7.0, 6.0, 5.0, 4.0, 3.0, 2.0, 1.0, 2.103, 2.1029, 2.1029, 2.1029, 2.1029, 2.1029, 2.1029, 2.1029, 2.1029, 2.1029, 2.1029, 2.1029, 2.1029, 2.1029, 2.1029, 2.1029, 2.1028, 2.1028, 2.1028, 2.1028, 2.1028, 2.1028, 2.1028, 2.1028, 2.1028, 2.1028, 2.1028, 2.1028, 2.1028, 2.1027, 2.0942, 1.955, 1.7377, 1.8754, 1.8015, 1.8253, 1.908, 1.8181, 1.8745, 1.3379, 2.1831, 2.1831, 2.1831, 2.1831, 2.1831, 2.1831, 2.1831, 2.1831, 2.1831, 2.1831, 2.183, 2.183, 2.183, 2.183, 2.183, 2.183, 2.183, 2.183, 2.183, 2.183, 2.183, 2.183, 2.1829, 2.1829, 2.1829, 2.1829, 2.1829, 2.1829, 2.1829, 2.1829, 1.9043, 1.8977, 1.9164, 1.211, 1.6662, 1.9391, 0.9989, 1.5495, 1.4077, 2.2367, 2.2367, 2.2367, 2.2367, 2.2367, 2.2366, 2.2366, 2.2366, 2.2366, 2.2366, 2.2366, 2.2366, 2.2366, 2.2366, 2.2366, 2.2366, 2.2365, 2.2365, 2.2365, 2.2365, 2.2365, 2.2365, 2.2365, 2.2365, 2.2365, 2.2365, 2.2365, 2.2365, 2.2365, 2.2364, 2.1884, 1.8377, 1.3163, 1.559, 1.195, 1.8057, 2.2986, 2.2986, 2.2986, 2.2986, 2.2986, 2.2986, 2.2985, 2.2985, 2.2985, 2.2985, 2.2985, 2.2984, 2.2984, 2.2984, 2.2984, 2.2984, 2.2984, 2.2984, 2.2984, 2.2984, 2.2984, 2.2984, 2.2984, 2.2984, 2.2984, 2.2983, 2.2983, 2.2983, 2.2983, 2.2983, 2.2957, 1.8127, 1.8639, 2.2054, 1.9158, 1.0893, 1.1141, 1.5807, 0.587, 1.6725, 0.8205, 0.5599, 2.3375, 2.3374, 2.3374, 2.3374, 2.3373, 2.3373, 2.3373, 2.3373, 2.3373, 2.3373, 2.3373, 2.3373, 2.3373, 2.3373, 2.3373, 2.3373, 2.3373, 2.3372, 2.3372, 2.3372, 2.3372, 2.3372, 2.3372, 2.3372, 2.3372, 2.3372, 2.3372, 2.3371, 2.3371, 2.3371, 2.335, 1.9724, 1.7752, 1.9687, 2.0824, 1.9208, 1.7656, 2.038, 1.9349, 1.9693, 0.8218, 0.1576, 0.8844, 0.4578, 0.6909, 2.3452, 2.3452, 2.3452, 2.3452, 2.3451, 2.3451, 2.3451, 2.3451, 2.3451, 2.3451, 2.3451, 2.3451, 2.345, 2.345, 2.345, 2.345, 2.345, 2.345, 2.345, 2.345, 2.345, 2.345, 2.345, 2.345, 2.345, 2.3449, 2.3449, 2.3449, 2.3449, 2.3449, 2.3146, 2.3038, 1.5889, 1.309, 1.6831, 1.11, 1.2524, 1.2621, 2.0256, 0.519, 2.3478, 2.3478, 2.3478, 2.3478, 2.3478, 2.3477, 2.3477, 2.3477, 2.3477, 2.3477, 2.3477, 2.3477, 2.3477, 2.3477, 2.3477, 2.3477, 2.3477, 2.3477, 2.3477, 2.3477, 2.3477, 2.3477, 2.3477, 2.3476, 2.3476, 2.3476, 2.3476, 2.3476, 2.3476, 2.3476, 2.3471, 1.7281, 1.9922, 0.7045, 1.3052, 0.4066, 1.9597, 2.3998, 2.3998, 2.3998, 2.3997, 2.3997, 2.3997, 2.3997, 2.3997, 2.3997, 2.3997, 2.3997, 2.3997, 2.3997, 2.3997, 2.3997, 2.3996, 2.3996, 2.3996, 2.3996, 2.3996, 2.3996, 2.3996, 2.3996, 2.3996, 2.3996, 2.3996, 2.3995, 2.3995, 2.3995, 2.3995, 2.2184, 1.8894, 2.0381, 1.8132, 1.6747, 1.6021, 2.0506, 1.2457, 1.8941, 0.7304, 2.4106, 2.4106, 2.4105, 2.4105, 2.4105, 2.4105, 2.4105, 2.4105, 2.4105, 2.4105, 2.4105, 2.4105, 2.4104, 2.4104, 2.4104, 2.4104, 2.4104, 2.4104, 2.4104, 2.4104, 2.4104, 2.4104, 2.4104, 2.4104, 2.4103, 2.4103, 2.4103, 2.4103, 2.4103, 2.4103, 2.4074, 1.866, 1.9443, 1.6, 2.0392, 1.165, 0.3965, 2.4124, 2.4124, 2.4124, 2.4124, 2.4124, 2.4124, 2.4124, 2.4124, 2.4123, 2.4123, 2.4123, 2.4123, 2.4123, 2.4123, 2.4123, 2.4123, 2.4123, 2.4123, 2.4123, 2.4122, 2.4122, 2.4122, 2.4122, 2.4122, 2.4122, 2.4122, 2.4122, 2.4122, 2.4122, 2.4122, 2.4057, 2.1739, 2.1859, 2.279, 2.1046, 0.6575, 2.1321, 2.1009, 1.3004, 1.3049, 1.0013]}, \"token.table\": {\"Topic\": [2, 3, 3, 3, 4, 6, 8, 9, 10, 1, 5, 4, 3, 3, 7, 2, 9, 8, 3, 9, 3, 5, 2, 3, 5, 8, 5, 4, 5, 2, 3, 4, 5, 6, 7, 8, 5, 4, 6, 9, 10, 10, 5, 7, 5, 10, 8, 10, 7, 5, 5, 4, 2, 4, 5, 8, 2, 9, 5, 7, 8, 10, 8, 10, 2, 1, 2, 3, 7, 8, 10, 8, 1, 3, 1, 4, 1, 5, 1, 2, 3, 3, 7, 3, 4, 5, 7, 5, 7, 4, 1, 4, 5, 10, 5, 4, 1, 10, 10, 3, 1, 8, 9, 1, 2, 8, 4, 1, 8, 10, 8, 1, 2, 3, 4, 5, 6, 7, 8, 9, 10, 1, 2, 2, 3, 1, 2, 3, 4, 5, 6, 7, 8, 9, 10, 6, 8, 5, 7, 6, 4, 8, 1, 7, 10, 5, 6, 8, 3, 5, 8, 10, 2, 2, 6, 5, 5, 5, 8, 1, 4, 9, 3, 8, 6, 4, 10, 1, 2, 6, 8, 9, 10, 1, 3, 8, 4, 6, 2, 3, 5, 7, 8, 9, 10, 1, 1, 8, 8, 1, 1, 10, 9, 9, 9, 6, 8, 10, 8, 1, 5, 10, 8, 4, 6, 1, 2, 7, 9, 4, 6, 1, 9, 1, 2, 6, 10, 8, 1, 8, 2, 1, 8, 9, 2, 5, 9, 10, 5, 7, 9, 5, 6, 10, 2, 2, 3, 4, 8, 10, 1, 8, 10, 1, 4, 1, 2, 6, 1, 6, 1, 3, 10, 7, 4, 3, 7, 3, 9, 7, 5, 3, 5, 5, 6, 7, 6, 9, 10, 5, 7, 2, 1, 6, 3, 7, 6, 8, 7, 3, 10, 8, 10, 1, 1, 4, 6, 7, 10, 3, 10, 8, 9, 3, 6, 4, 1, 6, 2, 7, 5, 6, 8, 9, 2, 4, 1, 5, 2, 8, 7, 8, 4, 2, 6, 3, 5, 1, 5, 1, 2, 4, 7, 8, 9, 3, 8, 6, 5, 6, 4, 6, 10, 2, 1, 2, 3, 6, 10, 2, 3, 6, 9, 7, 1, 6, 10, 8, 3, 8, 10, 5, 1, 9, 10, 7, 1, 2, 4, 3, 1, 6, 7, 1, 9, 7, 3, 2, 3, 4, 10, 6, 9, 3, 2, 4, 2, 1, 2, 9, 2, 1, 2, 3, 4, 5, 7, 8, 9, 10, 8, 1, 5, 9, 5, 5, 10, 9, 8, 10, 2, 5, 10, 7, 9, 9, 2, 1, 2, 1, 10, 4, 9, 1, 2, 3, 4, 5, 6, 7, 8, 9, 10, 8, 3, 8, 7, 3, 5, 9, 7, 2, 2, 3, 4, 5, 9, 3, 8, 3, 2, 9, 6, 1, 4, 7, 10, 2, 7, 1, 2, 4, 6, 7, 8, 10, 9, 7, 4, 7, 8, 2, 6, 5, 3, 4, 5, 6, 7, 8, 9, 10, 5, 7, 9, 6, 6, 10, 8, 1, 3, 9, 9, 7, 4, 7, 10, 2, 5, 6, 1, 6, 9, 9, 1, 4, 4, 1, 3, 6, 4, 4, 10, 8, 6, 10, 3, 4, 4, 10, 4, 5, 4, 4, 7, 1, 2, 5, 9, 10, 6, 7, 1, 7, 5, 8, 6, 5, 3, 6, 8, 9, 2, 4, 5, 7, 8, 9, 4, 5, 9, 3, 4, 5, 6, 7, 10, 3], \"Freq\": [0.9998783617820165, 0.9997937412713473, 0.9999014076911721, 0.09234315973799849, 0.0068333938206118884, 0.16464785381285132, 0.12604841304236794, 0.4445399709787248, 0.1656636285699693, 0.9999010738856525, 0.9995993969707236, 0.9997186107115518, 0.9998563615375904, 0.9997579475644771, 0.9998907609722596, 0.9999517527530061, 0.9995320581300492, 0.999879493710935, 0.9996527039551864, 0.9997929850113902, 0.9997026095571109, 0.9998292527760124, 0.9999297213422927, 0.26122160560924734, 0.5644935184629102, 0.17425392471738818, 0.9994672971563568, 0.3058730223832359, 0.6940983063224566, 0.0005102622227778846, 0.0876970673547591, 0.18056479190033412, 0.21965087816512008, 0.2907474145388387, 0.1435197545266597, 0.07728771801009025, 0.9997371980453725, 0.00021295540274864696, 0.9697989041173382, 0.029813756384810573, 0.00021295540274864696, 0.9997794677344851, 0.9996290237100975, 0.9999168906954671, 0.9997486931720796, 0.9998264614010347, 0.9995503836986147, 0.9998836956117452, 0.9999680368230028, 0.9994171268558523, 0.9995176165864414, 0.999702754940697, 0.9998458484793026, 0.48774495134875495, 0.2513512315950584, 0.2607809673211343, 0.9999431954740344, 0.9996557999943948, 0.1438188607403197, 0.20697931041544343, 0.31867862559042504, 0.3303039835002676, 0.24439942971580458, 0.7554164191215779, 0.9999404239497673, 0.1899545437077567, 0.4604676745119469, 9.302377262867615e-05, 0.14995432147742596, 0.07860508787123134, 0.120930904417279, 0.999869365985714, 0.9998676408429295, 0.9999542213269479, 0.999862727024979, 0.9998292656510758, 0.22501425236314682, 0.7748876421324973, 0.2432501003440927, 0.7566147800565166, 0.9998714266675371, 0.9998981463745125, 0.9998068475669101, 0.9999329704191985, 0.2280202179587131, 0.23380235355730816, 0.5380787362927866, 0.7411498106766041, 0.25858798339540856, 0.9997393845769504, 0.26725489099748545, 0.040527923384454156, 0.6920334087345474, 0.9998300088212114, 0.9998669725415623, 0.9997225853303586, 0.9996304456587326, 0.9996507761460105, 0.9996862412232627, 0.9995820917679341, 0.9999164840419702, 0.9996501361527181, 0.9998805673767778, 0.27473991121866453, 0.5962681084284961, 0.12895032443459326, 0.9996997564304225, 0.7963941521496982, 0.008906946846339605, 0.19453902953275073, 0.9997201890178778, 0.014170787878003447, 0.009461659287610264, 0.06297645700147933, 0.2983677833609026, 0.11304078722284831, 0.4693503831936578, 0.017035326928380865, 0.0005425263352987537, 0.0049261391245126835, 0.010112690889968768, 0.7397817668843193, 0.2601884232447292, 0.9998293209526323, 0.9999408230329472, 0.0012744773544227555, 0.0031997516557847904, 0.01982219034219222, 0.6150844644759864, 0.0017896916040830184, 0.35476568570027467, 0.00010846615782321324, 2.711653945580331e-05, 0.00048809771020445953, 0.003416683971431217, 0.5157468545323556, 0.48421221220390465, 0.9998061632665002, 0.999843595260552, 0.9998040369389205, 0.9997813000573789, 0.9998609315321918, 0.9996292179737607, 0.9997370150949716, 0.9998322661325749, 0.14950319662406514, 0.1540377604922583, 0.6963990813334211, 0.5077920349002792, 0.19273002548217918, 0.14911958175993426, 0.1503505217037073, 0.9998333660551803, 0.9997064653278533, 0.9997949616626762, 0.9997232533387266, 0.9998463494003339, 0.9999456373550408, 0.9995731082743317, 0.822901752419248, 0.0014083893073190063, 0.1756462664699275, 0.9998940418987963, 0.9998538372211432, 0.9998481156750262, 0.9997816105039097, 0.9996640997938065, 0.00011518803322923339, 0.9997169403965166, 0.00011518803322923339, 0.9999171343826406, 0.999625775143468, 0.9997729068631672, 0.9997392085229978, 0.9998405473956655, 0.9998745213722672, 0.9970899857691116, 0.002826073136681326, 0.11443885788917196, 0.009053965235707832, 0.15514091782266934, 0.12047483471297718, 0.45033281140849496, 0.000734105289381716, 0.14983904628824582, 0.9998750836717708, 0.8623984219976307, 0.13747911828544376, 0.9998157915240578, 0.9998261005115813, 0.9998979501246805, 0.9994938081161756, 0.9996909325982958, 0.9997975545237622, 0.9995170651804974, 0.9999182516652846, 0.9997989282041266, 0.9997990252849425, 0.9995284545439106, 0.9997579381802775, 0.9997856358008176, 0.9994688663496588, 0.9997896058132836, 0.999654219117535, 0.9998334686115411, 0.7956484801174097, 0.2040594744036708, 0.6782292977770316, 0.3214739311267446, 0.9997706289144556, 0.9998257544635845, 0.9998720426620045, 0.9996257420781702, 0.6940084104121644, 0.3059293071728154, 0.9996577117305474, 0.9998340935012299, 0.9996499234611905, 0.9998289199700744, 0.9999331060024748, 0.9999108064770919, 0.2739690574248167, 0.5561361375950586, 0.1697212276485318, 0.3406719060709361, 0.6592402010423792, 0.9999092541400186, 0.9996756381287859, 0.9998714230702112, 0.9996947940441273, 0.9999462152461853, 0.999820699446435, 0.999953345793134, 0.9998603115781027, 0.999740428866116, 0.009477893716636675, 0.0036858475564698176, 0.00010530993018485193, 0.8340546470640273, 0.15259408883785044, 0.9999170464328969, 0.9996964551135133, 0.999823976858715, 0.9997061889083808, 0.9997068589203274, 0.248257551614119, 0.7515953357821068, 0.9996863448235391, 0.9999033366655143, 0.9995708345388997, 0.3500237073959235, 0.6499007518411416, 0.9998218444155561, 0.9997662207204876, 0.999854551278442, 0.999826722301153, 0.999694041184101, 0.9997116691364286, 0.9997537159044265, 0.9998996529698881, 0.9997423333451813, 0.9996508896834478, 0.9997590961453334, 0.6685962321197217, 0.3313073774469993, 0.9998270449468281, 0.9996847530683705, 0.9995816140238194, 0.9996123771502227, 0.9997575122765482, 0.9998993885571483, 0.9998281067799668, 0.9997626709892459, 0.9996331044270509, 0.000559584346034818, 0.9991378498451675, 0.9997250208629063, 0.9996699370640659, 0.9998587661766247, 0.21219210110010717, 0.7877543800670487, 0.9997812161280437, 0.9997926131849769, 0.9999600883865152, 0.7521129714410683, 0.2479041566988502, 0.9999100315722141, 0.2649827163750775, 0.7350208878014686, 0.9998087602983721, 0.9998288644244253, 0.9995572355654861, 0.9996868360499269, 0.9998661804438534, 0.9998363102394928, 0.9999223849048487, 0.9995841007266911, 0.9994053165440825, 0.9997898609203064, 0.9998060298812419, 0.18525792704873062, 0.33851894057932336, 0.3153466917650622, 0.16082501184820133, 0.9998256449498676, 0.9998006932317214, 0.3083517701537322, 0.6915592065175645, 0.9999132044780777, 0.9999471361452205, 0.9996525193654716, 0.999827206806837, 0.9995344223390743, 0.9999515759782082, 0.9998658579460215, 0.9999491842663832, 0.9995111045145939, 0.9998940877973913, 0.9997086081536781, 0.21644678660927796, 0.7834081455634314, 0.9999158489529084, 0.9998625142696025, 0.9999243398856873, 0.9997759366103823, 0.39687622530797345, 0.6030886029043299, 0.999583214010218, 0.00018705501766456736, 0.9997155419082803, 0.9997906242960849, 0.9996687470579136, 0.9998116348623661, 0.9997557887966584, 0.9999272797262961, 0.9999284563563127, 0.9998413279594155, 0.9997240382049193, 0.9995991981858636, 0.999899256973689, 0.19615675884563705, 0.2236970807035428, 0.5799795844226161, 0.9997835159574064, 0.9999154046160729, 0.7265374640572464, 0.2734856361689032, 0.999542744153196, 0.39836633482119166, 0.6001667294888251, 0.0014303451288461427, 0.9996756472129169, 0.9998972437332427, 0.9999443144219086, 0.999840385667914, 0.9999285086068723, 0.3140656414198001, 0.1512167903132371, 0.5347424518988977, 0.999743865445934, 0.9997453176073033, 0.9997593891692238, 0.9999085411753276, 0.9912846603918858, 0.008629549135677747, 0.999834874344428, 0.9996804137934188, 0.999714067652975, 0.9999232915684971, 0.999973683857005, 0.9998360996729203, 0.9998051994681033, 0.9997578173005455, 0.9995589633797933, 0.9998027263370042, 0.999952026393132, 0.999756504022851, 0.7575600058033436, 0.24239670564308913, 0.9998582139090006, 0.9996078319858227, 0.14997906554047039, 0.1958201822373194, 0.01705003672243605, 0.0989310514014403, 0.020725493740446216, 0.08943612077158071, 0.09627655466621074, 0.0028586887917856846, 0.3288513070836318, 0.9997632735278807, 0.3724371416462557, 0.00015609268300346006, 0.627336492990906, 0.9994986564529302, 0.9999258417330202, 0.9996350325465536, 0.9999296880788826, 0.006582776294828679, 0.9932678009308162, 0.765763766187533, 0.23411172372747396, 0.999921264929001, 0.999762591557683, 0.9998943590943332, 0.9996609505627329, 0.9998921462308403, 0.9998613374400266, 0.9998692441268636, 0.12489373045447871, 0.8748853007403157, 0.9997074021610624, 0.9998380582278268, 0.11155590181014162, 0.37823579460876655, 0.0007621240089505832, 0.09783766964903112, 0.04213910666155933, 3.1755167039607634e-05, 0.19332545693713127, 0.0009844101782278366, 0.0022228616927725342, 0.17290688453066358, 0.9999024355203444, 0.9999014927760661, 0.9997559614411047, 0.9997929131730842, 0.04305922774612519, 0.2670890777648803, 0.6897600821973638, 0.9997106546677991, 0.9998326552454843, 0.047090368192260555, 0.9527475503949282, 0.9995747658894288, 0.9995936099031809, 0.999698942704541, 0.2947004329902544, 0.7051209312908181, 0.9996648218663153, 0.9998343069204577, 0.9996133226671984, 0.9995779426245209, 0.9998029932005512, 0.6474379601566139, 0.35251557100981057, 0.9998642679378487, 0.9996626834356488, 0.9996791204658461, 0.11054448656779203, 0.2287434222860109, 0.17080102232173344, 0.0016910992309082519, 0.13742406381696531, 0.10698427766061677, 0.2438743101415058, 0.9998116467846906, 0.9997591294565505, 0.9998516270796591, 0.700648525168234, 0.2992762115110111, 0.04025713861529968, 0.959410585931035, 0.999676105937685, 0.11946764318514264, 0.00027275717622178683, 0.15265309962546003, 0.3352640291059463, 0.12169516012428723, 0.09064630156437382, 0.13342371870182407, 0.046550558075184954, 0.9998833681448235, 0.9998079353270242, 0.9999232644525367, 0.9999313814451758, 0.2675502789056796, 0.7322570637388307, 0.9998054810504341, 0.9997702125148602, 0.0031904704831404217, 0.9967647299746769, 0.9997689862473356, 0.9998164362679458, 0.9995598220562204, 0.20276064798106164, 0.7971901413668947, 0.9998282125288125, 0.9973350827745119, 0.002174422418839779, 0.9998809412647779, 0.9996612027180475, 0.9998566238024367, 0.9998337910368268, 0.08877778242666773, 0.9108767457131144, 0.9998727136192069, 0.9997225765672431, 0.9999488195008746, 0.9997734632209677, 0.9999470336783719, 0.9998067039618664, 0.9998016104286732, 0.9997996985082244, 0.9998090573259543, 0.9995674424847817, 0.9999350961667353, 0.9999562339469571, 0.6818882822936586, 0.3180208732756867, 0.9998159760250037, 0.9998912799938011, 0.9998850345769913, 0.9997071629045007, 0.9997721776864679, 0.46529281479872325, 0.10163549500421827, 0.10129057816596866, 0.21338855059709175, 0.11830647551961607, 0.9999105306796663, 0.9997566878133385, 0.999779173488384, 0.9998667750295834, 0.9996713399983819, 0.9998424956941621, 0.9997950644238918, 0.9999204714156733, 0.6709656632669989, 0.14064897447007205, 0.18834029339957925, 0.9997828609475046, 0.5305839976935587, 0.0014570325242957887, 0.14559117300463303, 0.13718521613369578, 0.007621400896316433, 0.17753380911419456, 0.14228387632388004, 0.569853305120024, 0.28775797408999954, 0.3528334909438054, 0.17573070966839247, 0.16042683405162556, 0.16100732588536498, 0.14992520905943033, 0.9998064022680393, 0.9999028920802386], \"Term\": [\"aboriginal\", \"abuse\", \"accused\", \"adelaide\", \"adelaide\", \"adelaide\", \"adelaide\", \"adelaide\", \"adelaide\", \"aged\", \"airport\", \"alan\", \"allegation\", \"alleged\", \"amid\", \"andrew\", \"animal\", \"announces\", \"appeal\", \"arrest\", \"arrested\", \"artist\", \"assault\", \"attack\", \"attack\", \"attack\", \"aussie\", \"australia\", \"australia\", \"australian\", \"australian\", \"australian\", \"australian\", \"australian\", \"australian\", \"australian\", \"baby\", \"beat\", \"beat\", \"beat\", \"beat\", \"berejiklian\", \"best\", \"biden\", \"billion\", \"black\", \"boat\", \"body\", \"border\", \"boris\", \"breach\", \"break\", \"briefing\", \"brisbane\", \"brisbane\", \"brisbane\", \"budget\", \"building\", \"bushfire\", \"bushfire\", \"bushfire\", \"bushfire\", \"bushfires\", \"bushfires\", \"business\", \"call\", \"call\", \"call\", \"call\", \"call\", \"call\", \"cancer\", \"care\", \"case\", \"cattle\", \"central\", \"centre\", \"centre\", \"change\", \"change\", \"charge\", \"charged\", \"chief\", \"child\", \"china\", \"china\", \"china\", \"chinese\", \"chinese\", \"christmas\", \"city\", \"city\", \"city\", \"claim\", \"climate\", \"close\", \"closure\", \"club\", \"coach\", \"coal\", \"coast\", \"come\", \"commission\", \"community\", \"community\", \"community\", \"company\", \"concern\", \"concern\", \"concern\", \"continues\", \"coronavirus\", \"coronavirus\", \"coronavirus\", \"coronavirus\", \"coronavirus\", \"coronavirus\", \"coronavirus\", \"coronavirus\", \"coronavirus\", \"coronavirus\", \"council\", \"council\", \"country\", \"court\", \"covid\", \"covid\", \"covid\", \"covid\", \"covid\", \"covid\", \"covid\", \"covid\", \"covid\", \"covid\", \"crash\", \"crash\", \"cricket\", \"crisis\", \"cut\", \"cyclone\", \"daniel\", \"data\", \"david\", \"day\", \"dead\", \"dead\", \"dead\", \"death\", \"death\", \"death\", \"death\", \"decision\", \"defends\", \"doctor\", \"dollar\", \"domestic\", \"donald\", \"drone\", \"drought\", \"drought\", \"drought\", \"drug\", \"drum\", \"dy\", \"east\", \"economy\", \"election\", \"election\", \"election\", \"emergency\", \"england\", \"expert\", \"extended\", \"face\", \"facebook\", \"fall\", \"fall\", \"family\", \"family\", \"family\", \"family\", \"family\", \"family\", \"family\", \"farm\", \"farmer\", \"farmer\", \"fatal\", \"fear\", \"federal\", \"female\", \"festival\", \"fight\", \"film\", \"final\", \"finance\", \"find\", \"flooding\", \"food\", \"footage\", \"football\", \"france\", \"free\", \"friday\", \"future\", \"future\", \"game\", \"game\", \"george\", \"global\", \"gold\", \"good\", \"government\", \"government\", \"grand\", \"grant\", \"great\", \"green\", \"guilty\", \"health\", \"help\", \"help\", \"help\", \"high\", \"high\", \"hill\", \"history\", \"hit\", \"hobart\", \"home\", \"hong\", \"hospital\", \"hotel\", \"hour\", \"house\", \"house\", \"house\", \"house\", \"house\", \"housing\", \"human\", \"hunt\", \"impact\", \"india\", \"indigenous\", \"indigenous\", \"indonesia\", \"industry\", \"injured\", \"inquiry\", \"inquiry\", \"inside\", \"international\", \"interview\", \"investigation\", \"jail\", \"jailed\", \"james\", \"john\", \"johnson\", \"kid\", \"kill\", \"killed\", \"killed\", \"killing\", \"king\", \"know\", \"kohler\", \"kong\", \"korea\", \"labor\", \"land\", \"latest\", \"launch\", \"launch\", \"lead\", \"leaf\", \"liberal\", \"life\", \"life\", \"like\", \"line\", \"live\", \"local\", \"local\", \"lockdown\", \"long\", \"long\", \"look\", \"loss\", \"lost\", \"making\", \"march\", \"mark\", \"market\", \"mask\", \"medical\", \"medium\", \"meet\", \"melbourne\", \"melbourne\", \"melbourne\", \"melbourne\", \"mental\", \"michael\", \"million\", \"million\", \"minister\", \"missing\", \"monday\", \"money\", \"month\", \"morrison\", \"mount\", \"murder\", \"music\", \"national\", \"near\", \"need\", \"need\", \"news\", \"north\", \"northern\", \"number\", \"officer\", \"officer\", \"online\", \"open\", \"open\", \"outback\", \"outbreak\", \"pandemic\", \"parent\", \"park\", \"parliament\", \"party\", \"patient\", \"paul\", \"people\", \"perth\", \"perth\", \"perth\", \"peter\", \"plan\", \"player\", \"player\", \"pleads\", \"police\", \"police\", \"police\", \"politics\", \"port\", \"power\", \"premier\", \"president\", \"price\", \"price\", \"price\", \"prime\", \"prince\", \"prison\", \"program\", \"project\", \"project\", \"protest\", \"protester\", \"push\", \"quarantine\", \"queensland\", \"question\", \"race\", \"rain\", \"rape\", \"rate\", \"record\", \"refugee\", \"regional\", \"regional\", \"release\", \"remote\", \"report\", \"report\", \"report\", \"report\", \"report\", \"report\", \"report\", \"report\", \"report\", \"rescue\", \"resident\", \"resident\", \"resident\", \"response\", \"restriction\", \"result\", \"return\", \"reveals\", \"reveals\", \"rise\", \"rise\", \"road\", \"rollout\", \"royal\", \"rugby\", \"rule\", \"rural\", \"russia\", \"safety\", \"safety\", \"sale\", \"save\", \"say\", \"say\", \"say\", \"say\", \"say\", \"say\", \"say\", \"say\", \"say\", \"say\", \"school\", \"scott\", \"search\", \"season\", \"second\", \"second\", \"second\", \"sentenced\", \"service\", \"sexual\", \"sexual\", \"share\", \"shark\", \"ship\", \"shooting\", \"shooting\", \"shot\", \"show\", \"site\", \"smith\", \"social\", \"south\", \"south\", \"speaks\", \"sport\", \"staff\", \"state\", \"state\", \"state\", \"state\", \"state\", \"state\", \"state\", \"station\", \"story\", \"street\", \"student\", \"student\", \"super\", \"super\", \"survivor\", \"sydney\", \"sydney\", \"sydney\", \"sydney\", \"sydney\", \"sydney\", \"sydney\", \"sydney\", \"take\", \"talk\", \"tasmania\", \"tasmanian\", \"team\", \"team\", \"teen\", \"territory\", \"test\", \"test\", \"testing\", \"thousand\", \"thursday\", \"time\", \"time\", \"told\", \"tour\", \"tour\", \"tourism\", \"tourist\", \"town\", \"track\", \"trade\", \"trade\", \"travel\", \"tree\", \"trial\", \"truck\", \"trump\", \"tuesday\", \"turnbull\", \"united\", \"update\", \"vaccination\", \"vaccine\", \"victoria\", \"victorian\", \"victorian\", \"video\", \"violence\", \"wall\", \"warning\", \"warns\", \"water\", \"water\", \"water\", \"water\", \"water\", \"weather\", \"wednesday\", \"week\", \"west\", \"whale\", \"white\", \"wild\", \"win\", \"woman\", \"woman\", \"woman\", \"womens\", \"worker\", \"worker\", \"worker\", \"worker\", \"worker\", \"worker\", \"world\", \"world\", \"world\", \"year\", \"year\", \"year\", \"year\", \"year\", \"young\", \"zealand\"]}, \"R\": 30, \"lambda.step\": 0.01, \"plot.opts\": {\"xlab\": \"PC1\", \"ylab\": \"PC2\"}, \"topic.order\": [4, 6, 1, 7, 9, 5, 10, 2, 8, 3]};\n",
       "\n",
       "function LDAvis_load_lib(url, callback){\n",
       "  var s = document.createElement('script');\n",
       "  s.src = url;\n",
       "  s.async = true;\n",
       "  s.onreadystatechange = s.onload = callback;\n",
       "  s.onerror = function(){console.warn(\"failed to load library \" + url);};\n",
       "  document.getElementsByTagName(\"head\")[0].appendChild(s);\n",
       "}\n",
       "\n",
       "if(typeof(LDAvis) !== \"undefined\"){\n",
       "   // already loaded: just create the visualization\n",
       "   !function(LDAvis){\n",
       "       new LDAvis(\"#\" + \"ldavis_el3718826979894082088761538624\", ldavis_el3718826979894082088761538624_data);\n",
       "   }(LDAvis);\n",
       "}else if(typeof define === \"function\" && define.amd){\n",
       "   // require.js is available: use it to load d3/LDAvis\n",
       "   require.config({paths: {d3: \"https://d3js.org/d3.v5\"}});\n",
       "   require([\"d3\"], function(d3){\n",
       "      window.d3 = d3;\n",
       "      LDAvis_load_lib(\"https://cdn.jsdelivr.net/gh/bmabey/pyLDAvis@3.4.0/pyLDAvis/js/ldavis.v3.0.0.js\", function(){\n",
       "        new LDAvis(\"#\" + \"ldavis_el3718826979894082088761538624\", ldavis_el3718826979894082088761538624_data);\n",
       "      });\n",
       "    });\n",
       "}else{\n",
       "    // require.js not available: dynamically load d3 & LDAvis\n",
       "    LDAvis_load_lib(\"https://d3js.org/d3.v5.js\", function(){\n",
       "         LDAvis_load_lib(\"https://cdn.jsdelivr.net/gh/bmabey/pyLDAvis@3.4.0/pyLDAvis/js/ldavis.v3.0.0.js\", function(){\n",
       "                 new LDAvis(\"#\" + \"ldavis_el3718826979894082088761538624\", ldavis_el3718826979894082088761538624_data);\n",
       "            })\n",
       "         });\n",
       "}\n",
       "</script>"
      ],
      "text/plain": [
       "<IPython.core.display.HTML object>"
      ]
     },
     "execution_count": 47,
     "metadata": {},
     "output_type": "execute_result"
    }
   ],
   "source": [
    "%matplotlib inline\n",
    "import pyLDAvis\n",
    "import pyLDAvis.gensim_models\n",
    "vis = pyLDAvis.gensim_models.prepare(topic_model=lda_model, corpus=bow_corpus, dictionary=dictionary)\n",
    "pyLDAvis.enable_notebook()\n",
    "pyLDAvis.display(vis)"
   ]
  },
  {
   "cell_type": "markdown",
   "metadata": {},
   "source": [
    "## Some other useful functions"
   ]
  },
  {
   "cell_type": "code",
   "execution_count": 49,
   "metadata": {},
   "outputs": [
    {
     "name": "stdout",
     "output_type": "stream",
     "text": [
      "237 : police : 0.038638264\n",
      "1116 : school : 0.023448538\n",
      "284 : house : 0.015517109\n",
      "313 : missing : 0.013521588\n",
      "829 : guilty : 0.012267797\n",
      "3276 : drum : 0.011006853\n",
      "805 : family : 0.0108161485\n",
      "195 : crash : 0.010679763\n",
      "899 : melbourne : 0.010291002\n",
      "541 : search : 0.010139787\n",
      "1023 : announces : 0.010085628\n",
      "649 : dead : 0.009929524\n",
      "111 : help : 0.009835574\n",
      "361 : northern : 0.009358252\n",
      "746 : emergency : 0.009136911\n",
      "545 : finance : 0.008877363\n",
      "9637 : daniel : 0.008723972\n",
      "286 : white : 0.007905053\n",
      "1072 : fatal : 0.0074055726\n",
      "593 : teen : 0.007297871\n"
     ]
    }
   ],
   "source": [
    "#get the top 20 words and their weights for a specific topic\n",
    "topic_id=1\n",
    "top_terms=20\n",
    "for wordid, score in lda_model.get_topic_terms(topic_id, top_terms):\n",
    "    print(wordid, \":\", dictionary[wordid], \":\", score)"
   ]
  },
  {
   "cell_type": "code",
   "execution_count": 50,
   "metadata": {},
   "outputs": [],
   "source": [
    "#### Utility function to get the id for a word\n",
    "\n",
    "def get_id_for_word(dictionary, word):\n",
    "    for k, v in dictionary.iteritems():\n",
    "        if (v==word):\n",
    "            return k\n",
    "    return -1"
   ]
  },
  {
   "cell_type": "code",
   "execution_count": 51,
   "metadata": {},
   "outputs": [
    {
     "name": "stdout",
     "output_type": "stream",
     "text": [
      "Topic: 6\n",
      "18896 : covid : 0.04016209\n",
      "8173 : trump : 0.035681576\n",
      "2232 : queensland : 0.034556262\n",
      "1619 : victoria : 0.029464388\n",
      "18895 : coronavirus : 0.024344463\n",
      "37 : australia : 0.02273457\n",
      "26 : record : 0.019539807\n",
      "1363 : news : 0.019030537\n",
      "1188 : market : 0.0154747665\n",
      "144 : south : 0.014171698\n",
      "620 : victorian : 0.009559413\n",
      "16 : australian : 0.009398527\n",
      "3206 : street : 0.009261894\n",
      "1422 : interview : 0.00879436\n",
      "679 : brisbane : 0.007967626\n",
      "856 : india : 0.0074655465\n",
      "1416 : warning : 0.0072388407\n",
      "1415 : travel : 0.007150871\n",
      "2264 : wall : 0.00696839\n",
      "3056 : video : 0.0069476203\n"
     ]
    }
   ],
   "source": [
    "top_terms=20\n",
    "index=get_id_for_word(dictionary,'market')\n",
    "for topic_id, score in lda_model.get_term_topics(index):\n",
    "    print(\"Topic:\", topic_id)\n",
    "    for wordid, score in lda_model.get_topic_terms(topic_id, top_terms):\n",
    "        print(wordid, \":\", dictionary[wordid], \":\", score)\n"
   ]
  },
  {
   "cell_type": "markdown",
   "metadata": {},
   "source": [
    "## Saving and loading your model for re-use\n",
    "\n",
    "Building a model takes time.Once you have a stable model, you can save it to disk and reload it later."
   ]
  },
  {
   "cell_type": "code",
   "execution_count": 57,
   "metadata": {},
   "outputs": [],
   "source": [
    "# Save model to disk.\n",
    "temp_file = \"./model\"\n",
    "lda_model.save(temp_file)\n",
    "\n",
    "# Load a potentially pretrained model from disk.\n",
    "loaded_lda = gensim.models.LdaModel.load(temp_file)"
   ]
  },
  {
   "cell_type": "markdown",
   "metadata": {},
   "source": [
    "## Testing model on unseen document"
   ]
  },
  {
   "cell_type": "code",
   "execution_count": 59,
   "metadata": {},
   "outputs": [],
   "source": [
    "unseen_document = 'How a Pentagon deal became an identity crisis for Google'"
   ]
  },
  {
   "cell_type": "markdown",
   "metadata": {},
   "source": [
    "In order to compare any new text against the topic model, we first need to process it in the same way as we processed the input texts for the model.\n",
    "We apply the same preprocessing function and next apply the *doc2bow* function to represent it using the same vector representation as we used for modeling."
   ]
  },
  {
   "cell_type": "code",
   "execution_count": 62,
   "metadata": {},
   "outputs": [
    {
     "name": "stdout",
     "output_type": "stream",
     "text": [
      "[(888, 1), (1088, 1), (1922, 1), (5668, 1), (12411, 1)]\n"
     ]
    }
   ],
   "source": [
    "bow_vector = dictionary.doc2bow(preprocess(unseen_document))\n",
    "print(bow_vector)\n"
   ]
  },
  {
   "cell_type": "markdown",
   "metadata": {},
   "source": [
    "We can now pass this representation of the unseen document into the model to compare it against all the topics.\n",
    "The next function returns in index to the topics and a similarity score for the new document. We print the scores and the topics with the top 5 words."
   ]
  },
  {
   "cell_type": "code",
   "execution_count": 64,
   "metadata": {},
   "outputs": [
    {
     "name": "stdout",
     "output_type": "stream",
     "text": [
      "Score: 0.34985679388046265\t Topic_id 8\t Topic: 0.054*\"australia\" + 0.024*\"donald\" + 0.018*\"restriction\" + 0.013*\"world\" + 0.012*\"australian\"\n",
      "Score: 0.32158583402633667\t Topic_id 6\t Topic: 0.040*\"covid\" + 0.036*\"trump\" + 0.035*\"queensland\" + 0.029*\"victoria\" + 0.024*\"coronavirus\"\n",
      "Score: 0.21184629201889038\t Topic_id 9\t Topic: 0.020*\"border\" + 0.017*\"north\" + 0.015*\"china\" + 0.014*\"protest\" + 0.013*\"west\"\n",
      "Score: 0.016674112528562546\t Topic_id 3\t Topic: 0.022*\"government\" + 0.020*\"coast\" + 0.017*\"national\" + 0.015*\"plan\" + 0.015*\"live\"\n",
      "Score: 0.01667405664920807\t Topic_id 5\t Topic: 0.027*\"election\" + 0.022*\"health\" + 0.019*\"say\" + 0.017*\"people\" + 0.016*\"minister\"\n",
      "Score: 0.016673319041728973\t Topic_id 0\t Topic: 0.036*\"case\" + 0.025*\"court\" + 0.022*\"police\" + 0.021*\"woman\" + 0.020*\"child\"\n",
      "Score: 0.016672400757670403\t Topic_id 1\t Topic: 0.039*\"police\" + 0.023*\"school\" + 0.016*\"house\" + 0.014*\"missing\" + 0.012*\"guilty\"\n",
      "Score: 0.016672400757670403\t Topic_id 2\t Topic: 0.016*\"life\" + 0.015*\"premier\" + 0.013*\"time\" + 0.013*\"claim\" + 0.012*\"speaks\"\n",
      "Score: 0.016672400757670403\t Topic_id 4\t Topic: 0.040*\"coronavirus\" + 0.024*\"covid\" + 0.020*\"open\" + 0.017*\"lockdown\" + 0.016*\"hospital\"\n",
      "Score: 0.016672400757670403\t Topic_id 7\t Topic: 0.029*\"home\" + 0.021*\"tasmania\" + 0.019*\"test\" + 0.015*\"royal\" + 0.014*\"return\"\n"
     ]
    }
   ],
   "source": [
    "for index, score in sorted(lda_model[bow_vector], key=lambda tup: -1*tup[1]):\n",
    "    print(\"Score: {}\\t Topic_id {}\\t Topic: {}\".format(score, index, lda_model.print_topic(index, 5)))"
   ]
  },
  {
   "cell_type": "markdown",
   "metadata": {},
   "source": [
    "This text matches best with topic 5 although the score is not very high!"
   ]
  },
  {
   "cell_type": "markdown",
   "metadata": {},
   "source": [
    "### Updating the model with a new document\n",
    "\n",
    "We can also use the unseen documents to extend our model and update the topics. This is useful when processing texts in a stream."
   ]
  },
  {
   "cell_type": "code",
   "execution_count": 71,
   "metadata": {},
   "outputs": [
    {
     "name": "stderr",
     "output_type": "stream",
     "text": [
      "C:\\Users\\szcze\\anaconda3\\Lib\\site-packages\\gensim\\models\\ldamodel.py:850: RuntimeWarning: overflow encountered in exp2\n",
      "  perwordbound, np.exp2(-perwordbound), len(chunk), corpus_words\n"
     ]
    }
   ],
   "source": [
    "# Update the model by incrementally training on the new corpus.\n",
    "\n",
    "other_texts = [['computer', 'time', 'graph'],['survey', 'response', 'eps'],['human', 'system', 'computer']]\n",
    "other_corpus = [dictionary.doc2bow(text) for text in other_texts]\n",
    "\n",
    "# Update the model by incrementally training on the new corpus.\n",
    "lda_model.update(other_corpus)  # update the LDA model with additional documents\n",
    "\n"
   ]
  },
  {
   "cell_type": "markdown",
   "metadata": {},
   "source": [
    "## End of this notebook"
   ]
  }
 ],
 "metadata": {
  "kernelspec": {
   "display_name": "Python 3 (ipykernel)",
   "language": "python",
   "name": "python3"
  },
  "language_info": {
   "codemirror_mode": {
    "name": "ipython",
    "version": 3
   },
   "file_extension": ".py",
   "mimetype": "text/x-python",
   "name": "python",
   "nbconvert_exporter": "python",
   "pygments_lexer": "ipython3",
   "version": "3.12.3"
  }
 },
 "nbformat": 4,
 "nbformat_minor": 4
}
