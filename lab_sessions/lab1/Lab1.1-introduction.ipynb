{
 "cells": [
  {
   "cell_type": "markdown",
   "metadata": {},
   "source": [
    "# Lab-1: Introduction to Natural Language Processing tools\n",
    "\n",
    "Copyright: Vrije Universiteit Amsterdam, Faculty of Humanities, CLTL\n"
   ]
  },
  {
   "cell_type": "markdown",
   "metadata": {},
   "source": [
    "## Lab-1 in a nutshell\n",
    "\n",
    "In this notebook, we try to answer the most important questions you might have about this lab session:\n",
    "* What do I need to have installed on my computer?\n",
    "* How do I work with Jupyter Notebooks?\n",
    "* In what order should I go through the notebooks of Lab-1?\n",
    "* What are we going to discuss in this lab session?\n",
    "* Can you tell me something about the assignment?\n"
   ]
  },
  {
   "cell_type": "markdown",
   "metadata": {},
   "source": [
    "## What do I need to have installed on my computer?\n",
    "We will work with Anaconda, a distribution of Python as well as R that is widely used for scientific computing, particularly data science and machine learning. \n",
    "\n",
    "Please install [Anaconda Python 3.12](https://www.anaconda.com/download/). The install may take a few minutes."
   ]
  },
  {
   "cell_type": "markdown",
   "metadata": {},
   "source": [
    "### What if I already have Python/Anaconda installed?\n",
    "To run the code in the lab sessions you will really need the **Anaconda** distribution with Python **3.12**. To inspect which Python version you have installed, please run the following cell (click on the cell and then click the *play* button at the top of this notebook):"
   ]
  },
  {
   "cell_type": "code",
   "execution_count": 2,
   "metadata": {},
   "outputs": [
    {
     "name": "stdout",
     "output_type": "stream",
     "text": [
      "3.12\n"
     ]
    }
   ],
   "source": [
    "import sys\n",
    "print(f'{sys.version_info.major}.{sys.version_info.minor}')"
   ]
  },
  {
   "cell_type": "markdown",
   "metadata": {},
   "source": [
    "The output should say **3.12**. If this is the case, you are ready!"
   ]
  },
  {
   "cell_type": "markdown",
   "metadata": {},
   "source": [
    "Note that you may have older versions of Python and Anaconda installed on your machine. This could raise incompatibility issues when installing packages during the course. If you come across problems with installing packages, check the Python versions, remove old versions and perhaps reinstall Anaconda as well.\n",
    "\n",
    "If you want to keep multiple environments on your laptop, make sure you know what you are doing as we cannot guarantee that everything will work."
   ]
  },
  {
   "cell_type": "markdown",
   "metadata": {},
   "source": [
    "## How do I work with Jupyter Notebooks? \n",
    "The first choice you have to make is what editor you want to use. One editor that we recommend is [JupyterLab](https://jupyterlab.readthedocs.io/en/stable/index.html) (of course, you are free to use your own preferred editor). You don't have to install it. It is there when you download Anaconda. There are two ways of opening it.\n",
    "\n",
    "1. via Anaconda Navigator\n",
    "    * Step 1: open Anaconda Navigator (see [here](https://docs.anaconda.com/anaconda/navigator/getting-started/) for the documentation on how to start Navigator on your computer.)\n",
    "    * Step 2: you should see something similar to [this](https://user-images.githubusercontent.com/10782481/37635857-265734e6-2c24-11e8-8648-a517ebe23d6c.PNG) on your screen.\n",
    "    * Step 3: click on the icon of jupyterlab\n",
    "    * Step 4: Navigate in the left bar to the folder where you stored the notebooks for Lab 1\n",
    "2. using the command line\n",
    "    * Step 1: open the command line ([on Windows](https://www.lifewire.com/how-to-open-command-prompt-2618089), [on Mac](https://macpaw.com/how-to/use-terminal-on-mac))\n",
    "    * Step 2: type `jupyter-lab` and press enter.\n",
    "    * Step 3: navigate to the folder where you stored the notebooks for Lab 1\n",
    "\n",
    "The documentation for JupyterLab can be found [here](https://jupyterlab.readthedocs.io/en/stable/).\n",
    "    \n",
    "After you've chosen and opened an editor, it is important that you know how to work with Notebooks. \n",
    "We are going to practice NLP using Notebooks. These Notebooks contain instructions and so-called 'code blocks'. The instructions are paragraphs of text that explain the concepts we are going to use. The 'code blocks' contain Python code.\n",
    "\n",
    "Notebooks are pretty straightforward. Some tips:\n",
    "* Cells in a notebook contain code or text. If you run a cell, it will either run the code or render the text.\n",
    "* There are five ways to run a cell:\n",
    "    * Click the 'play' button next to the 'stop' and 'refresh' button in the toolbar.\n",
    "    * Alt + Enter runs the current cell and creates a new cell. \n",
    "    * Ctrl + Enter runs the current cell without creating a new cell.\n",
    "    * Shift + Enter runs the current cell and moves to the next one.\n",
    "    * Use the menu and select *Kernel* -> *Restart Kernal and Run All Cells*\n",
    "* The instructions are written in Markdown. [Here](https://github.com/adam-p/markdown-here/wiki/Markdown-Cheatsheet) is a nice Markdown cheatsheet if you want to write some more.\n",
    "* Explore the menus for more options! You can even create a presentation using Notebooks.\n",
    "\n",
    "If want to know more, [this](https://www.dataquest.io/blog/jupyter-notebook-tutorial/) is a nice tutorial on notebooks."
   ]
  },
  {
   "cell_type": "markdown",
   "metadata": {},
   "source": [
    "## In what order should I go through the notebooks of Lab 1?\n",
    "Please go through the notebooks in the following order:\n",
    "* **Lab1.1-introduction.ipynb** (the notebook you are now reading)\n",
    "* **Lab1.2-introduction-to-NLTK.ipynb** \n",
    "* **Lab1.3-introduction-to-spaCy.ipynb**\n",
    "* **Lab1-assignment.ipynb**"
   ]
  },
  {
   "cell_type": "markdown",
   "metadata": {},
   "source": [
    "## What are we going to discuss in this lab session?\n",
    "Text data is unstructured. But if you want to extract information from text, then you often need to process that data into a more structured representation. The common idea for all Natural Language Processing (NLP) tools is that they try to structure or transform text in some meaningful way. Examples include:\n",
    "\n",
    "* **Sentence splitting:** splitting texts into sentences\n",
    "* **Tokenization:** splitting texts into individual words\n",
    "* **Stop words recognition:** identifying commonly used words (such as 'the', 'a(n)', 'in', etc.) in text, possibly to ignore them in other tasks\n",
    "* **Part-of-speech (POS) tagging:** identifying the parts of speech of words in context (verbs, nouns, adjectives, etc.)\n",
    "* **Morphological analysis:** separating words into morphemes and identifying their classes (e.g. tense/aspect of verbs)\n",
    "* **Stemming:** identifying the stems of words in context by removing inflectional/derivational affixes, such as 'troubl' for 'trouble/troubling/troubled'\n",
    "* **Lemmatization:** identifying the lemmas (dictionary forms) of words in context, such as 'go' for 'go/goes/going/went'\n",
    "* **Word Sense Disambiguation (WSD):** assigning the correct meaning to words in context\n",
    "* **Named Entity Recognition (NER):** identifying people, locations, organizations, etc. in text\n",
    "* **Constituency/dependency parsing:** analyzing the grammatical structure of a sentence\n",
    "* **Semantic Role Labeling (SRL):** analyzing the semantic structure of a sentence (*who* does *what* to *whom*, *where* and *when*)\n",
    "* **Sentiment Analysis:** determining whether a text is mostly positive or negative\n",
    "* **Word Vectors (or Word Embeddings) and Semantic Similarity:** representating the meaning of words as rows of real valued numbers where each point captures a dimension of the word's meaning and where semantically similar words have similar vectors (very popular these days)\n",
    "\n",
    "There are Python libraries available that allow you to run these NLP tasks using Python. In this lab, we introduce two of the most popular ones:\n",
    "* [Natural Language Toolkit](https://www.nltk.org/) (NLTK) (see notebook **Lab1.2-introduction-to-NLTK.ipynb**)\n",
    "* [spaCy](https://spacy.io/) (see notebook **Lab1.3-introduction-to-spaCy.ipynb**)\n",
    "\n",
    "For this lab session, we show how to perform the following tasks using NTLK and spaCy:\n",
    "* **Sentence splitting**\n",
    "* **Tokenization** \n",
    "* **Part-of-speech (POS) tagging** \n",
    "* **Stop words recognition** \n",
    "* **Stemming and Lemmatization** \n",
    "* **Constituency/dependency parsing** \n",
    "* **Named Entity Recognition (NER)** \n",
    "\n",
    "In the notebook in which we introduce NLTK, we not only show how to perform these tasks in NLTK, but we also **explain** them.\n",
    "For SpaCy, we show how to **interpret** the output."
   ]
  },
  {
   "cell_type": "markdown",
   "metadata": {},
   "source": [
    "## Can you tell me something about the assignment?\n",
    "You will run NLTK and spaCy on the same text. You are then asked to compare the output."
   ]
  }
 ],
 "metadata": {
  "kernelspec": {
   "display_name": "Python 3 (ipykernel)",
   "language": "python",
   "name": "python3"
  },
  "language_info": {
   "codemirror_mode": {
    "name": "ipython",
    "version": 3
   },
   "file_extension": ".py",
   "mimetype": "text/x-python",
   "name": "python",
   "nbconvert_exporter": "python",
   "pygments_lexer": "ipython3",
   "version": "3.12.3"
  }
 },
 "nbformat": 4,
 "nbformat_minor": 4
}
